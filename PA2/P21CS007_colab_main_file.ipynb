{
  "nbformat": 4,
  "nbformat_minor": 0,
  "metadata": {
    "accelerator": "GPU",
    "colab": {
      "name": "P21CS007_colab_main_file.ipynb",
      "provenance": [],
      "collapsed_sections": []
    },
    "kernelspec": {
      "display_name": "Python 3",
      "name": "python3"
    },
    "language_info": {
      "name": "python"
    },
    "widgets": {
      "application/vnd.jupyter.widget-state+json": {
        "ea05d761435546c6b50967af912577a9": {
          "model_module": "@jupyter-widgets/controls",
          "model_name": "HBoxModel",
          "model_module_version": "1.5.0",
          "state": {
            "_dom_classes": [],
            "_model_module": "@jupyter-widgets/controls",
            "_model_module_version": "1.5.0",
            "_model_name": "HBoxModel",
            "_view_count": null,
            "_view_module": "@jupyter-widgets/controls",
            "_view_module_version": "1.5.0",
            "_view_name": "HBoxView",
            "box_style": "",
            "children": [
              "IPY_MODEL_aa74422537334f489f8a828cbdacaa48",
              "IPY_MODEL_12d4e8a1b1a2494eb1569993d3c8d7f1",
              "IPY_MODEL_5145f9dd05674ab48841ac09c9da4da3"
            ],
            "layout": "IPY_MODEL_333bffeb9a0a405690103b3b834f7af8"
          }
        },
        "aa74422537334f489f8a828cbdacaa48": {
          "model_module": "@jupyter-widgets/controls",
          "model_name": "HTMLModel",
          "model_module_version": "1.5.0",
          "state": {
            "_dom_classes": [],
            "_model_module": "@jupyter-widgets/controls",
            "_model_module_version": "1.5.0",
            "_model_name": "HTMLModel",
            "_view_count": null,
            "_view_module": "@jupyter-widgets/controls",
            "_view_module_version": "1.5.0",
            "_view_name": "HTMLView",
            "description": "",
            "description_tooltip": null,
            "layout": "IPY_MODEL_26efc90ec74642b58462d071c537c613",
            "placeholder": "​",
            "style": "IPY_MODEL_d375e52cf20640fa9531ace54bf47308",
            "value": "PGD - Batches: "
          }
        },
        "12d4e8a1b1a2494eb1569993d3c8d7f1": {
          "model_module": "@jupyter-widgets/controls",
          "model_name": "FloatProgressModel",
          "model_module_version": "1.5.0",
          "state": {
            "_dom_classes": [],
            "_model_module": "@jupyter-widgets/controls",
            "_model_module_version": "1.5.0",
            "_model_name": "FloatProgressModel",
            "_view_count": null,
            "_view_module": "@jupyter-widgets/controls",
            "_view_module_version": "1.5.0",
            "_view_name": "ProgressView",
            "bar_style": "info",
            "description": "",
            "description_tooltip": null,
            "layout": "IPY_MODEL_fa97e160e6394d4ea0af7ea6b0236fdc",
            "max": 1,
            "min": 0,
            "orientation": "horizontal",
            "style": "IPY_MODEL_0b6877d7357344e6b674a039328b5e6f",
            "value": 1
          }
        },
        "5145f9dd05674ab48841ac09c9da4da3": {
          "model_module": "@jupyter-widgets/controls",
          "model_name": "HTMLModel",
          "model_module_version": "1.5.0",
          "state": {
            "_dom_classes": [],
            "_model_module": "@jupyter-widgets/controls",
            "_model_module_version": "1.5.0",
            "_model_name": "HTMLModel",
            "_view_count": null,
            "_view_module": "@jupyter-widgets/controls",
            "_view_module_version": "1.5.0",
            "_view_name": "HTMLView",
            "description": "",
            "description_tooltip": null,
            "layout": "IPY_MODEL_19bb664e58e941fe98e80148c7b6f1b3",
            "placeholder": "​",
            "style": "IPY_MODEL_ff39b0b8e04b4b7e84b2f49d5d4c4b44",
            "value": " 313/? [35:30&lt;00:00,  6.72s/it]"
          }
        },
        "333bffeb9a0a405690103b3b834f7af8": {
          "model_module": "@jupyter-widgets/base",
          "model_name": "LayoutModel",
          "model_module_version": "1.2.0",
          "state": {
            "_model_module": "@jupyter-widgets/base",
            "_model_module_version": "1.2.0",
            "_model_name": "LayoutModel",
            "_view_count": null,
            "_view_module": "@jupyter-widgets/base",
            "_view_module_version": "1.2.0",
            "_view_name": "LayoutView",
            "align_content": null,
            "align_items": null,
            "align_self": null,
            "border": null,
            "bottom": null,
            "display": null,
            "flex": null,
            "flex_flow": null,
            "grid_area": null,
            "grid_auto_columns": null,
            "grid_auto_flow": null,
            "grid_auto_rows": null,
            "grid_column": null,
            "grid_gap": null,
            "grid_row": null,
            "grid_template_areas": null,
            "grid_template_columns": null,
            "grid_template_rows": null,
            "height": null,
            "justify_content": null,
            "justify_items": null,
            "left": null,
            "margin": null,
            "max_height": null,
            "max_width": null,
            "min_height": null,
            "min_width": null,
            "object_fit": null,
            "object_position": null,
            "order": null,
            "overflow": null,
            "overflow_x": null,
            "overflow_y": null,
            "padding": null,
            "right": null,
            "top": null,
            "visibility": null,
            "width": null
          }
        },
        "26efc90ec74642b58462d071c537c613": {
          "model_module": "@jupyter-widgets/base",
          "model_name": "LayoutModel",
          "model_module_version": "1.2.0",
          "state": {
            "_model_module": "@jupyter-widgets/base",
            "_model_module_version": "1.2.0",
            "_model_name": "LayoutModel",
            "_view_count": null,
            "_view_module": "@jupyter-widgets/base",
            "_view_module_version": "1.2.0",
            "_view_name": "LayoutView",
            "align_content": null,
            "align_items": null,
            "align_self": null,
            "border": null,
            "bottom": null,
            "display": null,
            "flex": null,
            "flex_flow": null,
            "grid_area": null,
            "grid_auto_columns": null,
            "grid_auto_flow": null,
            "grid_auto_rows": null,
            "grid_column": null,
            "grid_gap": null,
            "grid_row": null,
            "grid_template_areas": null,
            "grid_template_columns": null,
            "grid_template_rows": null,
            "height": null,
            "justify_content": null,
            "justify_items": null,
            "left": null,
            "margin": null,
            "max_height": null,
            "max_width": null,
            "min_height": null,
            "min_width": null,
            "object_fit": null,
            "object_position": null,
            "order": null,
            "overflow": null,
            "overflow_x": null,
            "overflow_y": null,
            "padding": null,
            "right": null,
            "top": null,
            "visibility": null,
            "width": null
          }
        },
        "d375e52cf20640fa9531ace54bf47308": {
          "model_module": "@jupyter-widgets/controls",
          "model_name": "DescriptionStyleModel",
          "model_module_version": "1.5.0",
          "state": {
            "_model_module": "@jupyter-widgets/controls",
            "_model_module_version": "1.5.0",
            "_model_name": "DescriptionStyleModel",
            "_view_count": null,
            "_view_module": "@jupyter-widgets/base",
            "_view_module_version": "1.2.0",
            "_view_name": "StyleView",
            "description_width": ""
          }
        },
        "fa97e160e6394d4ea0af7ea6b0236fdc": {
          "model_module": "@jupyter-widgets/base",
          "model_name": "LayoutModel",
          "model_module_version": "1.2.0",
          "state": {
            "_model_module": "@jupyter-widgets/base",
            "_model_module_version": "1.2.0",
            "_model_name": "LayoutModel",
            "_view_count": null,
            "_view_module": "@jupyter-widgets/base",
            "_view_module_version": "1.2.0",
            "_view_name": "LayoutView",
            "align_content": null,
            "align_items": null,
            "align_self": null,
            "border": null,
            "bottom": null,
            "display": null,
            "flex": null,
            "flex_flow": null,
            "grid_area": null,
            "grid_auto_columns": null,
            "grid_auto_flow": null,
            "grid_auto_rows": null,
            "grid_column": null,
            "grid_gap": null,
            "grid_row": null,
            "grid_template_areas": null,
            "grid_template_columns": null,
            "grid_template_rows": null,
            "height": null,
            "justify_content": null,
            "justify_items": null,
            "left": null,
            "margin": null,
            "max_height": null,
            "max_width": null,
            "min_height": null,
            "min_width": null,
            "object_fit": null,
            "object_position": null,
            "order": null,
            "overflow": null,
            "overflow_x": null,
            "overflow_y": null,
            "padding": null,
            "right": null,
            "top": null,
            "visibility": null,
            "width": "20px"
          }
        },
        "0b6877d7357344e6b674a039328b5e6f": {
          "model_module": "@jupyter-widgets/controls",
          "model_name": "ProgressStyleModel",
          "model_module_version": "1.5.0",
          "state": {
            "_model_module": "@jupyter-widgets/controls",
            "_model_module_version": "1.5.0",
            "_model_name": "ProgressStyleModel",
            "_view_count": null,
            "_view_module": "@jupyter-widgets/base",
            "_view_module_version": "1.2.0",
            "_view_name": "StyleView",
            "bar_color": null,
            "description_width": ""
          }
        },
        "19bb664e58e941fe98e80148c7b6f1b3": {
          "model_module": "@jupyter-widgets/base",
          "model_name": "LayoutModel",
          "model_module_version": "1.2.0",
          "state": {
            "_model_module": "@jupyter-widgets/base",
            "_model_module_version": "1.2.0",
            "_model_name": "LayoutModel",
            "_view_count": null,
            "_view_module": "@jupyter-widgets/base",
            "_view_module_version": "1.2.0",
            "_view_name": "LayoutView",
            "align_content": null,
            "align_items": null,
            "align_self": null,
            "border": null,
            "bottom": null,
            "display": null,
            "flex": null,
            "flex_flow": null,
            "grid_area": null,
            "grid_auto_columns": null,
            "grid_auto_flow": null,
            "grid_auto_rows": null,
            "grid_column": null,
            "grid_gap": null,
            "grid_row": null,
            "grid_template_areas": null,
            "grid_template_columns": null,
            "grid_template_rows": null,
            "height": null,
            "justify_content": null,
            "justify_items": null,
            "left": null,
            "margin": null,
            "max_height": null,
            "max_width": null,
            "min_height": null,
            "min_width": null,
            "object_fit": null,
            "object_position": null,
            "order": null,
            "overflow": null,
            "overflow_x": null,
            "overflow_y": null,
            "padding": null,
            "right": null,
            "top": null,
            "visibility": null,
            "width": null
          }
        },
        "ff39b0b8e04b4b7e84b2f49d5d4c4b44": {
          "model_module": "@jupyter-widgets/controls",
          "model_name": "DescriptionStyleModel",
          "model_module_version": "1.5.0",
          "state": {
            "_model_module": "@jupyter-widgets/controls",
            "_model_module_version": "1.5.0",
            "_model_name": "DescriptionStyleModel",
            "_view_count": null,
            "_view_module": "@jupyter-widgets/base",
            "_view_module_version": "1.2.0",
            "_view_name": "StyleView",
            "description_width": ""
          }
        },
        "c1f8ee22d7b94a388b853cbb4e9da13c": {
          "model_module": "@jupyter-widgets/controls",
          "model_name": "HBoxModel",
          "model_module_version": "1.5.0",
          "state": {
            "_dom_classes": [],
            "_model_module": "@jupyter-widgets/controls",
            "_model_module_version": "1.5.0",
            "_model_name": "HBoxModel",
            "_view_count": null,
            "_view_module": "@jupyter-widgets/controls",
            "_view_module_version": "1.5.0",
            "_view_name": "HBoxView",
            "box_style": "",
            "children": [
              "IPY_MODEL_e38f4b951f224ba583f0421bd3dcab8e",
              "IPY_MODEL_c06c819b5a6d4ea1b42235575f302bb9",
              "IPY_MODEL_9ba920eea55b4ac4a7d189a03ad89b5f"
            ],
            "layout": "IPY_MODEL_f3476585adda4dd38c27d710efa59652"
          }
        },
        "e38f4b951f224ba583f0421bd3dcab8e": {
          "model_module": "@jupyter-widgets/controls",
          "model_name": "HTMLModel",
          "model_module_version": "1.5.0",
          "state": {
            "_dom_classes": [],
            "_model_module": "@jupyter-widgets/controls",
            "_model_module_version": "1.5.0",
            "_model_name": "HTMLModel",
            "_view_count": null,
            "_view_module": "@jupyter-widgets/controls",
            "_view_module_version": "1.5.0",
            "_view_name": "HTMLView",
            "description": "",
            "description_tooltip": null,
            "layout": "IPY_MODEL_3b5ec4d9ff7248aeb1c0d526ebaaf05e",
            "placeholder": "​",
            "style": "IPY_MODEL_e349b22e03dd47efb2a7ddd36152ce33",
            "value": "PGD - Batches: "
          }
        },
        "c06c819b5a6d4ea1b42235575f302bb9": {
          "model_module": "@jupyter-widgets/controls",
          "model_name": "FloatProgressModel",
          "model_module_version": "1.5.0",
          "state": {
            "_dom_classes": [],
            "_model_module": "@jupyter-widgets/controls",
            "_model_module_version": "1.5.0",
            "_model_name": "FloatProgressModel",
            "_view_count": null,
            "_view_module": "@jupyter-widgets/controls",
            "_view_module_version": "1.5.0",
            "_view_name": "ProgressView",
            "bar_style": "info",
            "description": "",
            "description_tooltip": null,
            "layout": "IPY_MODEL_54dd0244853a4ebd9c4bd4d7ebf92a30",
            "max": 1,
            "min": 0,
            "orientation": "horizontal",
            "style": "IPY_MODEL_60b1bae5265f412696405553ec429d5b",
            "value": 1
          }
        },
        "9ba920eea55b4ac4a7d189a03ad89b5f": {
          "model_module": "@jupyter-widgets/controls",
          "model_name": "HTMLModel",
          "model_module_version": "1.5.0",
          "state": {
            "_dom_classes": [],
            "_model_module": "@jupyter-widgets/controls",
            "_model_module_version": "1.5.0",
            "_model_name": "HTMLModel",
            "_view_count": null,
            "_view_module": "@jupyter-widgets/controls",
            "_view_module_version": "1.5.0",
            "_view_name": "HTMLView",
            "description": "",
            "description_tooltip": null,
            "layout": "IPY_MODEL_7458a862f63346f7b18de90758e3e7c3",
            "placeholder": "​",
            "style": "IPY_MODEL_aa0bfa3e67c2442c8c3ead110332e423",
            "value": " 313/? [34:35&lt;00:00,  6.59s/it]"
          }
        },
        "f3476585adda4dd38c27d710efa59652": {
          "model_module": "@jupyter-widgets/base",
          "model_name": "LayoutModel",
          "model_module_version": "1.2.0",
          "state": {
            "_model_module": "@jupyter-widgets/base",
            "_model_module_version": "1.2.0",
            "_model_name": "LayoutModel",
            "_view_count": null,
            "_view_module": "@jupyter-widgets/base",
            "_view_module_version": "1.2.0",
            "_view_name": "LayoutView",
            "align_content": null,
            "align_items": null,
            "align_self": null,
            "border": null,
            "bottom": null,
            "display": null,
            "flex": null,
            "flex_flow": null,
            "grid_area": null,
            "grid_auto_columns": null,
            "grid_auto_flow": null,
            "grid_auto_rows": null,
            "grid_column": null,
            "grid_gap": null,
            "grid_row": null,
            "grid_template_areas": null,
            "grid_template_columns": null,
            "grid_template_rows": null,
            "height": null,
            "justify_content": null,
            "justify_items": null,
            "left": null,
            "margin": null,
            "max_height": null,
            "max_width": null,
            "min_height": null,
            "min_width": null,
            "object_fit": null,
            "object_position": null,
            "order": null,
            "overflow": null,
            "overflow_x": null,
            "overflow_y": null,
            "padding": null,
            "right": null,
            "top": null,
            "visibility": null,
            "width": null
          }
        },
        "3b5ec4d9ff7248aeb1c0d526ebaaf05e": {
          "model_module": "@jupyter-widgets/base",
          "model_name": "LayoutModel",
          "model_module_version": "1.2.0",
          "state": {
            "_model_module": "@jupyter-widgets/base",
            "_model_module_version": "1.2.0",
            "_model_name": "LayoutModel",
            "_view_count": null,
            "_view_module": "@jupyter-widgets/base",
            "_view_module_version": "1.2.0",
            "_view_name": "LayoutView",
            "align_content": null,
            "align_items": null,
            "align_self": null,
            "border": null,
            "bottom": null,
            "display": null,
            "flex": null,
            "flex_flow": null,
            "grid_area": null,
            "grid_auto_columns": null,
            "grid_auto_flow": null,
            "grid_auto_rows": null,
            "grid_column": null,
            "grid_gap": null,
            "grid_row": null,
            "grid_template_areas": null,
            "grid_template_columns": null,
            "grid_template_rows": null,
            "height": null,
            "justify_content": null,
            "justify_items": null,
            "left": null,
            "margin": null,
            "max_height": null,
            "max_width": null,
            "min_height": null,
            "min_width": null,
            "object_fit": null,
            "object_position": null,
            "order": null,
            "overflow": null,
            "overflow_x": null,
            "overflow_y": null,
            "padding": null,
            "right": null,
            "top": null,
            "visibility": null,
            "width": null
          }
        },
        "e349b22e03dd47efb2a7ddd36152ce33": {
          "model_module": "@jupyter-widgets/controls",
          "model_name": "DescriptionStyleModel",
          "model_module_version": "1.5.0",
          "state": {
            "_model_module": "@jupyter-widgets/controls",
            "_model_module_version": "1.5.0",
            "_model_name": "DescriptionStyleModel",
            "_view_count": null,
            "_view_module": "@jupyter-widgets/base",
            "_view_module_version": "1.2.0",
            "_view_name": "StyleView",
            "description_width": ""
          }
        },
        "54dd0244853a4ebd9c4bd4d7ebf92a30": {
          "model_module": "@jupyter-widgets/base",
          "model_name": "LayoutModel",
          "model_module_version": "1.2.0",
          "state": {
            "_model_module": "@jupyter-widgets/base",
            "_model_module_version": "1.2.0",
            "_model_name": "LayoutModel",
            "_view_count": null,
            "_view_module": "@jupyter-widgets/base",
            "_view_module_version": "1.2.0",
            "_view_name": "LayoutView",
            "align_content": null,
            "align_items": null,
            "align_self": null,
            "border": null,
            "bottom": null,
            "display": null,
            "flex": null,
            "flex_flow": null,
            "grid_area": null,
            "grid_auto_columns": null,
            "grid_auto_flow": null,
            "grid_auto_rows": null,
            "grid_column": null,
            "grid_gap": null,
            "grid_row": null,
            "grid_template_areas": null,
            "grid_template_columns": null,
            "grid_template_rows": null,
            "height": null,
            "justify_content": null,
            "justify_items": null,
            "left": null,
            "margin": null,
            "max_height": null,
            "max_width": null,
            "min_height": null,
            "min_width": null,
            "object_fit": null,
            "object_position": null,
            "order": null,
            "overflow": null,
            "overflow_x": null,
            "overflow_y": null,
            "padding": null,
            "right": null,
            "top": null,
            "visibility": null,
            "width": "20px"
          }
        },
        "60b1bae5265f412696405553ec429d5b": {
          "model_module": "@jupyter-widgets/controls",
          "model_name": "ProgressStyleModel",
          "model_module_version": "1.5.0",
          "state": {
            "_model_module": "@jupyter-widgets/controls",
            "_model_module_version": "1.5.0",
            "_model_name": "ProgressStyleModel",
            "_view_count": null,
            "_view_module": "@jupyter-widgets/base",
            "_view_module_version": "1.2.0",
            "_view_name": "StyleView",
            "bar_color": null,
            "description_width": ""
          }
        },
        "7458a862f63346f7b18de90758e3e7c3": {
          "model_module": "@jupyter-widgets/base",
          "model_name": "LayoutModel",
          "model_module_version": "1.2.0",
          "state": {
            "_model_module": "@jupyter-widgets/base",
            "_model_module_version": "1.2.0",
            "_model_name": "LayoutModel",
            "_view_count": null,
            "_view_module": "@jupyter-widgets/base",
            "_view_module_version": "1.2.0",
            "_view_name": "LayoutView",
            "align_content": null,
            "align_items": null,
            "align_self": null,
            "border": null,
            "bottom": null,
            "display": null,
            "flex": null,
            "flex_flow": null,
            "grid_area": null,
            "grid_auto_columns": null,
            "grid_auto_flow": null,
            "grid_auto_rows": null,
            "grid_column": null,
            "grid_gap": null,
            "grid_row": null,
            "grid_template_areas": null,
            "grid_template_columns": null,
            "grid_template_rows": null,
            "height": null,
            "justify_content": null,
            "justify_items": null,
            "left": null,
            "margin": null,
            "max_height": null,
            "max_width": null,
            "min_height": null,
            "min_width": null,
            "object_fit": null,
            "object_position": null,
            "order": null,
            "overflow": null,
            "overflow_x": null,
            "overflow_y": null,
            "padding": null,
            "right": null,
            "top": null,
            "visibility": null,
            "width": null
          }
        },
        "aa0bfa3e67c2442c8c3ead110332e423": {
          "model_module": "@jupyter-widgets/controls",
          "model_name": "DescriptionStyleModel",
          "model_module_version": "1.5.0",
          "state": {
            "_model_module": "@jupyter-widgets/controls",
            "_model_module_version": "1.5.0",
            "_model_name": "DescriptionStyleModel",
            "_view_count": null,
            "_view_module": "@jupyter-widgets/base",
            "_view_module_version": "1.2.0",
            "_view_name": "StyleView",
            "description_width": ""
          }
        },
        "b63b4f51f3a44678b0ed30ad34ae0d7b": {
          "model_module": "@jupyter-widgets/controls",
          "model_name": "HBoxModel",
          "model_module_version": "1.5.0",
          "state": {
            "_dom_classes": [],
            "_model_module": "@jupyter-widgets/controls",
            "_model_module_version": "1.5.0",
            "_model_name": "HBoxModel",
            "_view_count": null,
            "_view_module": "@jupyter-widgets/controls",
            "_view_module_version": "1.5.0",
            "_view_name": "HBoxView",
            "box_style": "",
            "children": [
              "IPY_MODEL_a55c4ee2e06743faae47c877fd82ce79",
              "IPY_MODEL_f7cde9fc85fb4c349760c89b03720b42",
              "IPY_MODEL_146a395a604446638d6803fd27a39e52"
            ],
            "layout": "IPY_MODEL_61eb18b542634b23a5527d86e67f3b5d"
          }
        },
        "a55c4ee2e06743faae47c877fd82ce79": {
          "model_module": "@jupyter-widgets/controls",
          "model_name": "HTMLModel",
          "model_module_version": "1.5.0",
          "state": {
            "_dom_classes": [],
            "_model_module": "@jupyter-widgets/controls",
            "_model_module_version": "1.5.0",
            "_model_name": "HTMLModel",
            "_view_count": null,
            "_view_module": "@jupyter-widgets/controls",
            "_view_module_version": "1.5.0",
            "_view_name": "HTMLView",
            "description": "",
            "description_tooltip": null,
            "layout": "IPY_MODEL_2ab86bce528b44899b6e6a03a4c3bcba",
            "placeholder": "​",
            "style": "IPY_MODEL_4c0702f64cec4002a2fa6c1855d5a6f0",
            "value": "PGD - Batches: "
          }
        },
        "f7cde9fc85fb4c349760c89b03720b42": {
          "model_module": "@jupyter-widgets/controls",
          "model_name": "FloatProgressModel",
          "model_module_version": "1.5.0",
          "state": {
            "_dom_classes": [],
            "_model_module": "@jupyter-widgets/controls",
            "_model_module_version": "1.5.0",
            "_model_name": "FloatProgressModel",
            "_view_count": null,
            "_view_module": "@jupyter-widgets/controls",
            "_view_module_version": "1.5.0",
            "_view_name": "ProgressView",
            "bar_style": "info",
            "description": "",
            "description_tooltip": null,
            "layout": "IPY_MODEL_b1aff593b83e453b88ace9c1c9bbc436",
            "max": 1,
            "min": 0,
            "orientation": "horizontal",
            "style": "IPY_MODEL_c10e5ff452c349aa981d18708ccdfbd5",
            "value": 1
          }
        },
        "146a395a604446638d6803fd27a39e52": {
          "model_module": "@jupyter-widgets/controls",
          "model_name": "HTMLModel",
          "model_module_version": "1.5.0",
          "state": {
            "_dom_classes": [],
            "_model_module": "@jupyter-widgets/controls",
            "_model_module_version": "1.5.0",
            "_model_name": "HTMLModel",
            "_view_count": null,
            "_view_module": "@jupyter-widgets/controls",
            "_view_module_version": "1.5.0",
            "_view_name": "HTMLView",
            "description": "",
            "description_tooltip": null,
            "layout": "IPY_MODEL_f886e390b9094971afcb88c935f02f4c",
            "placeholder": "​",
            "style": "IPY_MODEL_dfca13d938e148cbae59aa7a79240125",
            "value": " 313/? [34:00&lt;00:00,  6.36s/it]"
          }
        },
        "61eb18b542634b23a5527d86e67f3b5d": {
          "model_module": "@jupyter-widgets/base",
          "model_name": "LayoutModel",
          "model_module_version": "1.2.0",
          "state": {
            "_model_module": "@jupyter-widgets/base",
            "_model_module_version": "1.2.0",
            "_model_name": "LayoutModel",
            "_view_count": null,
            "_view_module": "@jupyter-widgets/base",
            "_view_module_version": "1.2.0",
            "_view_name": "LayoutView",
            "align_content": null,
            "align_items": null,
            "align_self": null,
            "border": null,
            "bottom": null,
            "display": null,
            "flex": null,
            "flex_flow": null,
            "grid_area": null,
            "grid_auto_columns": null,
            "grid_auto_flow": null,
            "grid_auto_rows": null,
            "grid_column": null,
            "grid_gap": null,
            "grid_row": null,
            "grid_template_areas": null,
            "grid_template_columns": null,
            "grid_template_rows": null,
            "height": null,
            "justify_content": null,
            "justify_items": null,
            "left": null,
            "margin": null,
            "max_height": null,
            "max_width": null,
            "min_height": null,
            "min_width": null,
            "object_fit": null,
            "object_position": null,
            "order": null,
            "overflow": null,
            "overflow_x": null,
            "overflow_y": null,
            "padding": null,
            "right": null,
            "top": null,
            "visibility": null,
            "width": null
          }
        },
        "2ab86bce528b44899b6e6a03a4c3bcba": {
          "model_module": "@jupyter-widgets/base",
          "model_name": "LayoutModel",
          "model_module_version": "1.2.0",
          "state": {
            "_model_module": "@jupyter-widgets/base",
            "_model_module_version": "1.2.0",
            "_model_name": "LayoutModel",
            "_view_count": null,
            "_view_module": "@jupyter-widgets/base",
            "_view_module_version": "1.2.0",
            "_view_name": "LayoutView",
            "align_content": null,
            "align_items": null,
            "align_self": null,
            "border": null,
            "bottom": null,
            "display": null,
            "flex": null,
            "flex_flow": null,
            "grid_area": null,
            "grid_auto_columns": null,
            "grid_auto_flow": null,
            "grid_auto_rows": null,
            "grid_column": null,
            "grid_gap": null,
            "grid_row": null,
            "grid_template_areas": null,
            "grid_template_columns": null,
            "grid_template_rows": null,
            "height": null,
            "justify_content": null,
            "justify_items": null,
            "left": null,
            "margin": null,
            "max_height": null,
            "max_width": null,
            "min_height": null,
            "min_width": null,
            "object_fit": null,
            "object_position": null,
            "order": null,
            "overflow": null,
            "overflow_x": null,
            "overflow_y": null,
            "padding": null,
            "right": null,
            "top": null,
            "visibility": null,
            "width": null
          }
        },
        "4c0702f64cec4002a2fa6c1855d5a6f0": {
          "model_module": "@jupyter-widgets/controls",
          "model_name": "DescriptionStyleModel",
          "model_module_version": "1.5.0",
          "state": {
            "_model_module": "@jupyter-widgets/controls",
            "_model_module_version": "1.5.0",
            "_model_name": "DescriptionStyleModel",
            "_view_count": null,
            "_view_module": "@jupyter-widgets/base",
            "_view_module_version": "1.2.0",
            "_view_name": "StyleView",
            "description_width": ""
          }
        },
        "b1aff593b83e453b88ace9c1c9bbc436": {
          "model_module": "@jupyter-widgets/base",
          "model_name": "LayoutModel",
          "model_module_version": "1.2.0",
          "state": {
            "_model_module": "@jupyter-widgets/base",
            "_model_module_version": "1.2.0",
            "_model_name": "LayoutModel",
            "_view_count": null,
            "_view_module": "@jupyter-widgets/base",
            "_view_module_version": "1.2.0",
            "_view_name": "LayoutView",
            "align_content": null,
            "align_items": null,
            "align_self": null,
            "border": null,
            "bottom": null,
            "display": null,
            "flex": null,
            "flex_flow": null,
            "grid_area": null,
            "grid_auto_columns": null,
            "grid_auto_flow": null,
            "grid_auto_rows": null,
            "grid_column": null,
            "grid_gap": null,
            "grid_row": null,
            "grid_template_areas": null,
            "grid_template_columns": null,
            "grid_template_rows": null,
            "height": null,
            "justify_content": null,
            "justify_items": null,
            "left": null,
            "margin": null,
            "max_height": null,
            "max_width": null,
            "min_height": null,
            "min_width": null,
            "object_fit": null,
            "object_position": null,
            "order": null,
            "overflow": null,
            "overflow_x": null,
            "overflow_y": null,
            "padding": null,
            "right": null,
            "top": null,
            "visibility": null,
            "width": "20px"
          }
        },
        "c10e5ff452c349aa981d18708ccdfbd5": {
          "model_module": "@jupyter-widgets/controls",
          "model_name": "ProgressStyleModel",
          "model_module_version": "1.5.0",
          "state": {
            "_model_module": "@jupyter-widgets/controls",
            "_model_module_version": "1.5.0",
            "_model_name": "ProgressStyleModel",
            "_view_count": null,
            "_view_module": "@jupyter-widgets/base",
            "_view_module_version": "1.2.0",
            "_view_name": "StyleView",
            "bar_color": null,
            "description_width": ""
          }
        },
        "f886e390b9094971afcb88c935f02f4c": {
          "model_module": "@jupyter-widgets/base",
          "model_name": "LayoutModel",
          "model_module_version": "1.2.0",
          "state": {
            "_model_module": "@jupyter-widgets/base",
            "_model_module_version": "1.2.0",
            "_model_name": "LayoutModel",
            "_view_count": null,
            "_view_module": "@jupyter-widgets/base",
            "_view_module_version": "1.2.0",
            "_view_name": "LayoutView",
            "align_content": null,
            "align_items": null,
            "align_self": null,
            "border": null,
            "bottom": null,
            "display": null,
            "flex": null,
            "flex_flow": null,
            "grid_area": null,
            "grid_auto_columns": null,
            "grid_auto_flow": null,
            "grid_auto_rows": null,
            "grid_column": null,
            "grid_gap": null,
            "grid_row": null,
            "grid_template_areas": null,
            "grid_template_columns": null,
            "grid_template_rows": null,
            "height": null,
            "justify_content": null,
            "justify_items": null,
            "left": null,
            "margin": null,
            "max_height": null,
            "max_width": null,
            "min_height": null,
            "min_width": null,
            "object_fit": null,
            "object_position": null,
            "order": null,
            "overflow": null,
            "overflow_x": null,
            "overflow_y": null,
            "padding": null,
            "right": null,
            "top": null,
            "visibility": null,
            "width": null
          }
        },
        "dfca13d938e148cbae59aa7a79240125": {
          "model_module": "@jupyter-widgets/controls",
          "model_name": "DescriptionStyleModel",
          "model_module_version": "1.5.0",
          "state": {
            "_model_module": "@jupyter-widgets/controls",
            "_model_module_version": "1.5.0",
            "_model_name": "DescriptionStyleModel",
            "_view_count": null,
            "_view_module": "@jupyter-widgets/base",
            "_view_module_version": "1.2.0",
            "_view_name": "StyleView",
            "description_width": ""
          }
        },
        "1110c00a18714205a7a8af86092f4c53": {
          "model_module": "@jupyter-widgets/controls",
          "model_name": "HBoxModel",
          "model_module_version": "1.5.0",
          "state": {
            "_dom_classes": [],
            "_model_module": "@jupyter-widgets/controls",
            "_model_module_version": "1.5.0",
            "_model_name": "HBoxModel",
            "_view_count": null,
            "_view_module": "@jupyter-widgets/controls",
            "_view_module_version": "1.5.0",
            "_view_name": "HBoxView",
            "box_style": "",
            "children": [
              "IPY_MODEL_488edc7828d24d59b8de10dfcc090218",
              "IPY_MODEL_ef2a54781ff34157b85d6fa52c443864",
              "IPY_MODEL_269b5bd1549e4536a7708a8ccb418517"
            ],
            "layout": "IPY_MODEL_591a9d59ca6547a69ade7e2569288675"
          }
        },
        "488edc7828d24d59b8de10dfcc090218": {
          "model_module": "@jupyter-widgets/controls",
          "model_name": "HTMLModel",
          "model_module_version": "1.5.0",
          "state": {
            "_dom_classes": [],
            "_model_module": "@jupyter-widgets/controls",
            "_model_module_version": "1.5.0",
            "_model_name": "HTMLModel",
            "_view_count": null,
            "_view_module": "@jupyter-widgets/controls",
            "_view_module_version": "1.5.0",
            "_view_name": "HTMLView",
            "description": "",
            "description_tooltip": null,
            "layout": "IPY_MODEL_d8a6eb02a8184823b5ae4173d646a7e7",
            "placeholder": "​",
            "style": "IPY_MODEL_2f9cba8340da46d49990aafd0de59c55",
            "value": "PGD - Batches: "
          }
        },
        "ef2a54781ff34157b85d6fa52c443864": {
          "model_module": "@jupyter-widgets/controls",
          "model_name": "FloatProgressModel",
          "model_module_version": "1.5.0",
          "state": {
            "_dom_classes": [],
            "_model_module": "@jupyter-widgets/controls",
            "_model_module_version": "1.5.0",
            "_model_name": "FloatProgressModel",
            "_view_count": null,
            "_view_module": "@jupyter-widgets/controls",
            "_view_module_version": "1.5.0",
            "_view_name": "ProgressView",
            "bar_style": "info",
            "description": "",
            "description_tooltip": null,
            "layout": "IPY_MODEL_ccaf323386d64bd1bc98e5227d25379f",
            "max": 1,
            "min": 0,
            "orientation": "horizontal",
            "style": "IPY_MODEL_42af124f617e4de9b60995941f32b6c3",
            "value": 1
          }
        },
        "269b5bd1549e4536a7708a8ccb418517": {
          "model_module": "@jupyter-widgets/controls",
          "model_name": "HTMLModel",
          "model_module_version": "1.5.0",
          "state": {
            "_dom_classes": [],
            "_model_module": "@jupyter-widgets/controls",
            "_model_module_version": "1.5.0",
            "_model_name": "HTMLModel",
            "_view_count": null,
            "_view_module": "@jupyter-widgets/controls",
            "_view_module_version": "1.5.0",
            "_view_name": "HTMLView",
            "description": "",
            "description_tooltip": null,
            "layout": "IPY_MODEL_508b9127dbb5425ea2748c7c630c0c5e",
            "placeholder": "​",
            "style": "IPY_MODEL_7a59c4a39df246db8db48ec56bfda97f",
            "value": " 313/? [34:55&lt;00:00,  6.76s/it]"
          }
        },
        "591a9d59ca6547a69ade7e2569288675": {
          "model_module": "@jupyter-widgets/base",
          "model_name": "LayoutModel",
          "model_module_version": "1.2.0",
          "state": {
            "_model_module": "@jupyter-widgets/base",
            "_model_module_version": "1.2.0",
            "_model_name": "LayoutModel",
            "_view_count": null,
            "_view_module": "@jupyter-widgets/base",
            "_view_module_version": "1.2.0",
            "_view_name": "LayoutView",
            "align_content": null,
            "align_items": null,
            "align_self": null,
            "border": null,
            "bottom": null,
            "display": null,
            "flex": null,
            "flex_flow": null,
            "grid_area": null,
            "grid_auto_columns": null,
            "grid_auto_flow": null,
            "grid_auto_rows": null,
            "grid_column": null,
            "grid_gap": null,
            "grid_row": null,
            "grid_template_areas": null,
            "grid_template_columns": null,
            "grid_template_rows": null,
            "height": null,
            "justify_content": null,
            "justify_items": null,
            "left": null,
            "margin": null,
            "max_height": null,
            "max_width": null,
            "min_height": null,
            "min_width": null,
            "object_fit": null,
            "object_position": null,
            "order": null,
            "overflow": null,
            "overflow_x": null,
            "overflow_y": null,
            "padding": null,
            "right": null,
            "top": null,
            "visibility": null,
            "width": null
          }
        },
        "d8a6eb02a8184823b5ae4173d646a7e7": {
          "model_module": "@jupyter-widgets/base",
          "model_name": "LayoutModel",
          "model_module_version": "1.2.0",
          "state": {
            "_model_module": "@jupyter-widgets/base",
            "_model_module_version": "1.2.0",
            "_model_name": "LayoutModel",
            "_view_count": null,
            "_view_module": "@jupyter-widgets/base",
            "_view_module_version": "1.2.0",
            "_view_name": "LayoutView",
            "align_content": null,
            "align_items": null,
            "align_self": null,
            "border": null,
            "bottom": null,
            "display": null,
            "flex": null,
            "flex_flow": null,
            "grid_area": null,
            "grid_auto_columns": null,
            "grid_auto_flow": null,
            "grid_auto_rows": null,
            "grid_column": null,
            "grid_gap": null,
            "grid_row": null,
            "grid_template_areas": null,
            "grid_template_columns": null,
            "grid_template_rows": null,
            "height": null,
            "justify_content": null,
            "justify_items": null,
            "left": null,
            "margin": null,
            "max_height": null,
            "max_width": null,
            "min_height": null,
            "min_width": null,
            "object_fit": null,
            "object_position": null,
            "order": null,
            "overflow": null,
            "overflow_x": null,
            "overflow_y": null,
            "padding": null,
            "right": null,
            "top": null,
            "visibility": null,
            "width": null
          }
        },
        "2f9cba8340da46d49990aafd0de59c55": {
          "model_module": "@jupyter-widgets/controls",
          "model_name": "DescriptionStyleModel",
          "model_module_version": "1.5.0",
          "state": {
            "_model_module": "@jupyter-widgets/controls",
            "_model_module_version": "1.5.0",
            "_model_name": "DescriptionStyleModel",
            "_view_count": null,
            "_view_module": "@jupyter-widgets/base",
            "_view_module_version": "1.2.0",
            "_view_name": "StyleView",
            "description_width": ""
          }
        },
        "ccaf323386d64bd1bc98e5227d25379f": {
          "model_module": "@jupyter-widgets/base",
          "model_name": "LayoutModel",
          "model_module_version": "1.2.0",
          "state": {
            "_model_module": "@jupyter-widgets/base",
            "_model_module_version": "1.2.0",
            "_model_name": "LayoutModel",
            "_view_count": null,
            "_view_module": "@jupyter-widgets/base",
            "_view_module_version": "1.2.0",
            "_view_name": "LayoutView",
            "align_content": null,
            "align_items": null,
            "align_self": null,
            "border": null,
            "bottom": null,
            "display": null,
            "flex": null,
            "flex_flow": null,
            "grid_area": null,
            "grid_auto_columns": null,
            "grid_auto_flow": null,
            "grid_auto_rows": null,
            "grid_column": null,
            "grid_gap": null,
            "grid_row": null,
            "grid_template_areas": null,
            "grid_template_columns": null,
            "grid_template_rows": null,
            "height": null,
            "justify_content": null,
            "justify_items": null,
            "left": null,
            "margin": null,
            "max_height": null,
            "max_width": null,
            "min_height": null,
            "min_width": null,
            "object_fit": null,
            "object_position": null,
            "order": null,
            "overflow": null,
            "overflow_x": null,
            "overflow_y": null,
            "padding": null,
            "right": null,
            "top": null,
            "visibility": null,
            "width": "20px"
          }
        },
        "42af124f617e4de9b60995941f32b6c3": {
          "model_module": "@jupyter-widgets/controls",
          "model_name": "ProgressStyleModel",
          "model_module_version": "1.5.0",
          "state": {
            "_model_module": "@jupyter-widgets/controls",
            "_model_module_version": "1.5.0",
            "_model_name": "ProgressStyleModel",
            "_view_count": null,
            "_view_module": "@jupyter-widgets/base",
            "_view_module_version": "1.2.0",
            "_view_name": "StyleView",
            "bar_color": null,
            "description_width": ""
          }
        },
        "508b9127dbb5425ea2748c7c630c0c5e": {
          "model_module": "@jupyter-widgets/base",
          "model_name": "LayoutModel",
          "model_module_version": "1.2.0",
          "state": {
            "_model_module": "@jupyter-widgets/base",
            "_model_module_version": "1.2.0",
            "_model_name": "LayoutModel",
            "_view_count": null,
            "_view_module": "@jupyter-widgets/base",
            "_view_module_version": "1.2.0",
            "_view_name": "LayoutView",
            "align_content": null,
            "align_items": null,
            "align_self": null,
            "border": null,
            "bottom": null,
            "display": null,
            "flex": null,
            "flex_flow": null,
            "grid_area": null,
            "grid_auto_columns": null,
            "grid_auto_flow": null,
            "grid_auto_rows": null,
            "grid_column": null,
            "grid_gap": null,
            "grid_row": null,
            "grid_template_areas": null,
            "grid_template_columns": null,
            "grid_template_rows": null,
            "height": null,
            "justify_content": null,
            "justify_items": null,
            "left": null,
            "margin": null,
            "max_height": null,
            "max_width": null,
            "min_height": null,
            "min_width": null,
            "object_fit": null,
            "object_position": null,
            "order": null,
            "overflow": null,
            "overflow_x": null,
            "overflow_y": null,
            "padding": null,
            "right": null,
            "top": null,
            "visibility": null,
            "width": null
          }
        },
        "7a59c4a39df246db8db48ec56bfda97f": {
          "model_module": "@jupyter-widgets/controls",
          "model_name": "DescriptionStyleModel",
          "model_module_version": "1.5.0",
          "state": {
            "_model_module": "@jupyter-widgets/controls",
            "_model_module_version": "1.5.0",
            "_model_name": "DescriptionStyleModel",
            "_view_count": null,
            "_view_module": "@jupyter-widgets/base",
            "_view_module_version": "1.2.0",
            "_view_name": "StyleView",
            "description_width": ""
          }
        }
      }
    }
  },
  "cells": [
    {
      "cell_type": "code",
      "metadata": {
        "id": "4WLq7b4RVM6l"
      },
      "source": [
        "import tensorflow as tf\n",
        "import keras\n",
        "import numpy as np\n",
        "import matplotlib.pyplot as plt\n",
        "from keras.datasets import cifar10\n",
        "from keras.models import Model,Sequential\n",
        "from keras.layers import Dense,Flatten,Conv2D,MaxPool2D\n",
        "from keras.applications.vgg16 import VGG16\n",
        "from tensorflow.keras.utils import to_categorical\n",
        "from sklearn.metrics import confusion_matrix"
      ],
      "execution_count": 7,
      "outputs": []
    },
    {
      "cell_type": "code",
      "metadata": {
        "colab": {
          "base_uri": "https://localhost:8080/"
        },
        "id": "KLrOwHvHVZ4H",
        "outputId": "bfa4ab97-44e8-4a2b-fd5b-55e7945b2a23"
      },
      "source": [
        "(train_images, train_labels), (test_images, test_labels) = datasets.cifar10.load_data()"
      ],
      "execution_count": null,
      "outputs": [
        {
          "name": "stdout",
          "output_type": "stream",
          "text": [
            "Downloading data from https://www.cs.toronto.edu/~kriz/cifar-10-python.tar.gz\n",
            "170500096/170498071 [==============================] - 3s 0us/step\n",
            "170508288/170498071 [==============================] - 3s 0us/step\n"
          ]
        }
      ]
    },
    {
      "cell_type": "code",
      "metadata": {
        "colab": {
          "base_uri": "https://localhost:8080/"
        },
        "id": "mDKmw6g3VbCA",
        "outputId": "53e19ed3-23c6-45be-b4a3-3d6886ef4d41"
      },
      "source": [
        "print(f\"X_train shape: {train_images.shape}\")\n",
        "print(f\"y_train shape: {train_labels.shape}\")\n",
        "print(f\"X_test shape: {test_images.shape}\")\n",
        "print(f\"y_test shape: {test_labels.shape}\")"
      ],
      "execution_count": null,
      "outputs": [
        {
          "name": "stdout",
          "output_type": "stream",
          "text": [
            "X_train shape: (50000, 32, 32, 3)\n",
            "y_train shape: (50000, 1)\n",
            "X_test shape: (10000, 32, 32, 3)\n",
            "y_test shape: (10000, 1)\n"
          ]
        }
      ]
    },
    {
      "cell_type": "code",
      "metadata": {
        "id": "qZMDmSv_VcVu"
      },
      "source": [
        "vgg16_keras_model = VGG16(include_top=False,weights=None,pooling='max')\n",
        "\n",
        "brute_model= Sequential()\n",
        "\n",
        "brute_model.add(vgg16_keras_model)\n",
        "brute_model.add(Flatten())\n",
        "brute_model.add(Dense(4096, activation=('relu'))) \n",
        "brute_model.add(Dense(4096, activation=('relu')))\n",
        "brute_model.add(Dense(10, activation=('softmax')))\n",
        "\n",
        "brute_model.summary()"
      ],
      "execution_count": null,
      "outputs": []
    },
    {
      "cell_type": "code",
      "metadata": {
        "colab": {
          "base_uri": "https://localhost:8080/"
        },
        "id": "tdBj5O15Vdwo",
        "outputId": "72fc88ab-88b1-41ec-befa-09ab805950a5"
      },
      "source": [
        "brute_model.summary()"
      ],
      "execution_count": null,
      "outputs": [
        {
          "name": "stdout",
          "output_type": "stream",
          "text": [
            "Model: \"sequential\"\n",
            "_________________________________________________________________\n",
            " Layer (type)                Output Shape              Param #   \n",
            "=================================================================\n",
            " vgg16 (Functional)          (None, 512)               14714688  \n",
            "                                                                 \n",
            " flatten (Flatten)           (None, 512)               0         \n",
            "                                                                 \n",
            " dense (Dense)               (None, 4096)              2101248   \n",
            "                                                                 \n",
            " dense_1 (Dense)             (None, 4096)              16781312  \n",
            "                                                                 \n",
            " dense_2 (Dense)             (None, 10)                40970     \n",
            "                                                                 \n",
            "=================================================================\n",
            "Total params: 33,638,218\n",
            "Trainable params: 33,638,218\n",
            "Non-trainable params: 0\n",
            "_________________________________________________________________\n"
          ]
        }
      ]
    },
    {
      "cell_type": "code",
      "metadata": {
        "colab": {
          "base_uri": "https://localhost:8080/"
        },
        "id": "Z9rCphI3W5hG",
        "outputId": "69dc9197-d16d-4fca-d272-b5f5632b8d64"
      },
      "source": [
        "from sklearn.model_selection import train_test_split\n",
        "\n",
        "y_train = to_categorical(train_labels, 10)\n",
        "y_test = to_categorical(test_labels, 10)\n",
        "x_train = train_images/255.0\n",
        "x_test = test_images/255.0\n",
        "\n",
        "\n",
        "x_train, x_valid, y_train, y_valid = train_test_split(x_train, y_train, test_size=0.2, random_state=42,shuffle=True)\n",
        "\n",
        "print(x_train.shape)\n",
        "print(y_train.shape)\n",
        "print(x_valid.shape)\n",
        "print(y_valid.shape)\n",
        "print(x_test.shape)\n",
        "print(y_test.shape)\n"
      ],
      "execution_count": null,
      "outputs": [
        {
          "name": "stdout",
          "output_type": "stream",
          "text": [
            "(40000, 32, 32, 3)\n",
            "(40000, 10)\n",
            "(10000, 32, 32, 3)\n",
            "(10000, 10)\n",
            "(10000, 32, 32, 3)\n",
            "(10000, 10)\n"
          ]
        }
      ]
    },
    {
      "cell_type": "code",
      "metadata": {
        "colab": {
          "base_uri": "https://localhost:8080/",
          "height": 283
        },
        "id": "jIr4HjeoQ10W",
        "outputId": "830c96fa-1dfa-4820-800a-17fdd09ef51b"
      },
      "source": [
        "plt.imshow(x_train[0])"
      ],
      "execution_count": null,
      "outputs": [
        {
          "data": {
            "text/plain": [
              "<matplotlib.image.AxesImage at 0x7f5fc03b6610>"
            ]
          },
          "execution_count": 8,
          "metadata": {},
          "output_type": "execute_result"
        },
        {
          "data": {
            "image/png": "[encoded data removed]",
            "text/plain": [
              "<Figure size 432x288 with 1 Axes>"
            ]
          },
          "metadata": {},
          "output_type": "display_data"
        }
      ]
    },
    {
      "cell_type": "code",
      "metadata": {
        "id": "xPOBwxL_qnal"
      },
      "source": [
        "np.save(\"/content/vgg16_cifar10_PA2_dataset/x_train.npy\",x_train)\n",
        "np.save(\"/content/vgg16_cifar10_PA2_dataset/y_train.npy\",y_train)\n",
        "np.save(\"/content/vgg16_cifar10_PA2_dataset/x_test.npy\",x_test)\n",
        "np.save(\"/content/vgg16_cifar10_PA2_dataset/y_test.npy\",y_test)\n",
        "np.save(\"/content/vgg16_cifar10_PA2_dataset/x_valid.npy\",x_valid)\n",
        "np.save(\"/content/vgg16_cifar10_PA2_dataset/y_valid.npy\",y_valid)\n",
        "\n",
        "# x_train = np.load(\"/content/vgg16_cifar10_PA2_dataset/x_train.npy\")\n",
        "# y_train = np.load(\"/content/vgg16_cifar10_PA2_dataset/y_train.npy\")\n",
        "# x_test = np.load(\"/content/vgg16_cifar10_PA2_dataset/x_test.npy\")\n",
        "# y_test = np.load(\"/content/vgg16_cifar10_PA2_dataset/y_test.npy\")\n",
        "# x_valid = np.load(\"/content/vgg16_cifar10_PA2_dataset/x_valid.npy\")\n",
        "# y_valid = np.load(\"/content/vgg16_cifar10_PA2_dataset/y_valid.npy\")"
      ],
      "execution_count": null,
      "outputs": []
    },
    {
      "cell_type": "code",
      "metadata": {
        "colab": {
          "base_uri": "https://localhost:8080/"
        },
        "id": "i4koiLbRriiS",
        "outputId": "25993b03-6ea6-4e57-8974-fcbcc3da016b"
      },
      "source": [
        "!zip -r /content/vgg16_cifar10_PA2_dataset.zip /content/vgg16_cifar10_PA2_dataset"
      ],
      "execution_count": null,
      "outputs": [
        {
          "name": "stdout",
          "output_type": "stream",
          "text": [
            "updating: content/vgg16_cifar10_PA2_dataset/ (stored 0%)\n",
            "updating: content/vgg16_cifar10_PA2_dataset/x_train.npy (deflated 82%)\n",
            "updating: content/vgg16_cifar10_PA2_dataset/x_valid.npy (deflated 82%)\n",
            "updating: content/vgg16_cifar10_PA2_dataset/y_test.npy (deflated 97%)\n",
            "updating: content/vgg16_cifar10_PA2_dataset/x_test.npy (deflated 82%)\n",
            "updating: content/vgg16_cifar10_PA2_dataset/y_valid.npy (deflated 97%)\n",
            "updating: content/vgg16_cifar10_PA2_dataset/y_train.npy (deflated 97%)\n"
          ]
        }
      ]
    },
    {
      "cell_type": "code",
      "metadata": {
        "colab": {
          "base_uri": "https://localhost:8080/"
        },
        "id": "Jx4XZsk2Z6oL",
        "outputId": "d677529c-d00f-4487-d4d9-b2f2dc596a48"
      },
      "source": [
        "brute_model.compile(loss = 'categorical_crossentropy',optimizer = 'sgd',metrics=['accuracy']) \n",
        "history = brute_model.fit(x_train, y_train, validation_data=(x_valid, y_valid), epochs=30, batch_size=32)"
      ],
      "execution_count": null,
      "outputs": [
        {
          "name": "stdout",
          "output_type": "stream",
          "text": [
            "Epoch 1/30\n",
            "1250/1250 [==============================] - 98s 70ms/step - loss: 2.3026 - accuracy: 0.1032 - val_loss: 2.3024 - val_accuracy: 0.1461\n",
            "Epoch 2/30\n",
            "1250/1250 [==============================] - 91s 73ms/step - loss: 2.3020 - accuracy: 0.1125 - val_loss: 2.3010 - val_accuracy: 0.1423\n",
            "Epoch 3/30\n",
            "1250/1250 [==============================] - 90s 72ms/step - loss: 2.2902 - accuracy: 0.1604 - val_loss: 2.2365 - val_accuracy: 0.1601\n",
            "Epoch 4/30\n",
            "1250/1250 [==============================] - 87s 70ms/step - loss: 2.1239 - accuracy: 0.1952 - val_loss: 2.1053 - val_accuracy: 0.2031\n",
            "Epoch 5/30\n",
            "1250/1250 [==============================] - 86s 69ms/step - loss: 1.9831 - accuracy: 0.2362 - val_loss: 1.8686 - val_accuracy: 0.2769\n",
            "Epoch 6/30\n",
            "1250/1250 [==============================] - 86s 69ms/step - loss: 1.8535 - accuracy: 0.2876 - val_loss: 1.8176 - val_accuracy: 0.2929\n",
            "Epoch 7/30\n",
            "1250/1250 [==============================] - 91s 73ms/step - loss: 1.7462 - accuracy: 0.3326 - val_loss: 1.6829 - val_accuracy: 0.3574\n",
            "Epoch 8/30\n",
            "1250/1250 [==============================] - 88s 71ms/step - loss: 1.6518 - accuracy: 0.3730 - val_loss: 1.5986 - val_accuracy: 0.3819\n",
            "Epoch 9/30\n",
            "1250/1250 [==============================] - 88s 70ms/step - loss: 1.5637 - accuracy: 0.4098 - val_loss: 1.4912 - val_accuracy: 0.4297\n",
            "Epoch 10/30\n",
            "1250/1250 [==============================] - 88s 70ms/step - loss: 1.4591 - accuracy: 0.4565 - val_loss: 1.4493 - val_accuracy: 0.4466\n",
            "Epoch 11/30\n",
            "1250/1250 [==============================] - 87s 69ms/step - loss: 1.3539 - accuracy: 0.5020 - val_loss: 1.2435 - val_accuracy: 0.5431\n",
            "Epoch 12/30\n",
            "1250/1250 [==============================] - 87s 69ms/step - loss: 1.2436 - accuracy: 0.5432 - val_loss: 1.1988 - val_accuracy: 0.5552\n",
            "Epoch 13/30\n",
            "1250/1250 [==============================] - 87s 69ms/step - loss: 1.1441 - accuracy: 0.5809 - val_loss: 1.1420 - val_accuracy: 0.5835\n",
            "Epoch 14/30\n",
            "1250/1250 [==============================] - 86s 69ms/step - loss: 1.0524 - accuracy: 0.6161 - val_loss: 1.0098 - val_accuracy: 0.6331\n",
            "Epoch 15/30\n",
            "1250/1250 [==============================] - 86s 69ms/step - loss: 0.9605 - accuracy: 0.6490 - val_loss: 0.9603 - val_accuracy: 0.6557\n",
            "Epoch 16/30\n",
            "1250/1250 [==============================] - 91s 73ms/step - loss: 0.8838 - accuracy: 0.6806 - val_loss: 0.9377 - val_accuracy: 0.6621\n",
            "Epoch 17/30\n",
            "1250/1250 [==============================] - 91s 73ms/step - loss: 0.8046 - accuracy: 0.7115 - val_loss: 0.9743 - val_accuracy: 0.6500\n",
            "Epoch 18/30\n",
            "1250/1250 [==============================] - 87s 70ms/step - loss: 0.7290 - accuracy: 0.7385 - val_loss: 0.9598 - val_accuracy: 0.6704\n",
            "Epoch 19/30\n",
            "1250/1250 [==============================] - 87s 69ms/step - loss: 0.6521 - accuracy: 0.7680 - val_loss: 0.8516 - val_accuracy: 0.7087\n",
            "Epoch 20/30\n",
            "1250/1250 [==============================] - 87s 69ms/step - loss: 0.5764 - accuracy: 0.7982 - val_loss: 0.8216 - val_accuracy: 0.7202\n",
            "Epoch 21/30\n",
            "1250/1250 [==============================] - 87s 70ms/step - loss: 0.5026 - accuracy: 0.8206 - val_loss: 0.8341 - val_accuracy: 0.7275\n",
            "Epoch 22/30\n",
            "1250/1250 [==============================] - 87s 70ms/step - loss: 0.4248 - accuracy: 0.8493 - val_loss: 0.8806 - val_accuracy: 0.7196\n",
            "Epoch 23/30\n",
            "1250/1250 [==============================] - 87s 69ms/step - loss: 0.3637 - accuracy: 0.8721 - val_loss: 0.9800 - val_accuracy: 0.7134\n",
            "Epoch 24/30\n",
            "1250/1250 [==============================] - 87s 70ms/step - loss: 0.3080 - accuracy: 0.8922 - val_loss: 0.9255 - val_accuracy: 0.7286\n",
            "Epoch 25/30\n",
            "1250/1250 [==============================] - 92s 73ms/step - loss: 0.2591 - accuracy: 0.9087 - val_loss: 0.9121 - val_accuracy: 0.7421\n",
            "Epoch 26/30\n",
            "1250/1250 [==============================] - 92s 73ms/step - loss: 0.2130 - accuracy: 0.9251 - val_loss: 1.0595 - val_accuracy: 0.7257\n",
            "Epoch 27/30\n",
            "1250/1250 [==============================] - 92s 73ms/step - loss: 0.1744 - accuracy: 0.9401 - val_loss: 1.0993 - val_accuracy: 0.7230\n",
            "Epoch 28/30\n",
            "1250/1250 [==============================] - 87s 70ms/step - loss: 0.1511 - accuracy: 0.9478 - val_loss: 1.0441 - val_accuracy: 0.7386\n",
            "Epoch 29/30\n",
            "1250/1250 [==============================] - 87s 70ms/step - loss: 0.1209 - accuracy: 0.9582 - val_loss: 1.2889 - val_accuracy: 0.7203\n",
            "Epoch 30/30\n",
            "1250/1250 [==============================] - 87s 70ms/step - loss: 0.1150 - accuracy: 0.9603 - val_loss: 1.1464 - val_accuracy: 0.7308\n"
          ]
        }
      ]
    },
    {
      "cell_type": "code",
      "metadata": {
        "colab": {
          "base_uri": "https://localhost:8080/"
        },
        "id": "0WiMqjG-gBYA",
        "outputId": "20c7e4ae-39d4-4ef0-fd9e-f93a18ea5ece"
      },
      "source": [
        "brute_model.save(\"vgg16_cifar10_PA2\")"
      ],
      "execution_count": null,
      "outputs": [
        {
          "name": "stdout",
          "output_type": "stream",
          "text": [
            "INFO:tensorflow:Assets written to: vgg16_cifar10_PA2/assets\n"
          ]
        }
      ]
    },
    {
      "cell_type": "code",
      "metadata": {
        "colab": {
          "base_uri": "https://localhost:8080/"
        },
        "id": "5mOyVJvsgUhi",
        "outputId": "cc9f3d96-47c9-42de-a257-df77a7e4545b"
      },
      "source": [
        "#!zip -r /content/vgg16_cifar10_PA2.zip /content/vgg16_cifar10_PA2\n",
        "## downloading older from colab\n",
        "# from google.colab import files\n",
        "# files.download(\"/content/vgg16_cifar10_PA2.zip\")"
      ],
      "execution_count": null,
      "outputs": [
        {
          "name": "stdout",
          "output_type": "stream",
          "text": [
            "  adding: content/vgg16_cifar10_PA2/ (stored 0%)\n",
            "  adding: content/vgg16_cifar10_PA2/variables/ (stored 0%)\n",
            "  adding: content/vgg16_cifar10_PA2/variables/variables.index (deflated 64%)\n",
            "  adding: content/vgg16_cifar10_PA2/variables/variables.data-00000-of-00001 (deflated 9%)\n",
            "  adding: content/vgg16_cifar10_PA2/keras_metadata.pb (deflated 96%)\n",
            "  adding: content/vgg16_cifar10_PA2/saved_model.pb (deflated 91%)\n",
            "  adding: content/vgg16_cifar10_PA2/assets/ (stored 0%)\n"
          ]
        }
      ]
    },
    {
      "cell_type": "code",
      "metadata": {
        "colab": {
          "base_uri": "https://localhost:8080/",
          "height": 281
        },
        "id": "HRWGGm0abqfp",
        "outputId": "a3327737-a395-4454-e29b-6bd18e5b3ed1"
      },
      "source": [
        "# plot loss during training\n",
        "plt.subplot(211)\n",
        "plt.title('Loss')\n",
        "plt.plot(history.history['loss'], label='train loss')\n",
        "plt.plot(history.history['val_loss'], label='validation loss')\n",
        "plt.legend()\n",
        "\n",
        "# plot accuracy during training\n",
        "plt.subplot(212)\n",
        "plt.title('Accuracy')\n",
        "plt.plot(history.history['accuracy'], label='train accuracy')\n",
        "plt.plot(history.history['val_accuracy'], label='validation accuracy')\n",
        "plt.legend()\n",
        "plt.show()\n"
      ],
      "execution_count": null,
      "outputs": [
        {
          "data": {
            "image/png": "[encoded data removed]",
            "text/plain": [
              "<Figure size 432x288 with 2 Axes>"
            ]
          },
          "metadata": {},
          "output_type": "display_data"
        }
      ]
    },
    {
      "cell_type": "code",
      "metadata": {
        "colab": {
          "base_uri": "https://localhost:8080/"
        },
        "id": "gDPhobT2aMrR",
        "outputId": "3d8c87c1-c02a-48ed-83a4-f6c9c7fa12a2"
      },
      "source": [
        "from sklearn.metrics import accuracy_score,confusion_matrix\n",
        "\n",
        "print(\"training accuracy:\",accuracy_score(np.argmax(y_train,axis=1),np.argmax(brute_model.predict(x_train),axis=1))*100,\"%\")\n",
        "\n"
      ],
      "execution_count": null,
      "outputs": [
        {
          "name": "stdout",
          "output_type": "stream",
          "text": [
            "training accuracy: 95.66 %\n"
          ]
        }
      ]
    },
    {
      "cell_type": "code",
      "metadata": {
        "id": "lDwbZLoqeCe1"
      },
      "source": [
        "def classwise_accuracy(models,x_test,y_test):\n",
        "\n",
        "\n",
        "  labels = ['airplane', 'automobile', 'bird', 'cat', 'deer', 'dog', 'frog', 'horse', 'ship', 'truck']\n",
        "  print(\"test accuracy:\",accuracy_score(np.argmax(y_test,axis=1),np.argmax(models.predict(x_test),axis=1))*100,\"%\")\n",
        "\n",
        "  confus_matrix = confusion_matrix(np.argmax(y_test,axis=1),np.argmax(models.predict(x_test),axis=1))\n",
        "  print(\"confusion_matrix:\\n\",confus_matrix)\n",
        "  class_accuracy = []\n",
        "  class_TP = []\n",
        "\n",
        "  for i in range(confus_matrix.shape[0]):\n",
        "    for j in range(confus_matrix.shape[1]):\n",
        "      if i == j:\n",
        "        TP = confus_matrix[i][j]\n",
        "        class_TP.append(TP)\n",
        "        \n",
        "  for k in range(confus_matrix.shape[1]):\n",
        "    ca = (class_TP[k] / confus_matrix[:,k].sum())*100\n",
        "    class_accuracy.append(ca)\n",
        "    print(\"class \",k,\" accuracy \",labels[k],\" :\",ca,\"%\")    \n",
        "    \n",
        "  class_accuracy = np.array(class_accuracy)\n",
        "            \n",
        "\n",
        "\n"
      ],
      "execution_count": 4,
      "outputs": []
    },
    {
      "cell_type": "code",
      "metadata": {
        "id": "dpOT7XebpK0s"
      },
      "source": [
        "classwise_accuracy(brute_model,x_test,y_test)"
      ],
      "execution_count": null,
      "outputs": []
    },
    {
      "cell_type": "markdown",
      "metadata": {
        "id": "GXwYd6rifHdp"
      },
      "source": [
        "#(b) Performing 3 attacks"
      ]
    },
    {
      "cell_type": "code",
      "metadata": {
        "colab": {
          "base_uri": "https://localhost:8080/"
        },
        "id": "yp7wNCeAcQtY",
        "outputId": "a83b3610-af3a-4f54-b15e-b4963f6aa872"
      },
      "source": [
        "!pip install adversarial-robustness-toolbox"
      ],
      "execution_count": null,
      "outputs": [
        {
          "name": "stdout",
          "output_type": "stream",
          "text": [
            "Collecting adversarial-robustness-toolbox\n",
            "  Downloading adversarial_robustness_toolbox-1.8.1-py3-none-any.whl (1.1 MB)\n",
            "\u001b[?25l\r\u001b[K     |▎                               | 10 kB 22.6 MB/s eta 0:00:01\r\u001b[K     |▋                               | 20 kB 25.9 MB/s eta 0:00:01\r\u001b[K     |█                               | 30 kB 11.7 MB/s eta 0:00:01\r\u001b[K     |█▏                              | 40 kB 9.3 MB/s eta 0:00:01\r\u001b[K     |█▌                              | 51 kB 4.8 MB/s eta 0:00:01\r\u001b[K     |█▉                              | 61 kB 5.5 MB/s eta 0:00:01\r\u001b[K     |██                              | 71 kB 5.9 MB/s eta 0:00:01\r\u001b[K     |██▍                             | 81 kB 6.6 MB/s eta 0:00:01\r\u001b[K     |██▊                             | 92 kB 6.4 MB/s eta 0:00:01\r\u001b[K     |███                             | 102 kB 5.0 MB/s eta 0:00:01\r\u001b[K     |███▎                            | 112 kB 5.0 MB/s eta 0:00:01\r\u001b[K     |███▋                            | 122 kB 5.0 MB/s eta 0:00:01\r\u001b[K     |███▉                            | 133 kB 5.0 MB/s eta 0:00:01\r\u001b[K     |████▏                           | 143 kB 5.0 MB/s eta 0:00:01\r\u001b[K     |████▌                           | 153 kB 5.0 MB/s eta 0:00:01\r\u001b[K     |████▊                           | 163 kB 5.0 MB/s eta 0:00:01\r\u001b[K     |█████                           | 174 kB 5.0 MB/s eta 0:00:01\r\u001b[K     |█████▍                          | 184 kB 5.0 MB/s eta 0:00:01\r\u001b[K     |█████▋                          | 194 kB 5.0 MB/s eta 0:00:01\r\u001b[K     |██████                          | 204 kB 5.0 MB/s eta 0:00:01\r\u001b[K     |██████▎                         | 215 kB 5.0 MB/s eta 0:00:01\r\u001b[K     |██████▌                         | 225 kB 5.0 MB/s eta 0:00:01\r\u001b[K     |██████▉                         | 235 kB 5.0 MB/s eta 0:00:01\r\u001b[K     |███████▏                        | 245 kB 5.0 MB/s eta 0:00:01\r\u001b[K     |███████▍                        | 256 kB 5.0 MB/s eta 0:00:01\r\u001b[K     |███████▊                        | 266 kB 5.0 MB/s eta 0:00:01\r\u001b[K     |████████                        | 276 kB 5.0 MB/s eta 0:00:01\r\u001b[K     |████████▎                       | 286 kB 5.0 MB/s eta 0:00:01\r\u001b[K     |████████▋                       | 296 kB 5.0 MB/s eta 0:00:01\r\u001b[K     |█████████                       | 307 kB 5.0 MB/s eta 0:00:01\r\u001b[K     |█████████▏                      | 317 kB 5.0 MB/s eta 0:00:01\r\u001b[K     |█████████▌                      | 327 kB 5.0 MB/s eta 0:00:01\r\u001b[K     |█████████▉                      | 337 kB 5.0 MB/s eta 0:00:01\r\u001b[K     |██████████                      | 348 kB 5.0 MB/s eta 0:00:01\r\u001b[K     |██████████▍                     | 358 kB 5.0 MB/s eta 0:00:01\r\u001b[K     |██████████▊                     | 368 kB 5.0 MB/s eta 0:00:01\r\u001b[K     |███████████                     | 378 kB 5.0 MB/s eta 0:00:01\r\u001b[K     |███████████▎                    | 389 kB 5.0 MB/s eta 0:00:01\r\u001b[K     |███████████▋                    | 399 kB 5.0 MB/s eta 0:00:01\r\u001b[K     |███████████▉                    | 409 kB 5.0 MB/s eta 0:00:01\r\u001b[K     |████████████▏                   | 419 kB 5.0 MB/s eta 0:00:01\r\u001b[K     |████████████▌                   | 430 kB 5.0 MB/s eta 0:00:01\r\u001b[K     |████████████▊                   | 440 kB 5.0 MB/s eta 0:00:01\r\u001b[K     |█████████████                   | 450 kB 5.0 MB/s eta 0:00:01\r\u001b[K     |█████████████▍                  | 460 kB 5.0 MB/s eta 0:00:01\r\u001b[K     |█████████████▋                  | 471 kB 5.0 MB/s eta 0:00:01\r\u001b[K     |██████████████                  | 481 kB 5.0 MB/s eta 0:00:01\r\u001b[K     |██████████████▎                 | 491 kB 5.0 MB/s eta 0:00:01\r\u001b[K     |██████████████▌                 | 501 kB 5.0 MB/s eta 0:00:01\r\u001b[K     |██████████████▉                 | 512 kB 5.0 MB/s eta 0:00:01\r\u001b[K     |███████████████▏                | 522 kB 5.0 MB/s eta 0:00:01\r\u001b[K     |███████████████▍                | 532 kB 5.0 MB/s eta 0:00:01\r\u001b[K     |███████████████▊                | 542 kB 5.0 MB/s eta 0:00:01\r\u001b[K     |████████████████                | 552 kB 5.0 MB/s eta 0:00:01\r\u001b[K     |████████████████▎               | 563 kB 5.0 MB/s eta 0:00:01\r\u001b[K     |████████████████▋               | 573 kB 5.0 MB/s eta 0:00:01\r\u001b[K     |█████████████████               | 583 kB 5.0 MB/s eta 0:00:01\r\u001b[K     |█████████████████▏              | 593 kB 5.0 MB/s eta 0:00:01\r\u001b[K     |█████████████████▌              | 604 kB 5.0 MB/s eta 0:00:01\r\u001b[K     |█████████████████▉              | 614 kB 5.0 MB/s eta 0:00:01\r\u001b[K     |██████████████████              | 624 kB 5.0 MB/s eta 0:00:01\r\u001b[K     |██████████████████▍             | 634 kB 5.0 MB/s eta 0:00:01\r\u001b[K     |██████████████████▊             | 645 kB 5.0 MB/s eta 0:00:01\r\u001b[K     |███████████████████             | 655 kB 5.0 MB/s eta 0:00:01\r\u001b[K     |███████████████████▎            | 665 kB 5.0 MB/s eta 0:00:01\r\u001b[K     |███████████████████▋            | 675 kB 5.0 MB/s eta 0:00:01\r\u001b[K     |███████████████████▉            | 686 kB 5.0 MB/s eta 0:00:01\r\u001b[K     |████████████████████▏           | 696 kB 5.0 MB/s eta 0:00:01\r\u001b[K     |████████████████████▌           | 706 kB 5.0 MB/s eta 0:00:01\r\u001b[K     |████████████████████▊           | 716 kB 5.0 MB/s eta 0:00:01\r\u001b[K     |█████████████████████           | 727 kB 5.0 MB/s eta 0:00:01\r\u001b[K     |█████████████████████▍          | 737 kB 5.0 MB/s eta 0:00:01\r\u001b[K     |█████████████████████▋          | 747 kB 5.0 MB/s eta 0:00:01\r\u001b[K     |██████████████████████          | 757 kB 5.0 MB/s eta 0:00:01\r\u001b[K     |██████████████████████▎         | 768 kB 5.0 MB/s eta 0:00:01\r\u001b[K     |██████████████████████▌         | 778 kB 5.0 MB/s eta 0:00:01\r\u001b[K     |██████████████████████▉         | 788 kB 5.0 MB/s eta 0:00:01\r\u001b[K     |███████████████████████▏        | 798 kB 5.0 MB/s eta 0:00:01\r\u001b[K     |███████████████████████▍        | 808 kB 5.0 MB/s eta 0:00:01\r\u001b[K     |███████████████████████▊        | 819 kB 5.0 MB/s eta 0:00:01\r\u001b[K     |████████████████████████        | 829 kB 5.0 MB/s eta 0:00:01\r\u001b[K     |████████████████████████▎       | 839 kB 5.0 MB/s eta 0:00:01\r\u001b[K     |████████████████████████▋       | 849 kB 5.0 MB/s eta 0:00:01\r\u001b[K     |█████████████████████████       | 860 kB 5.0 MB/s eta 0:00:01\r\u001b[K     |█████████████████████████▏      | 870 kB 5.0 MB/s eta 0:00:01\r\u001b[K     |█████████████████████████▌      | 880 kB 5.0 MB/s eta 0:00:01\r\u001b[K     |█████████████████████████▉      | 890 kB 5.0 MB/s eta 0:00:01\r\u001b[K     |██████████████████████████      | 901 kB 5.0 MB/s eta 0:00:01\r\u001b[K     |██████████████████████████▍     | 911 kB 5.0 MB/s eta 0:00:01\r\u001b[K     |██████████████████████████▊     | 921 kB 5.0 MB/s eta 0:00:01\r\u001b[K     |███████████████████████████     | 931 kB 5.0 MB/s eta 0:00:01\r\u001b[K     |███████████████████████████▎    | 942 kB 5.0 MB/s eta 0:00:01\r\u001b[K     |███████████████████████████▋    | 952 kB 5.0 MB/s eta 0:00:01\r\u001b[K     |████████████████████████████    | 962 kB 5.0 MB/s eta 0:00:01\r\u001b[K     |████████████████████████████▏   | 972 kB 5.0 MB/s eta 0:00:01\r\u001b[K     |████████████████████████████▌   | 983 kB 5.0 MB/s eta 0:00:01\r\u001b[K     |████████████████████████████▉   | 993 kB 5.0 MB/s eta 0:00:01\r\u001b[K     |█████████████████████████████   | 1.0 MB 5.0 MB/s eta 0:00:01\r\u001b[K     |█████████████████████████████▍  | 1.0 MB 5.0 MB/s eta 0:00:01\r\u001b[K     |█████████████████████████████▊  | 1.0 MB 5.0 MB/s eta 0:00:01\r\u001b[K     |██████████████████████████████  | 1.0 MB 5.0 MB/s eta 0:00:01\r\u001b[K     |██████████████████████████████▎ | 1.0 MB 5.0 MB/s eta 0:00:01\r\u001b[K     |██████████████████████████████▋ | 1.1 MB 5.0 MB/s eta 0:00:01\r\u001b[K     |██████████████████████████████▉ | 1.1 MB 5.0 MB/s eta 0:00:01\r\u001b[K     |███████████████████████████████▏| 1.1 MB 5.0 MB/s eta 0:00:01\r\u001b[K     |███████████████████████████████▌| 1.1 MB 5.0 MB/s eta 0:00:01\r\u001b[K     |███████████████████████████████▊| 1.1 MB 5.0 MB/s eta 0:00:01\r\u001b[K     |████████████████████████████████| 1.1 MB 5.0 MB/s \n",
            "\u001b[?25hRequirement already satisfied: tqdm in /usr/local/lib/python3.7/dist-packages (from adversarial-robustness-toolbox) (4.62.3)\n",
            "Requirement already satisfied: six in /usr/local/lib/python3.7/dist-packages (from adversarial-robustness-toolbox) (1.15.0)\n",
            "Requirement already satisfied: scikit-learn<1.1.0,>=0.22.2 in /usr/local/lib/python3.7/dist-packages (from adversarial-robustness-toolbox) (1.0.1)\n",
            "Collecting numba>=0.53.1\n",
            "  Downloading numba-0.54.1-cp37-cp37m-manylinux2014_x86_64.manylinux_2_17_x86_64.whl (3.3 MB)\n",
            "\u001b[K     |████████████████████████████████| 3.3 MB 36.4 MB/s \n",
            "\u001b[?25hRequirement already satisfied: scipy>=1.4.1 in /usr/local/lib/python3.7/dist-packages (from adversarial-robustness-toolbox) (1.4.1)\n",
            "Requirement already satisfied: numpy>=1.18.0 in /usr/local/lib/python3.7/dist-packages (from adversarial-robustness-toolbox) (1.19.5)\n",
            "Requirement already satisfied: setuptools in /usr/local/lib/python3.7/dist-packages (from adversarial-robustness-toolbox) (57.4.0)\n",
            "Collecting llvmlite<0.38,>=0.37.0rc1\n",
            "  Downloading llvmlite-0.37.0-cp37-cp37m-manylinux2014_x86_64.whl (26.3 MB)\n",
            "\u001b[K     |████████████████████████████████| 26.3 MB 58.1 MB/s \n",
            "\u001b[?25hRequirement already satisfied: threadpoolctl>=2.0.0 in /usr/local/lib/python3.7/dist-packages (from scikit-learn<1.1.0,>=0.22.2->adversarial-robustness-toolbox) (3.0.0)\n",
            "Requirement already satisfied: joblib>=0.11 in /usr/local/lib/python3.7/dist-packages (from scikit-learn<1.1.0,>=0.22.2->adversarial-robustness-toolbox) (1.1.0)\n",
            "Installing collected packages: llvmlite, numba, adversarial-robustness-toolbox\n",
            "  Attempting uninstall: llvmlite\n",
            "    Found existing installation: llvmlite 0.34.0\n",
            "    Uninstalling llvmlite-0.34.0:\n",
            "      Successfully uninstalled llvmlite-0.34.0\n",
            "  Attempting uninstall: numba\n",
            "    Found existing installation: numba 0.51.2\n",
            "    Uninstalling numba-0.51.2:\n",
            "      Successfully uninstalled numba-0.51.2\n",
            "Successfully installed adversarial-robustness-toolbox-1.8.1 llvmlite-0.37.0 numba-0.54.1\n"
          ]
        }
      ]
    },
    {
      "cell_type": "code",
      "metadata": {
        "id": "-DrBNczJfMts"
      },
      "source": [
        "from art.estimators.classification import TensorFlowV2Classifier\n",
        "from art.attacks.evasion import FastGradientMethod, BasicIterativeMethod, SaliencyMapMethod,ProjectedGradientDescent"
      ],
      "execution_count": null,
      "outputs": []
    },
    {
      "cell_type": "markdown",
      "metadata": {
        "id": "fKeqQiPomql4"
      },
      "source": [
        "#**Untargated Attacks**"
      ]
    },
    {
      "cell_type": "markdown",
      "metadata": {
        "id": "GXlmJhgqq3w5"
      },
      "source": [
        "# FGSM Attack"
      ]
    },
    {
      "cell_type": "code",
      "metadata": {
        "id": "i-tnOmkgfRo_"
      },
      "source": [
        "loss_object = tf.keras.losses.CategoricalCrossentropy()\n",
        "classifier = TensorFlowV2Classifier(model=brute_model, nb_classes=10, input_shape=(32, 32, 3), loss_object=loss_object,clip_values=(0, 1), channels_first=False)"
      ],
      "execution_count": null,
      "outputs": []
    },
    {
      "cell_type": "code",
      "metadata": {
        "colab": {
          "base_uri": "https://localhost:8080/"
        },
        "id": "5ux881nvfSQV",
        "outputId": "e5e7cfb3-604c-4931-b990-52735bca0ce9"
      },
      "source": [
        "attack_fgsm = FastGradientMethod(estimator=classifier,eps = 0.02,batch_size = 32)\n",
        "x_test_adv_fgsm = attack_fgsm.generate(x_test)\n",
        "print(x_test_adv_fgsm.shape)"
      ],
      "execution_count": null,
      "outputs": [
        {
          "name": "stdout",
          "output_type": "stream",
          "text": [
            "(10000, 32, 32, 3)\n"
          ]
        }
      ]
    },
    {
      "cell_type": "code",
      "metadata": {
        "colab": {
          "base_uri": "https://localhost:8080/",
          "height": 763
        },
        "id": "MoNPMDN2nQ0I",
        "outputId": "845a49d6-aa6d-4b3e-d4bd-c62a1ee4368b"
      },
      "source": [
        "plt.imshow((x_test_adv_fgsm[0]*255).astype(np.uint8)) \n",
        "plt.show()\n",
        "\n",
        "plt.imshow((x_test[0]*255).astype(np.uint8))\n",
        "plt.show()\n",
        "\n",
        "plt.imshow(((x_test_adv_fgsm[0] - x_test[0])*255).astype(np.uint8))\n",
        "plt.show()"
      ],
      "execution_count": null,
      "outputs": [
        {
          "data": {
            "image/png": "[encoded data removed]",
            "text/plain": [
              "<Figure size 432x288 with 1 Axes>"
            ]
          },
          "metadata": {},
          "output_type": "display_data"
        },
        {
          "data": {
            "image/png": "[encoded data removed]",
            "text/plain": [
              "<Figure size 432x288 with 1 Axes>"
            ]
          },
          "metadata": {},
          "output_type": "display_data"
        },
        {
          "data": {
            "image/png": "[encoded data removed]",
            "text/plain": [
              "<Figure size 432x288 with 1 Axes>"
            ]
          },
          "metadata": {},
          "output_type": "display_data"
        }
      ]
    },
    {
      "cell_type": "code",
      "metadata": {
        "colab": {
          "base_uri": "https://localhost:8080/",
          "height": 763
        },
        "id": "mI1ovIBSoqB4",
        "outputId": "fd3335f0-5741-48d9-a151-36f913410311"
      },
      "source": [
        "plt.imshow((x_test_adv_fgsm[1]*255).astype(np.uint8))\n",
        "plt.show()\n",
        "\n",
        "plt.imshow((x_test[1]*255).astype(np.uint8))\n",
        "plt.show()\n",
        "\n",
        "plt.imshow(((x_test_adv_fgsm[1] - x_test[1])*255).astype(np.uint8))\n",
        "plt.show()"
      ],
      "execution_count": null,
      "outputs": [
        {
          "data": {
            "image/png": "[encoded data removed]",
            "text/plain": [
              "<Figure size 432x288 with 1 Axes>"
            ]
          },
          "metadata": {},
          "output_type": "display_data"
        },
        {
          "data": {
            "image/png": "[encoded data removed]",
            "text/plain": [
              "<Figure size 432x288 with 1 Axes>"
            ]
          },
          "metadata": {},
          "output_type": "display_data"
        },
        {
          "data": {
            "image/png": "[encoded data removed]",
            "text/plain": [
              "<Figure size 432x288 with 1 Axes>"
            ]
          },
          "metadata": {},
          "output_type": "display_data"
        }
      ]
    },
    {
      "cell_type": "markdown",
      "metadata": {
        "id": "B5kNBukZozJB"
      },
      "source": [
        "**checking wrongly predicting**"
      ]
    },
    {
      "cell_type": "code",
      "metadata": {
        "colab": {
          "base_uri": "https://localhost:8080/"
        },
        "id": "EXN5zTiUoyeA",
        "outputId": "c8e63354-4306-48bc-b8ab-8eb10f6b0b5b"
      },
      "source": [
        "print(\"incorrect label after atack:\",np.argmax(brute_model.predict(np.expand_dims(x_test_adv_fgsm[0],axis=0))))\n",
        "\n",
        "print(\"corect label:\", np.argmax(brute_model.predict(np.expand_dims(x_test[0],axis=0))))"
      ],
      "execution_count": null,
      "outputs": [
        {
          "name": "stdout",
          "output_type": "stream",
          "text": [
            "incorrect label after atack: 5\n",
            "corect label: 3\n"
          ]
        }
      ]
    },
    {
      "cell_type": "markdown",
      "metadata": {
        "id": "0gxGJr7fp2SA"
      },
      "source": [
        "**accuracy after FGSM attack**"
      ]
    },
    {
      "cell_type": "code",
      "metadata": {
        "colab": {
          "base_uri": "https://localhost:8080/"
        },
        "id": "GvhD5buSp1fU",
        "outputId": "0e95dc17-9ac5-4577-bb00-10dcb1fdaf38"
      },
      "source": [
        "print(\"test accuracy:\",accuracy_score(np.argmax(y_test,axis=1),np.argmax(brute_model.predict(x_test_adv_fgsm),axis=1))*100,\"%\")\n",
        "\n",
        "print(\"confusion_matrix:\\n\",confusion_matrix(np.argmax(y_test,axis=1),np.argmax(brute_model.predict(x_test_adv_fgsm),axis=1)))\n"
      ],
      "execution_count": null,
      "outputs": [
        {
          "name": "stdout",
          "output_type": "stream",
          "text": [
            "test accuracy: 21.08 %\n",
            "confusion_matrix:\n",
            " [[250   4 206  36 144   6   5  34 222  93]\n",
            " [ 89 213  17  30  12  11  16  10 174 428]\n",
            " [ 93   2 211 156 234  77  88  49  65  25]\n",
            " [ 28   8 126 178 168 157  93  95  70  77]\n",
            " [ 35   6 189 166 157  68 106 216  36  21]\n",
            " [ 14   3 146 302 101 197  48 124  29  36]\n",
            " [  8  52 128 341 165  24 146  38  45  53]\n",
            " [ 22   2  96  94 363 101  30 232  11  49]\n",
            " [340  26  40  59  42  14  11  23 260 185]\n",
            " [190  95  30  85  45  12  25 119 135 264]]\n"
          ]
        }
      ]
    },
    {
      "cell_type": "code",
      "metadata": {
        "id": "pfjzKDqsr_qG"
      },
      "source": [
        "np.save(\"x_test_adv_fgsm.npy\",x_test_adv_fgsm)"
      ],
      "execution_count": null,
      "outputs": []
    },
    {
      "cell_type": "code",
      "metadata": {
        "id": "LsFC6WigjQIs"
      },
      "source": [
        "from skimage.metrics import structural_similarity as ssim\n",
        "\n",
        "def mean_ssim(x_test,x_test_adv_fgsm):\n",
        "  \n",
        "  all_ssims = 0\n",
        "  for i in range(len(x_test)):\n",
        "    all_ssims += ssim(x_test[i],x_test_adv_fgsm[i], data_range=x_test_adv_fgsm[2].max() - x_test_adv_fgsm[2].min(), multichannel=True)\n",
        "\n",
        "  print(\"Avaerage SSIM:\",all_ssims/len(x_test))\n",
        "\n"
      ],
      "execution_count": null,
      "outputs": []
    },
    {
      "cell_type": "code",
      "metadata": {
        "colab": {
          "base_uri": "https://localhost:8080/"
        },
        "id": "YH8SDTTnwKVG",
        "outputId": "d3686393-38c2-487e-e50b-7a1d8a2c02dd"
      },
      "source": [
        "mean_ssim(x_test,x_test_adv_fgsm)"
      ],
      "execution_count": null,
      "outputs": [
        {
          "name": "stdout",
          "output_type": "stream",
          "text": [
            "Avaerage SSIM: 0.9645990422324064\n"
          ]
        }
      ]
    },
    {
      "cell_type": "markdown",
      "metadata": {
        "id": "3FrXO5Inq8Kh"
      },
      "source": [
        "# PGD Attack"
      ]
    },
    {
      "cell_type": "code",
      "metadata": {
        "id": "CATC1scjEyDe"
      },
      "source": [
        "brute_model = tf.keras.models.load_model(\"/content/drive/MyDrive/vgg16_cifar10_PA2\")"
      ],
      "execution_count": null,
      "outputs": []
    },
    {
      "cell_type": "code",
      "metadata": {
        "id": "Z0NmcyZMnVe2"
      },
      "source": [
        "loss_object = tf.keras.losses.CategoricalCrossentropy()\n",
        "classifier = TensorFlowV2Classifier(model=brute_model, nb_classes=10, input_shape=(32, 32, 3), loss_object=loss_object,clip_values=(0, 1), channels_first=False)"
      ],
      "execution_count": null,
      "outputs": []
    },
    {
      "cell_type": "code",
      "metadata": {
        "colab": {
          "base_uri": "https://localhost:8080/",
          "height": 33,
          "referenced_widgets": [
            "ea05d761435546c6b50967af912577a9",
            "aa74422537334f489f8a828cbdacaa48",
            "12d4e8a1b1a2494eb1569993d3c8d7f1",
            "5145f9dd05674ab48841ac09c9da4da3",
            "333bffeb9a0a405690103b3b834f7af8",
            "26efc90ec74642b58462d071c537c613",
            "d375e52cf20640fa9531ace54bf47308",
            "fa97e160e6394d4ea0af7ea6b0236fdc",
            "0b6877d7357344e6b674a039328b5e6f",
            "19bb664e58e941fe98e80148c7b6f1b3",
            "ff39b0b8e04b4b7e84b2f49d5d4c4b44"
          ]
        },
        "id": "EQmhFLmmrB4d",
        "outputId": "cf3dc81a-9141-45fd-e29a-8b92ee1033f7"
      },
      "source": [
        "attack_pgd = ProjectedGradientDescent(estimator=classifier,eps=0.02,batch_size=32)\n",
        "x_test_adv_pgd = attack_pgd.generate(x_test)\n",
        "print(x_test_adv_pgd.shape)"
      ],
      "execution_count": null,
      "outputs": [
        {
          "data": {
            "application/vnd.jupyter.widget-view+json": {
              "model_id": "ea05d761435546c6b50967af912577a9",
              "version_major": 2,
              "version_minor": 0
            },
            "text/plain": [
              "PGD - Batches: 0it [00:00, ?it/s]"
            ]
          },
          "metadata": {},
          "output_type": "display_data"
        },
        {
          "name": "stdout",
          "output_type": "stream",
          "text": [
            "(10000, 32, 32, 3)\n"
          ]
        }
      ]
    },
    {
      "cell_type": "code",
      "metadata": {
        "id": "aECdSp5e42U_"
      },
      "source": [
        "# np.save(\"x_test_adv_pgd.npy\",x_test_adv_pgd)"
      ],
      "execution_count": null,
      "outputs": []
    },
    {
      "cell_type": "code",
      "metadata": {
        "colab": {
          "base_uri": "https://localhost:8080/",
          "height": 763
        },
        "id": "Y75Xy-3wsRcJ",
        "outputId": "41878415-2825-4e9d-ab76-663abab9899f"
      },
      "source": [
        "plt.imshow((x_test_adv_pgd[0]*255).astype(np.uint8)) \n",
        "plt.show()\n",
        "\n",
        "plt.imshow((x_test[0]*255).astype(np.uint8))\n",
        "plt.show()\n",
        "\n",
        "plt.imshow(((x_test_adv_pgd[0] - x_test[0])*255).astype(np.uint8))\n",
        "plt.show()"
      ],
      "execution_count": null,
      "outputs": [
        {
          "data": {
            "image/png": "[encoded data removed]",
            "text/plain": [
              "<Figure size 432x288 with 1 Axes>"
            ]
          },
          "metadata": {},
          "output_type": "display_data"
        },
        {
          "data": {
            "image/png": "[encoded data removed]",
            "text/plain": [
              "<Figure size 432x288 with 1 Axes>"
            ]
          },
          "metadata": {},
          "output_type": "display_data"
        },
        {
          "data": {
            "image/png": "[encoded data removed]",
            "text/plain": [
              "<Figure size 432x288 with 1 Axes>"
            ]
          },
          "metadata": {},
          "output_type": "display_data"
        }
      ]
    },
    {
      "cell_type": "code",
      "metadata": {
        "colab": {
          "base_uri": "https://localhost:8080/",
          "height": 763
        },
        "id": "tOggrXVQsXv0",
        "outputId": "8469f8a0-cfa5-4f9a-cdcd-67a23021ff3c"
      },
      "source": [
        "plt.imshow((x_test_adv_pgd[1]*255).astype(np.uint8))\n",
        "plt.show()\n",
        "\n",
        "plt.imshow((x_test[1]*255).astype(np.uint8))\n",
        "plt.show()\n",
        "\n",
        "plt.imshow(((x_test_adv_pgd[1] - x_test[1])*255).astype(np.uint8))\n",
        "plt.show()"
      ],
      "execution_count": null,
      "outputs": [
        {
          "data": {
            "image/png": "[encoded data removed]",
            "text/plain": [
              "<Figure size 432x288 with 1 Axes>"
            ]
          },
          "metadata": {},
          "output_type": "display_data"
        },
        {
          "data": {
            "image/png": "[encoded data removed]",
            "text/plain": [
              "<Figure size 432x288 with 1 Axes>"
            ]
          },
          "metadata": {},
          "output_type": "display_data"
        },
        {
          "data": {
            "image/png": "[encoded data removed]",
            "text/plain": [
              "<Figure size 432x288 with 1 Axes>"
            ]
          },
          "metadata": {},
          "output_type": "display_data"
        }
      ]
    },
    {
      "cell_type": "markdown",
      "metadata": {
        "id": "0j0NpElBshyc"
      },
      "source": [
        "\n",
        "**checking wrongly predicting**\n"
      ]
    },
    {
      "cell_type": "code",
      "metadata": {
        "colab": {
          "base_uri": "https://localhost:8080/"
        },
        "id": "bqxI7AtvsX6i",
        "outputId": "6de10aad-6850-4b87-9ede-90d8fc21a190"
      },
      "source": [
        "print(\"incorrect label after atack:\",np.argmax(brute_model.predict(np.expand_dims(x_test_adv_pgd[0],axis=0))))\n",
        "\n",
        "print(\"corect label:\", np.argmax(brute_model.predict(np.expand_dims(x_test[0],axis=0))))"
      ],
      "execution_count": null,
      "outputs": [
        {
          "name": "stdout",
          "output_type": "stream",
          "text": [
            "incorrect label after atack: 5\n",
            "corect label: 3\n"
          ]
        }
      ]
    },
    {
      "cell_type": "markdown",
      "metadata": {
        "id": "U39RnJPtskrq"
      },
      "source": [
        "**accuracy after PGD attack**"
      ]
    },
    {
      "cell_type": "code",
      "metadata": {
        "id": "ABSzOq7LOiAQ"
      },
      "source": [
        "y_test = np.load(\"/content/drive/MyDrive/vgg16_cifar10_PA2_dataset/y_test.npy\")"
      ],
      "execution_count": null,
      "outputs": []
    },
    {
      "cell_type": "code",
      "metadata": {
        "colab": {
          "base_uri": "https://localhost:8080/"
        },
        "id": "tn5eY2PfsYAn",
        "outputId": "d68f251b-9dc0-4fb7-ee2d-d1b50563c269"
      },
      "source": [
        "from sklearn.metrics import accuracy_score\n",
        "print(\"test accuracy:\",accuracy_score(np.argmax(y_test,axis=1),np.argmax(brute_model.predict(x_test_adv_pgd),axis=1))*100,\"%\")\n",
        "\n",
        "print(\"confusion_matrix:\\n\",confusion_matrix(np.argmax(y_test,axis=1),np.argmax(brute_model.predict(x_test_adv_pgd),axis=1)))\n"
      ],
      "execution_count": null,
      "outputs": [
        {
          "name": "stdout",
          "output_type": "stream",
          "text": [
            "test accuracy: 21.33 %\n",
            "confusion_matrix:\n",
            " [[218   3 181  33 207  10  11  35 229  73]\n",
            " [ 83 202  20  23  32   8  15  10 169 438]\n",
            " [ 53   9 201 152 277  64 103  60  56  25]\n",
            " [ 18  12  99 187 243 118  99 100  47  77]\n",
            " [ 20   8 150 165 199  63 147 204  29  15]\n",
            " [  7   7 136 303 137 160  55 137  32  26]\n",
            " [  7  34 114 312 214  23 165  48  30  53]\n",
            " [ 14   4  99 110 353  73  52 233   6  56]\n",
            " [289  21  68  46  92   4  14  22 282 162]\n",
            " [135  99  22  69  75   5  35 139 135 286]]\n"
          ]
        }
      ]
    },
    {
      "cell_type": "code",
      "metadata": {
        "id": "a5qmiAD7s5FZ"
      },
      "source": [
        "from skimage.metrics import structural_similarity as ssim\n",
        "\n",
        "def mean_ssim(x_test,x_test_adv_pgd):\n",
        "  \n",
        "  all_ssims = 0\n",
        "  for i in range(len(x_test)):\n",
        "    all_ssims += ssim(x_test[i],x_test_adv_pgd[i], data_range=x_test_adv_pgd[2].max() - x_test_adv_pgd[2].min(), multichannel=True)\n",
        "\n",
        "  print(\"Avaerage SSIM:\",all_ssims/len(x_test))\n",
        "\n"
      ],
      "execution_count": null,
      "outputs": []
    },
    {
      "cell_type": "code",
      "metadata": {
        "colab": {
          "base_uri": "https://localhost:8080/"
        },
        "id": "Ygci74OTs5Nm",
        "outputId": "eec03867-3371-4b9d-999e-d3702c8cfc85"
      },
      "source": [
        "mean_ssim(x_test,x_test_adv_pgd)"
      ],
      "execution_count": null,
      "outputs": [
        {
          "name": "stdout",
          "output_type": "stream",
          "text": [
            "Avaerage SSIM: 0.9641840478985738\n"
          ]
        }
      ]
    },
    {
      "cell_type": "markdown",
      "metadata": {
        "id": "kaB9ihoQL0_b"
      },
      "source": [
        "#BIM Attack"
      ]
    },
    {
      "cell_type": "code",
      "metadata": {
        "colab": {
          "base_uri": "https://localhost:8080/"
        },
        "id": "Blh-VPTsO0Zc",
        "outputId": "f852973b-c3f6-450e-d5d5-5a9d6df83ca6"
      },
      "source": [
        "## mounting drive\n",
        "from google.colab import drive\n",
        "drive.mount('/content/drive')"
      ],
      "execution_count": 5,
      "outputs": [
        {
          "output_type": "stream",
          "name": "stdout",
          "text": [
            "Drive already mounted at /content/drive; to attempt to forcibly remount, call drive.mount(\"/content/drive\", force_remount=True).\n"
          ]
        }
      ]
    },
    {
      "cell_type": "code",
      "metadata": {
        "id": "oovAwLMuNNaN"
      },
      "source": [
        "x_train = np.load(\"/content/drive/MyDrive/vgg16_cifar10_PA2_dataset/x_train.npy\")\n",
        "y_train = np.load(\"/content/drive/MyDrive/vgg16_cifar10_PA2_dataset/y_train.npy\")\n",
        "x_test = np.load(\"/content/drive/MyDrive/vgg16_cifar10_PA2_dataset/x_test.npy\")\n",
        "y_test = np.load(\"/content/drive/MyDrive/vgg16_cifar10_PA2_dataset/y_test.npy\")\n",
        "x_valid = np.load(\"/content/drive/MyDrive/vgg16_cifar10_PA2_dataset/x_valid.npy\")\n",
        "y_valid = np.load(\"/content/drive/MyDrive/vgg16_cifar10_PA2_dataset/y_valid.npy\")\n",
        "\n",
        "brute_model = tf.keras.models.load_model(\"/content/drive/MyDrive/vgg16_cifar10_PA2\")"
      ],
      "execution_count": null,
      "outputs": []
    },
    {
      "cell_type": "code",
      "metadata": {
        "colab": {
          "base_uri": "https://localhost:8080/"
        },
        "id": "lO_E2fAGx_HV",
        "outputId": "fc91da69-0e80-414b-bea9-478942d28a19"
      },
      "source": [
        "!pip install adversarial-robustness-toolbox\n",
        "from art.estimators.classification import TensorFlowV2Classifier\n",
        "from art.attacks.evasion import FastGradientMethod, BasicIterativeMethod, SaliencyMapMethod,ProjectedGradientDescent"
      ],
      "execution_count": null,
      "outputs": [
        {
          "name": "stdout",
          "output_type": "stream",
          "text": [
            "Collecting adversarial-robustness-toolbox\n",
            "  Downloading adversarial_robustness_toolbox-1.8.1-py3-none-any.whl (1.1 MB)\n",
            "\u001b[?25l\r\u001b[K     |▎                               | 10 kB 22.5 MB/s eta 0:00:01\r\u001b[K     |▋                               | 20 kB 26.4 MB/s eta 0:00:01\r\u001b[K     |█                               | 30 kB 13.0 MB/s eta 0:00:01\r\u001b[K     |█▏                              | 40 kB 9.7 MB/s eta 0:00:01\r\u001b[K     |█▌                              | 51 kB 5.2 MB/s eta 0:00:01\r\u001b[K     |█▉                              | 61 kB 5.6 MB/s eta 0:00:01\r\u001b[K     |██                              | 71 kB 6.0 MB/s eta 0:00:01\r\u001b[K     |██▍                             | 81 kB 6.8 MB/s eta 0:00:01\r\u001b[K     |██▊                             | 92 kB 6.9 MB/s eta 0:00:01\r\u001b[K     |███                             | 102 kB 5.4 MB/s eta 0:00:01\r\u001b[K     |███▎                            | 112 kB 5.4 MB/s eta 0:00:01\r\u001b[K     |███▋                            | 122 kB 5.4 MB/s eta 0:00:01\r\u001b[K     |███▉                            | 133 kB 5.4 MB/s eta 0:00:01\r\u001b[K     |████▏                           | 143 kB 5.4 MB/s eta 0:00:01\r\u001b[K     |████▌                           | 153 kB 5.4 MB/s eta 0:00:01\r\u001b[K     |████▊                           | 163 kB 5.4 MB/s eta 0:00:01\r\u001b[K     |█████                           | 174 kB 5.4 MB/s eta 0:00:01\r\u001b[K     |█████▍                          | 184 kB 5.4 MB/s eta 0:00:01\r\u001b[K     |█████▋                          | 194 kB 5.4 MB/s eta 0:00:01\r\u001b[K     |██████                          | 204 kB 5.4 MB/s eta 0:00:01\r\u001b[K     |██████▎                         | 215 kB 5.4 MB/s eta 0:00:01\r\u001b[K     |██████▌                         | 225 kB 5.4 MB/s eta 0:00:01\r\u001b[K     |██████▉                         | 235 kB 5.4 MB/s eta 0:00:01\r\u001b[K     |███████▏                        | 245 kB 5.4 MB/s eta 0:00:01\r\u001b[K     |███████▍                        | 256 kB 5.4 MB/s eta 0:00:01\r\u001b[K     |███████▊                        | 266 kB 5.4 MB/s eta 0:00:01\r\u001b[K     |████████                        | 276 kB 5.4 MB/s eta 0:00:01\r\u001b[K     |████████▎                       | 286 kB 5.4 MB/s eta 0:00:01\r\u001b[K     |████████▋                       | 296 kB 5.4 MB/s eta 0:00:01\r\u001b[K     |█████████                       | 307 kB 5.4 MB/s eta 0:00:01\r\u001b[K     |█████████▏                      | 317 kB 5.4 MB/s eta 0:00:01\r\u001b[K     |█████████▌                      | 327 kB 5.4 MB/s eta 0:00:01\r\u001b[K     |█████████▉                      | 337 kB 5.4 MB/s eta 0:00:01\r\u001b[K     |██████████                      | 348 kB 5.4 MB/s eta 0:00:01\r\u001b[K     |██████████▍                     | 358 kB 5.4 MB/s eta 0:00:01\r\u001b[K     |██████████▊                     | 368 kB 5.4 MB/s eta 0:00:01\r\u001b[K     |███████████                     | 378 kB 5.4 MB/s eta 0:00:01\r\u001b[K     |███████████▎                    | 389 kB 5.4 MB/s eta 0:00:01\r\u001b[K     |███████████▋                    | 399 kB 5.4 MB/s eta 0:00:01\r\u001b[K     |███████████▉                    | 409 kB 5.4 MB/s eta 0:00:01\r\u001b[K     |████████████▏                   | 419 kB 5.4 MB/s eta 0:00:01\r\u001b[K     |████████████▌                   | 430 kB 5.4 MB/s eta 0:00:01\r\u001b[K     |████████████▊                   | 440 kB 5.4 MB/s eta 0:00:01\r\u001b[K     |█████████████                   | 450 kB 5.4 MB/s eta 0:00:01\r\u001b[K     |█████████████▍                  | 460 kB 5.4 MB/s eta 0:00:01\r\u001b[K     |█████████████▋                  | 471 kB 5.4 MB/s eta 0:00:01\r\u001b[K     |██████████████                  | 481 kB 5.4 MB/s eta 0:00:01\r\u001b[K     |██████████████▎                 | 491 kB 5.4 MB/s eta 0:00:01\r\u001b[K     |██████████████▌                 | 501 kB 5.4 MB/s eta 0:00:01\r\u001b[K     |██████████████▉                 | 512 kB 5.4 MB/s eta 0:00:01\r\u001b[K     |███████████████▏                | 522 kB 5.4 MB/s eta 0:00:01\r\u001b[K     |███████████████▍                | 532 kB 5.4 MB/s eta 0:00:01\r\u001b[K     |███████████████▊                | 542 kB 5.4 MB/s eta 0:00:01\r\u001b[K     |████████████████                | 552 kB 5.4 MB/s eta 0:00:01\r\u001b[K     |████████████████▎               | 563 kB 5.4 MB/s eta 0:00:01\r\u001b[K     |████████████████▋               | 573 kB 5.4 MB/s eta 0:00:01\r\u001b[K     |█████████████████               | 583 kB 5.4 MB/s eta 0:00:01\r\u001b[K     |█████████████████▏              | 593 kB 5.4 MB/s eta 0:00:01\r\u001b[K     |█████████████████▌              | 604 kB 5.4 MB/s eta 0:00:01\r\u001b[K     |█████████████████▉              | 614 kB 5.4 MB/s eta 0:00:01\r\u001b[K     |██████████████████              | 624 kB 5.4 MB/s eta 0:00:01\r\u001b[K     |██████████████████▍             | 634 kB 5.4 MB/s eta 0:00:01\r\u001b[K     |██████████████████▊             | 645 kB 5.4 MB/s eta 0:00:01\r\u001b[K     |███████████████████             | 655 kB 5.4 MB/s eta 0:00:01\r\u001b[K     |███████████████████▎            | 665 kB 5.4 MB/s eta 0:00:01\r\u001b[K     |███████████████████▋            | 675 kB 5.4 MB/s eta 0:00:01\r\u001b[K     |███████████████████▉            | 686 kB 5.4 MB/s eta 0:00:01\r\u001b[K     |████████████████████▏           | 696 kB 5.4 MB/s eta 0:00:01\r\u001b[K     |████████████████████▌           | 706 kB 5.4 MB/s eta 0:00:01\r\u001b[K     |████████████████████▊           | 716 kB 5.4 MB/s eta 0:00:01\r\u001b[K     |█████████████████████           | 727 kB 5.4 MB/s eta 0:00:01\r\u001b[K     |█████████████████████▍          | 737 kB 5.4 MB/s eta 0:00:01\r\u001b[K     |█████████████████████▋          | 747 kB 5.4 MB/s eta 0:00:01\r\u001b[K     |██████████████████████          | 757 kB 5.4 MB/s eta 0:00:01\r\u001b[K     |██████████████████████▎         | 768 kB 5.4 MB/s eta 0:00:01\r\u001b[K     |██████████████████████▌         | 778 kB 5.4 MB/s eta 0:00:01\r\u001b[K     |██████████████████████▉         | 788 kB 5.4 MB/s eta 0:00:01\r\u001b[K     |███████████████████████▏        | 798 kB 5.4 MB/s eta 0:00:01\r\u001b[K     |███████████████████████▍        | 808 kB 5.4 MB/s eta 0:00:01\r\u001b[K     |███████████████████████▊        | 819 kB 5.4 MB/s eta 0:00:01\r\u001b[K     |████████████████████████        | 829 kB 5.4 MB/s eta 0:00:01\r\u001b[K     |████████████████████████▎       | 839 kB 5.4 MB/s eta 0:00:01\r\u001b[K     |████████████████████████▋       | 849 kB 5.4 MB/s eta 0:00:01\r\u001b[K     |█████████████████████████       | 860 kB 5.4 MB/s eta 0:00:01\r\u001b[K     |█████████████████████████▏      | 870 kB 5.4 MB/s eta 0:00:01\r\u001b[K     |█████████████████████████▌      | 880 kB 5.4 MB/s eta 0:00:01\r\u001b[K     |█████████████████████████▉      | 890 kB 5.4 MB/s eta 0:00:01\r\u001b[K     |██████████████████████████      | 901 kB 5.4 MB/s eta 0:00:01\r\u001b[K     |██████████████████████████▍     | 911 kB 5.4 MB/s eta 0:00:01\r\u001b[K     |██████████████████████████▊     | 921 kB 5.4 MB/s eta 0:00:01\r\u001b[K     |███████████████████████████     | 931 kB 5.4 MB/s eta 0:00:01\r\u001b[K     |███████████████████████████▎    | 942 kB 5.4 MB/s eta 0:00:01\r\u001b[K     |███████████████████████████▋    | 952 kB 5.4 MB/s eta 0:00:01\r\u001b[K     |████████████████████████████    | 962 kB 5.4 MB/s eta 0:00:01\r\u001b[K     |████████████████████████████▏   | 972 kB 5.4 MB/s eta 0:00:01\r\u001b[K     |████████████████████████████▌   | 983 kB 5.4 MB/s eta 0:00:01\r\u001b[K     |████████████████████████████▉   | 993 kB 5.4 MB/s eta 0:00:01\r\u001b[K     |█████████████████████████████   | 1.0 MB 5.4 MB/s eta 0:00:01\r\u001b[K     |█████████████████████████████▍  | 1.0 MB 5.4 MB/s eta 0:00:01\r\u001b[K     |█████████████████████████████▊  | 1.0 MB 5.4 MB/s eta 0:00:01\r\u001b[K     |██████████████████████████████  | 1.0 MB 5.4 MB/s eta 0:00:01\r\u001b[K     |██████████████████████████████▎ | 1.0 MB 5.4 MB/s eta 0:00:01\r\u001b[K     |██████████████████████████████▋ | 1.1 MB 5.4 MB/s eta 0:00:01\r\u001b[K     |██████████████████████████████▉ | 1.1 MB 5.4 MB/s eta 0:00:01\r\u001b[K     |███████████████████████████████▏| 1.1 MB 5.4 MB/s eta 0:00:01\r\u001b[K     |███████████████████████████████▌| 1.1 MB 5.4 MB/s eta 0:00:01\r\u001b[K     |███████████████████████████████▊| 1.1 MB 5.4 MB/s eta 0:00:01\r\u001b[K     |████████████████████████████████| 1.1 MB 5.4 MB/s \n",
            "\u001b[?25hRequirement already satisfied: tqdm in /usr/local/lib/python3.7/dist-packages (from adversarial-robustness-toolbox) (4.62.3)\n",
            "Requirement already satisfied: setuptools in /usr/local/lib/python3.7/dist-packages (from adversarial-robustness-toolbox) (57.4.0)\n",
            "Collecting numba>=0.53.1\n",
            "  Downloading numba-0.54.1-cp37-cp37m-manylinux2014_x86_64.manylinux_2_17_x86_64.whl (3.3 MB)\n",
            "\u001b[K     |████████████████████████████████| 3.3 MB 38.1 MB/s \n",
            "\u001b[?25hRequirement already satisfied: six in /usr/local/lib/python3.7/dist-packages (from adversarial-robustness-toolbox) (1.15.0)\n",
            "Requirement already satisfied: scipy>=1.4.1 in /usr/local/lib/python3.7/dist-packages (from adversarial-robustness-toolbox) (1.4.1)\n",
            "Requirement already satisfied: scikit-learn<1.1.0,>=0.22.2 in /usr/local/lib/python3.7/dist-packages (from adversarial-robustness-toolbox) (1.0.1)\n",
            "Requirement already satisfied: numpy>=1.18.0 in /usr/local/lib/python3.7/dist-packages (from adversarial-robustness-toolbox) (1.19.5)\n",
            "Collecting llvmlite<0.38,>=0.37.0rc1\n",
            "  Downloading llvmlite-0.37.0-cp37-cp37m-manylinux2014_x86_64.whl (26.3 MB)\n",
            "\u001b[K     |████████████████████████████████| 26.3 MB 58.2 MB/s \n",
            "\u001b[?25hRequirement already satisfied: joblib>=0.11 in /usr/local/lib/python3.7/dist-packages (from scikit-learn<1.1.0,>=0.22.2->adversarial-robustness-toolbox) (1.1.0)\n",
            "Requirement already satisfied: threadpoolctl>=2.0.0 in /usr/local/lib/python3.7/dist-packages (from scikit-learn<1.1.0,>=0.22.2->adversarial-robustness-toolbox) (3.0.0)\n",
            "Installing collected packages: llvmlite, numba, adversarial-robustness-toolbox\n",
            "  Attempting uninstall: llvmlite\n",
            "    Found existing installation: llvmlite 0.34.0\n",
            "    Uninstalling llvmlite-0.34.0:\n",
            "      Successfully uninstalled llvmlite-0.34.0\n",
            "  Attempting uninstall: numba\n",
            "    Found existing installation: numba 0.51.2\n",
            "    Uninstalling numba-0.51.2:\n",
            "      Successfully uninstalled numba-0.51.2\n",
            "Successfully installed adversarial-robustness-toolbox-1.8.1 llvmlite-0.37.0 numba-0.54.1\n"
          ]
        }
      ]
    },
    {
      "cell_type": "code",
      "metadata": {
        "id": "JOwipkjaL0PE"
      },
      "source": [
        "loss_object = tf.keras.losses.CategoricalCrossentropy()\n",
        "classifier = TensorFlowV2Classifier(model=brute_model, nb_classes=10, input_shape=(32, 32, 3), loss_object=loss_object,clip_values=(0, 1), channels_first=False)"
      ],
      "execution_count": null,
      "outputs": []
    },
    {
      "cell_type": "code",
      "metadata": {
        "colab": {
          "base_uri": "https://localhost:8080/",
          "height": 33,
          "referenced_widgets": [
            "c1f8ee22d7b94a388b853cbb4e9da13c",
            "e38f4b951f224ba583f0421bd3dcab8e",
            "c06c819b5a6d4ea1b42235575f302bb9",
            "9ba920eea55b4ac4a7d189a03ad89b5f",
            "f3476585adda4dd38c27d710efa59652",
            "3b5ec4d9ff7248aeb1c0d526ebaaf05e",
            "e349b22e03dd47efb2a7ddd36152ce33",
            "54dd0244853a4ebd9c4bd4d7ebf92a30",
            "60b1bae5265f412696405553ec429d5b",
            "7458a862f63346f7b18de90758e3e7c3",
            "aa0bfa3e67c2442c8c3ead110332e423"
          ]
        },
        "id": "poJc5IJcLvJN",
        "outputId": "00aaf799-8b5c-4a2c-f8f9-9c864db473d6"
      },
      "source": [
        "attack_bim = BasicIterativeMethod(estimator=classifier,eps=0.02,batch_size=32)\n",
        "x_test_adv_bim = attack_bim.generate(x_test)\n",
        "print(x_test_adv_bim.shape)"
      ],
      "execution_count": null,
      "outputs": [
        {
          "data": {
            "application/vnd.jupyter.widget-view+json": {
              "model_id": "c1f8ee22d7b94a388b853cbb4e9da13c",
              "version_major": 2,
              "version_minor": 0
            },
            "text/plain": [
              "PGD - Batches: 0it [00:00, ?it/s]"
            ]
          },
          "metadata": {},
          "output_type": "display_data"
        },
        {
          "name": "stdout",
          "output_type": "stream",
          "text": [
            "(10000, 32, 32, 3)\n"
          ]
        }
      ]
    },
    {
      "cell_type": "code",
      "metadata": {
        "id": "7EW-CKkMqj6j"
      },
      "source": [
        "np.save(\"x_test_adv_bim.npy\",x_test_adv_bim)"
      ],
      "execution_count": null,
      "outputs": []
    },
    {
      "cell_type": "code",
      "metadata": {
        "colab": {
          "base_uri": "https://localhost:8080/",
          "height": 763
        },
        "id": "yLf0JekcPmxQ",
        "outputId": "c45b6173-9e1c-4bd1-e3f4-5a766067291c"
      },
      "source": [
        "plt.imshow((x_test_adv_bim[0]*255).astype(np.uint8)) \n",
        "plt.show()\n",
        "\n",
        "plt.imshow((x_test[0]*255).astype(np.uint8))\n",
        "plt.show()\n",
        "\n",
        "plt.imshow(((x_test_adv_bim[0] - x_test[0])*255).astype(np.uint8))\n",
        "plt.show()"
      ],
      "execution_count": null,
      "outputs": [
        {
          "data": {
            "image/png": "[encoded data removed]",
            "text/plain": [
              "<Figure size 432x288 with 1 Axes>"
            ]
          },
          "metadata": {},
          "output_type": "display_data"
        },
        {
          "data": {
            "image/png": "[encoded data removed]",
            "text/plain": [
              "<Figure size 432x288 with 1 Axes>"
            ]
          },
          "metadata": {},
          "output_type": "display_data"
        },
        {
          "data": {
            "image/png": "[encoded data removed]",
            "text/plain": [
              "<Figure size 432x288 with 1 Axes>"
            ]
          },
          "metadata": {},
          "output_type": "display_data"
        }
      ]
    },
    {
      "cell_type": "code",
      "metadata": {
        "colab": {
          "base_uri": "https://localhost:8080/",
          "height": 763
        },
        "id": "q7LksojEPm0-",
        "outputId": "616b93ce-4c7b-483d-cfdc-da5853d7007f"
      },
      "source": [
        "plt.imshow((x_test_adv_bim[1]*255).astype(np.uint8))\n",
        "plt.show()\n",
        "\n",
        "plt.imshow((x_test[1]*255).astype(np.uint8))\n",
        "plt.show()\n",
        "\n",
        "plt.imshow(((x_test_adv_bim[1] - x_test[1])*255).astype(np.uint8))\n",
        "plt.show()"
      ],
      "execution_count": null,
      "outputs": [
        {
          "data": {
            "image/png": "[encoded data removed]",
            "text/plain": [
              "<Figure size 432x288 with 1 Axes>"
            ]
          },
          "metadata": {},
          "output_type": "display_data"
        },
        {
          "data": {
            "image/png": "[encoded data removed]",
            "text/plain": [
              "<Figure size 432x288 with 1 Axes>"
            ]
          },
          "metadata": {},
          "output_type": "display_data"
        },
        {
          "data": {
            "image/png": "[encoded data removed]",
            "text/plain": [
              "<Figure size 432x288 with 1 Axes>"
            ]
          },
          "metadata": {},
          "output_type": "display_data"
        }
      ]
    },
    {
      "cell_type": "markdown",
      "metadata": {
        "id": "hCUs3H-ZPxi0"
      },
      "source": [
        "\n",
        "Checking wrongly predicting\n"
      ]
    },
    {
      "cell_type": "code",
      "metadata": {
        "colab": {
          "base_uri": "https://localhost:8080/"
        },
        "id": "QSoSWV4xPm5X",
        "outputId": "044fd8f1-3bb9-4d3c-d7e2-669a23a0039d"
      },
      "source": [
        "print(\"incorrect label after atack:\",np.argmax(brute_model.predict(np.expand_dims(x_test_adv_bim[0],axis=0))))\n",
        "\n",
        "print(\"corect label:\", np.argmax(brute_model.predict(np.expand_dims(x_test[0],axis=0))))"
      ],
      "execution_count": null,
      "outputs": [
        {
          "name": "stdout",
          "output_type": "stream",
          "text": [
            "incorrect label after atack: 5\n",
            "corect label: 3\n"
          ]
        }
      ]
    },
    {
      "cell_type": "markdown",
      "metadata": {
        "id": "xNXeT8qaPyON"
      },
      "source": [
        "**Accuracy after BIM attack**"
      ]
    },
    {
      "cell_type": "code",
      "metadata": {
        "colab": {
          "base_uri": "https://localhost:8080/"
        },
        "id": "nZT2G_fXPyl9",
        "outputId": "4a86098b-38dc-4f23-9db2-86ec329a8447"
      },
      "source": [
        "from sklearn.metrics import accuracy_score,confusion_matrix\n",
        "\n",
        "print(\"test accuracy:\",accuracy_score(np.argmax(y_test,axis=1),np.argmax(brute_model.predict(x_test_adv_bim),axis=1))*100,\"%\")\n",
        "\n",
        "print(\"confusion_matrix:\\n\",confusion_matrix(np.argmax(y_test,axis=1),np.argmax(brute_model.predict(x_test_adv_bim),axis=1)))\n"
      ],
      "execution_count": null,
      "outputs": [
        {
          "name": "stdout",
          "output_type": "stream",
          "text": [
            "test accuracy: 21.33 %\n",
            "confusion_matrix:\n",
            " [[218   3 181  33 207  10  11  35 229  73]\n",
            " [ 83 202  20  23  32   8  15  10 169 438]\n",
            " [ 53   9 201 152 277  64 103  60  56  25]\n",
            " [ 18  12  99 187 243 118  99 100  47  77]\n",
            " [ 20   8 150 165 199  63 147 204  29  15]\n",
            " [  7   7 136 303 137 160  55 137  32  26]\n",
            " [  7  34 114 312 214  23 165  48  30  53]\n",
            " [ 14   4  99 110 353  73  52 233   6  56]\n",
            " [289  21  68  46  92   4  14  22 282 162]\n",
            " [135  99  22  69  75   5  35 139 135 286]]\n"
          ]
        }
      ]
    },
    {
      "cell_type": "code",
      "metadata": {
        "id": "EMRnRX9oPy5y"
      },
      "source": [
        "from skimage.metrics import structural_similarity as ssim\n",
        "\n",
        "def mean_ssim(x_test,x_test_adv_bim):\n",
        "  \n",
        "  all_ssims = 0\n",
        "  for i in range(len(x_test)):\n",
        "    all_ssims += ssim(x_test[i],x_test_adv_bim[i], data_range=x_test_adv_bim[2].max() - x_test_adv_bim[2].min(), multichannel=True)\n",
        "\n",
        "  print(\"Avaerage SSIM:\",all_ssims/len(x_test))\n"
      ],
      "execution_count": null,
      "outputs": []
    },
    {
      "cell_type": "code",
      "metadata": {
        "colab": {
          "base_uri": "https://localhost:8080/"
        },
        "id": "Ktne4x5jP4UU",
        "outputId": "b9b0555f-95d6-4917-9a08-95d529fd935c"
      },
      "source": [
        "mean_ssim(x_test,x_test_adv_bim)"
      ],
      "execution_count": null,
      "outputs": [
        {
          "name": "stdout",
          "output_type": "stream",
          "text": [
            "Avaerage SSIM: 0.9641837832557465\n"
          ]
        }
      ]
    },
    {
      "cell_type": "markdown",
      "metadata": {
        "id": "xVuKho967zzk"
      },
      "source": [
        "# Perturbation magnitude histogram"
      ]
    },
    {
      "cell_type": "code",
      "metadata": {
        "colab": {
          "base_uri": "https://localhost:8080/"
        },
        "id": "HjWRY58Y0Kin",
        "outputId": "6ed66693-5e30-43c2-b141-520c1d04d198"
      },
      "source": [
        "from google.colab import drive\n",
        "drive.mount('/content/drive')"
      ],
      "execution_count": 6,
      "outputs": [
        {
          "output_type": "stream",
          "name": "stdout",
          "text": [
            "Mounted at /content/drive\n"
          ]
        }
      ]
    },
    {
      "cell_type": "code",
      "metadata": {
        "id": "iVw8iBpPPm-4"
      },
      "source": [
        "import matplotlib.pyplot as plt\n",
        "def Magnitude_of_perturbation(x_test_adversarial,x_test_original):\n",
        "\n",
        "  histo_array = []\n",
        "  histo_dict = dict()\n",
        "\n",
        "  for i in range(len(x_test_original)):\n",
        "    \n",
        "    mean_perturbation = np.mean(np.abs(x_test_adversarial[i] - x_test_original[i]))\n",
        "    histo_array.append(mean_perturbation)\n",
        "    if np.round(mean_perturbation,3) not in histo_dict:\n",
        "      histo_dict[np.round(mean_perturbation,3)] = 1\n",
        "\n",
        "    elif np.round(mean_perturbation,3) in histo_dict:\n",
        "      histo_dict[np.round(mean_perturbation,3)] += 1\n",
        "\n",
        "  print(histo_dict)\n",
        "  plt.hist(histo_array)\n",
        "  plt.show()"
      ],
      "execution_count": null,
      "outputs": []
    },
    {
      "cell_type": "markdown",
      "metadata": {
        "id": "CaTakXip75ip"
      },
      "source": [
        "**FGSM**"
      ]
    },
    {
      "cell_type": "code",
      "metadata": {
        "id": "A4CwHc5r7zLh"
      },
      "source": [
        "x_test_adv_fgsm = np.load(\"/content/drive/MyDrive/vgg16_cifar10_PA2_dataset/x_test_adv_fgsm.npy\") \n",
        "x_test = np.load(\"/content/drive/MyDrive/vgg16_cifar10_PA2_dataset/x_test.npy\")"
      ],
      "execution_count": null,
      "outputs": []
    },
    {
      "cell_type": "code",
      "metadata": {
        "colab": {
          "base_uri": "https://localhost:8080/",
          "height": 282
        },
        "id": "eNIc4oJg0_jr",
        "outputId": "4af2dad9-a8de-4d93-82ea-62ab0183b4a3"
      },
      "source": [
        "Magnitude_of_perturbation(x_test_adv_fgsm,x_test)"
      ],
      "execution_count": null,
      "outputs": [
        {
          "name": "stdout",
          "output_type": "stream",
          "text": [
            "{0.02: 8962, 0.019: 604, 0.017: 114, 0.016: 68, 0.014: 21, 0.018: 187, 0.015: 37, 0.013: 5, 0.012: 1, 0.011: 1}\n"
          ]
        },
        {
          "data": {
            "image/png": "[encoded data removed]",
            "text/plain": [
              "<Figure size 432x288 with 1 Axes>"
            ]
          },
          "metadata": {},
          "output_type": "display_data"
        }
      ]
    },
    {
      "cell_type": "markdown",
      "metadata": {
        "id": "zuKRl6TsCTX_"
      },
      "source": [
        "**PGD**"
      ]
    },
    {
      "cell_type": "code",
      "metadata": {
        "id": "rMtXxPud9DU6"
      },
      "source": [
        "x_test_adv_pgd = np.load(\"/content/drive/MyDrive/vgg16_cifar10_PA2_dataset/x_test_adv_pgd.npy\") "
      ],
      "execution_count": null,
      "outputs": []
    },
    {
      "cell_type": "code",
      "metadata": {
        "colab": {
          "base_uri": "https://localhost:8080/",
          "height": 282
        },
        "id": "6ALYr814Cd3G",
        "outputId": "19608506-c96a-40e3-8bdd-7e770e7c9f10"
      },
      "source": [
        "Magnitude_of_perturbation(x_test_adv_pgd,x_test)"
      ],
      "execution_count": null,
      "outputs": [
        {
          "name": "stdout",
          "output_type": "stream",
          "text": [
            "{0.02: 8951, 0.019: 613, 0.017: 114, 0.016: 59, 0.014: 19, 0.015: 45, 0.018: 190, 0.013: 6, 0.012: 2, 0.011: 1}\n"
          ]
        },
        {
          "data": {
            "image/png": "[encoded data removed]",
            "text/plain": [
              "<Figure size 432x288 with 1 Axes>"
            ]
          },
          "metadata": {},
          "output_type": "display_data"
        }
      ]
    },
    {
      "cell_type": "markdown",
      "metadata": {
        "id": "3de3CVPcCgOU"
      },
      "source": [
        "**BIM**"
      ]
    },
    {
      "cell_type": "code",
      "metadata": {
        "id": "oOxdgIMECfkc"
      },
      "source": [
        "x_test_adv_bim = np.load(\"/content/drive/MyDrive/vgg16_cifar10_PA2_dataset/x_test_adv_bim.npy\") "
      ],
      "execution_count": null,
      "outputs": []
    },
    {
      "cell_type": "code",
      "metadata": {
        "colab": {
          "base_uri": "https://localhost:8080/",
          "height": 282
        },
        "id": "PhfEIOVDCoxn",
        "outputId": "aa6a7f58-cca0-4bfc-8309-1ebf1c095cfb"
      },
      "source": [
        "Magnitude_of_perturbation(x_test_adv_bim,x_test)"
      ],
      "execution_count": null,
      "outputs": [
        {
          "name": "stdout",
          "output_type": "stream",
          "text": [
            "{0.02: 8958, 0.019: 608, 0.017: 113, 0.016: 62, 0.014: 21, 0.018: 187, 0.013: 6, 0.015: 42, 0.012: 2, 0.011: 1}\n"
          ]
        },
        {
          "data": {
            "image/png": "[encoded data removed]",
            "text/plain": [
              "<Figure size 432x288 with 1 Axes>"
            ]
          },
          "metadata": {},
          "output_type": "display_data"
        }
      ]
    },
    {
      "cell_type": "markdown",
      "metadata": {
        "id": "cRGERrZWm6uH"
      },
      "source": [
        "# Targated attack"
      ]
    },
    {
      "cell_type": "code",
      "metadata": {
        "colab": {
          "base_uri": "https://localhost:8080/"
        },
        "id": "HZku8HyZm54O",
        "outputId": "cf8de815-1b70-4e49-fe3f-0233d96f2236"
      },
      "source": [
        "!pip install adversarial-robustness-toolbox\n",
        "from art.estimators.classification import TensorFlowV2Classifier\n",
        "from art.attacks.evasion import FastGradientMethod, BasicIterativeMethod, SaliencyMapMethod,ProjectedGradientDescent"
      ],
      "execution_count": null,
      "outputs": [
        {
          "name": "stdout",
          "output_type": "stream",
          "text": [
            "Collecting adversarial-robustness-toolbox\n",
            "  Downloading adversarial_robustness_toolbox-1.8.1-py3-none-any.whl (1.1 MB)\n",
            "\u001b[K     |████████████████████████████████| 1.1 MB 5.1 MB/s \n",
            "\u001b[?25hCollecting numba>=0.53.1\n",
            "  Downloading numba-0.54.1-cp37-cp37m-manylinux2014_x86_64.manylinux_2_17_x86_64.whl (3.3 MB)\n",
            "\u001b[K     |████████████████████████████████| 3.3 MB 25.0 MB/s \n",
            "\u001b[?25hRequirement already satisfied: six in /usr/local/lib/python3.7/dist-packages (from adversarial-robustness-toolbox) (1.15.0)\n",
            "Requirement already satisfied: scipy>=1.4.1 in /usr/local/lib/python3.7/dist-packages (from adversarial-robustness-toolbox) (1.4.1)\n",
            "Requirement already satisfied: tqdm in /usr/local/lib/python3.7/dist-packages (from adversarial-robustness-toolbox) (4.62.3)\n",
            "Requirement already satisfied: scikit-learn<1.1.0,>=0.22.2 in /usr/local/lib/python3.7/dist-packages (from adversarial-robustness-toolbox) (1.0.1)\n",
            "Requirement already satisfied: numpy>=1.18.0 in /usr/local/lib/python3.7/dist-packages (from adversarial-robustness-toolbox) (1.19.5)\n",
            "Requirement already satisfied: setuptools in /usr/local/lib/python3.7/dist-packages (from adversarial-robustness-toolbox) (57.4.0)\n",
            "Collecting llvmlite<0.38,>=0.37.0rc1\n",
            "  Downloading llvmlite-0.37.0-cp37-cp37m-manylinux2014_x86_64.whl (26.3 MB)\n",
            "\u001b[K     |████████████████████████████████| 26.3 MB 55.4 MB/s \n",
            "\u001b[?25hRequirement already satisfied: threadpoolctl>=2.0.0 in /usr/local/lib/python3.7/dist-packages (from scikit-learn<1.1.0,>=0.22.2->adversarial-robustness-toolbox) (3.0.0)\n",
            "Requirement already satisfied: joblib>=0.11 in /usr/local/lib/python3.7/dist-packages (from scikit-learn<1.1.0,>=0.22.2->adversarial-robustness-toolbox) (1.1.0)\n",
            "Installing collected packages: llvmlite, numba, adversarial-robustness-toolbox\n",
            "  Attempting uninstall: llvmlite\n",
            "    Found existing installation: llvmlite 0.34.0\n",
            "    Uninstalling llvmlite-0.34.0:\n",
            "      Successfully uninstalled llvmlite-0.34.0\n",
            "  Attempting uninstall: numba\n",
            "    Found existing installation: numba 0.51.2\n",
            "    Uninstalling numba-0.51.2:\n",
            "      Successfully uninstalled numba-0.51.2\n",
            "Successfully installed adversarial-robustness-toolbox-1.8.1 llvmlite-0.37.0 numba-0.54.1\n"
          ]
        }
      ]
    },
    {
      "cell_type": "code",
      "metadata": {
        "id": "N9KpyKTBpKOQ"
      },
      "source": [
        "x_test = np.load(\"/content/drive/MyDrive/vgg16_cifar10_PA2_dataset/x_test.npy\")\n",
        "y_test = np.load(\"/content/drive/MyDrive/vgg16_cifar10_PA2_dataset/y_test.npy\")"
      ],
      "execution_count": null,
      "outputs": []
    },
    {
      "cell_type": "code",
      "metadata": {
        "id": "ryxtkpeXr555"
      },
      "source": [
        "from sklearn.metrics import accuracy_score,confusion_matrix"
      ],
      "execution_count": null,
      "outputs": []
    },
    {
      "cell_type": "markdown",
      "metadata": {
        "id": "0-X74YkjsDTc"
      },
      "source": [
        "# Targeted FGSM"
      ]
    },
    {
      "cell_type": "code",
      "metadata": {
        "colab": {
          "base_uri": "https://localhost:8080/",
          "height": 1000
        },
        "id": "oeIQ5Uu8nyBI",
        "outputId": "9cf1e158-3783-4d92-de40-c213c4f068f3"
      },
      "source": [
        "loss_object = tf.keras.losses.CategoricalCrossentropy()\n",
        "classifier = TensorFlowV2Classifier(model=brute_model, nb_classes=10, input_shape=(32, 32, 3), loss_object=loss_object,clip_values=(0, 1), channels_first=False)\n",
        "\n",
        "\n",
        "target=np.array([[0,0,0,0,0,0,1,0,0,0]]*len(x_test))\n",
        "\n",
        "attack_fgsm_target = FastGradientMethod(estimator=classifier,eps = 0.03,batch_size = 32, targeted=True)\n",
        "x_test_adv_fgsm_target = attack_fgsm_target.generate(x_test,target)\n",
        "print(x_test_adv_fgsm_target.shape)\n",
        "\n",
        "\n",
        "\n",
        "## 0th image ##\n",
        "plt.imshow((x_test_adv_fgsm_target[0]*255).astype(np.uint8)) \n",
        "plt.show()\n",
        "\n",
        "plt.imshow((x_test[0]*255).astype(np.uint8))\n",
        "plt.show()\n",
        "\n",
        "plt.imshow(((x_test_adv_fgsm_target[0] - x_test[0])*255).astype(np.uint8))\n",
        "plt.show()\n",
        "\n",
        "\n",
        "## 1st image ##\n",
        "plt.imshow((x_test_adv_fgsm_target[1]*255).astype(np.uint8))\n",
        "plt.show()\n",
        "\n",
        "plt.imshow((x_test[1]*255).astype(np.uint8))\n",
        "plt.show()\n",
        "\n",
        "plt.imshow(((x_test_adv_fgsm_target[1] - x_test[1])*255).astype(np.uint8))\n",
        "plt.show()\n",
        "\n",
        "\n",
        "\n",
        "print(\"\\n accuracy after attack target\")\n",
        "\n",
        "print(\"test accuracy:\",accuracy_score(np.argmax(y_test,axis=1),np.argmax(brute_model.predict(x_test_adv_fgsm_target),axis=1))*100,\"%\")\n",
        "\n",
        "print(\"confusion_matrix:\\n\",confusion_matrix(np.argmax(y_test,axis=1),np.argmax(brute_model.predict(x_test_adv_fgsm_target),axis=1)))\n",
        "\n",
        "np.save(\"/content/drive/MyDrive/vgg16_cifar10_PA2_dataset/x_test_adv_fgsm_target.npy\",x_test_adv_fgsm_target)\n",
        "\n",
        "\n",
        "from skimage.metrics import structural_similarity as ssim\n",
        "\n",
        "def mean_ssim(x_test,x_test_adv_fgsm_target):\n",
        "  \n",
        "  all_ssims = 0\n",
        "  for i in range(len(x_test)):\n",
        "    all_ssims += ssim(x_test[i],x_test_adv_fgsm_target[i], data_range=x_test_adv_fgsm_target[2].max() - x_test_adv_fgsm_target[2].min(), multichannel=True)\n",
        "\n",
        "  print(\"Avaerage SSIM:\",all_ssims/len(x_test))\n",
        "\n",
        "\n",
        "mean_ssim(x_test,x_test_adv_fgsm_target)\n"
      ],
      "execution_count": null,
      "outputs": [
        {
          "name": "stdout",
          "output_type": "stream",
          "text": [
            "(10000, 32, 32, 3)\n"
          ]
        },
        {
          "data": {
            "image/png": "[encoded data removed]",
            "text/plain": [
              "<Figure size 432x288 with 1 Axes>"
            ]
          },
          "metadata": {},
          "output_type": "display_data"
        },
        {
          "data": {
            "image/png": "[encoded data removed]",
            "text/plain": [
              "<Figure size 432x288 with 1 Axes>"
            ]
          },
          "metadata": {},
          "output_type": "display_data"
        },
        {
          "data": {
            "image/png": "[encoded data removed]",
            "text/plain": [
              "<Figure size 432x288 with 1 Axes>"
            ]
          },
          "metadata": {},
          "output_type": "display_data"
        },
        {
          "data": {
            "image/png": "[encoded data removed]",
            "text/plain": [
              "<Figure size 432x288 with 1 Axes>"
            ]
          },
          "metadata": {},
          "output_type": "display_data"
        },
        {
          "data": {
            "image/png": "[encoded data removed]",
            "text/plain": [
              "<Figure size 432x288 with 1 Axes>"
            ]
          },
          "metadata": {},
          "output_type": "display_data"
        },
        {
          "data": {
            "image/png": "[encoded data removed]",
            "text/plain": [
              "<Figure size 432x288 with 1 Axes>"
            ]
          },
          "metadata": {},
          "output_type": "display_data"
        },
        {
          "name": "stdout",
          "output_type": "stream",
          "text": [
            "\n",
            " accuracy after attack target\n",
            "test accuracy: 21.34 %\n",
            "confusion_matrix:\n",
            " [[164   2 193  81 127   7 166   2 249   9]\n",
            " [101 185  54  64  50  17 228   7 169 125]\n",
            " [ 13  10 104 117 143   4 520   6  62  21]\n",
            " [  7  21  48 118 161  19 575   5  30  16]\n",
            " [  3   8  61 127  94  19 649   0  35   4]\n",
            " [ 10  25  74 204 119  36 446  24  33  29]\n",
            " [  0   3   3   2  15   0 976   0   1   0]\n",
            " [ 10  16  96 147 255  74 282  64  25  31]\n",
            " [216  17  98  39 188  10 108  25 235  64]\n",
            " [ 61  52  69  94 131  22 236  30 147 158]]\n",
            "Avaerage SSIM: 0.9305952454053047\n"
          ]
        }
      ]
    },
    {
      "cell_type": "markdown",
      "metadata": {
        "id": "ugP4eiwEk4pN"
      },
      "source": [
        "Magnitude of Perturbation"
      ]
    },
    {
      "cell_type": "code",
      "metadata": {
        "id": "KxkD-pDxk-g9"
      },
      "source": [
        "x_test_adv_fgsm_target = np.load(\"/content/drive/MyDrive/vgg16_cifar10_PA2_dataset/x_test_adv_fgsm_target.npy\") "
      ],
      "execution_count": null,
      "outputs": []
    },
    {
      "cell_type": "code",
      "metadata": {
        "colab": {
          "base_uri": "https://localhost:8080/",
          "height": 302
        },
        "id": "7DE0XUaQk4Ew",
        "outputId": "cc791a61-6518-49c0-ff7d-8729f0258b73"
      },
      "source": [
        "Magnitude_of_perturbation(x_test_adv_fgsm_target,x_test)"
      ],
      "execution_count": null,
      "outputs": [
        {
          "name": "stdout",
          "output_type": "stream",
          "text": [
            "{0.03: 8279, 0.029: 975, 0.025: 66, 0.028: 281, 0.024: 50, 0.021: 11, 0.027: 156, 0.023: 39, 0.026: 97, 0.022: 26, 0.02: 15, 0.018: 2, 0.016: 1, 0.019: 2}\n"
          ]
        },
        {
          "data": {
            "image/png": "[encoded data removed]",
            "text/plain": [
              "<Figure size 432x288 with 1 Axes>"
            ]
          },
          "metadata": {},
          "output_type": "display_data"
        }
      ]
    },
    {
      "cell_type": "markdown",
      "metadata": {
        "id": "M-RC_K9esIeT"
      },
      "source": [
        "# Targeted PGD"
      ]
    },
    {
      "cell_type": "code",
      "metadata": {
        "colab": {
          "base_uri": "https://localhost:8080/",
          "height": 1000,
          "referenced_widgets": [
            "b63b4f51f3a44678b0ed30ad34ae0d7b",
            "a55c4ee2e06743faae47c877fd82ce79",
            "f7cde9fc85fb4c349760c89b03720b42",
            "146a395a604446638d6803fd27a39e52",
            "61eb18b542634b23a5527d86e67f3b5d",
            "2ab86bce528b44899b6e6a03a4c3bcba",
            "4c0702f64cec4002a2fa6c1855d5a6f0",
            "b1aff593b83e453b88ace9c1c9bbc436",
            "c10e5ff452c349aa981d18708ccdfbd5",
            "f886e390b9094971afcb88c935f02f4c",
            "dfca13d938e148cbae59aa7a79240125"
          ]
        },
        "id": "OdTJyRntsHxS",
        "outputId": "0d20e9f1-7d32-431f-e1c8-c87fda3ed543"
      },
      "source": [
        "loss_object = tf.keras.losses.CategoricalCrossentropy()\n",
        "classifier = TensorFlowV2Classifier(model=brute_model, nb_classes=10, input_shape=(32, 32, 3), loss_object=loss_object,clip_values=(0, 1), channels_first=False)\n",
        "\n",
        "\n",
        "target=np.array([[0,0,0,0,0,0,1,0,0,0]]*len(x_test))\n",
        "\n",
        "attack_pgd_target = ProjectedGradientDescent(estimator=classifier,eps=0.02,batch_size=32,targeted=True)\n",
        "\n",
        "x_test_adv_pgd_target = attack_pgd_target.generate(x_test,target)\n",
        "print(x_test_adv_pgd_target.shape)\n",
        "\n",
        "\n",
        "\n",
        "## 0th image ##\n",
        "plt.imshow((x_test_adv_pgd_target[0]*255).astype(np.uint8)) \n",
        "plt.show()\n",
        "\n",
        "plt.imshow((x_test[0]*255).astype(np.uint8))\n",
        "plt.show()\n",
        "\n",
        "plt.imshow(((x_test_adv_pgd_target[0] - x_test[0])*255).astype(np.uint8))\n",
        "plt.show()\n",
        "\n",
        "\n",
        "\n",
        "\n",
        "## 1st image ##\n",
        "plt.imshow((x_test_adv_pgd_target[1]*255).astype(np.uint8))\n",
        "plt.show()\n",
        "\n",
        "plt.imshow((x_test[1]*255).astype(np.uint8))\n",
        "plt.show()\n",
        "\n",
        "plt.imshow(((x_test_adv_pgd_target[1] - x_test[1])*255).astype(np.uint8))\n",
        "plt.show()\n",
        "\n",
        "\n",
        "\n",
        "\n",
        "print(\"\\n accuracy after attack target\")\n",
        "\n",
        "print(\"test accuracy:\",accuracy_score(np.argmax(y_test,axis=1),np.argmax(brute_model.predict(x_test_adv_pgd_target),axis=1))*100,\"%\")\n",
        "\n",
        "print(\"confusion_matrix:\\n\",confusion_matrix(np.argmax(y_test,axis=1),np.argmax(brute_model.predict(x_test_adv_pgd_target),axis=1)))\n",
        "\n",
        "\n",
        "np.save(\"/content/drive/MyDrive/vgg16_cifar10_PA2_dataset/x_test_adv_pgd_target.npy\",x_test_adv_pgd_target)\n",
        "\n",
        "\n",
        "from skimage.metrics import structural_similarity as ssim\n",
        "\n",
        "def mean_ssim(x_test,x_test_adv_pgd_target):\n",
        "  \n",
        "  all_ssims = 0\n",
        "  for i in range(len(x_test)):\n",
        "    all_ssims += ssim(x_test[i],x_test_adv_pgd_target[i], data_range=x_test_adv_pgd_target[2].max() - x_test_adv_pgd_target[2].min(), multichannel=True)\n",
        "\n",
        "  print(\"Avaerage SSIM:\",all_ssims/len(x_test))\n",
        "\n",
        "\n",
        "mean_ssim(x_test,x_test_adv_pgd_target)\n"
      ],
      "execution_count": null,
      "outputs": [
        {
          "data": {
            "application/vnd.jupyter.widget-view+json": {
              "model_id": "b63b4f51f3a44678b0ed30ad34ae0d7b",
              "version_major": 2,
              "version_minor": 0
            },
            "text/plain": [
              "PGD - Batches: 0it [00:00, ?it/s]"
            ]
          },
          "metadata": {},
          "output_type": "display_data"
        },
        {
          "name": "stdout",
          "output_type": "stream",
          "text": [
            "(10000, 32, 32, 3)\n"
          ]
        },
        {
          "data": {
            "image/png": "[encoded data removed]",
            "text/plain": [
              "<Figure size 432x288 with 1 Axes>"
            ]
          },
          "metadata": {},
          "output_type": "display_data"
        },
        {
          "data": {
            "image/png": "[encoded data removed]",
            "text/plain": [
              "<Figure size 432x288 with 1 Axes>"
            ]
          },
          "metadata": {},
          "output_type": "display_data"
        },
        {
          "data": {
            "image/png": "[encoded data removed]",
            "text/plain": [
              "<Figure size 432x288 with 1 Axes>"
            ]
          },
          "metadata": {},
          "output_type": "display_data"
        },
        {
          "data": {
            "image/png": "[encoded data removed]",
            "text/plain": [
              "<Figure size 432x288 with 1 Axes>"
            ]
          },
          "metadata": {},
          "output_type": "display_data"
        },
        {
          "data": {
            "image/png": "[encoded data removed]",
            "text/plain": [
              "<Figure size 432x288 with 1 Axes>"
            ]
          },
          "metadata": {},
          "output_type": "display_data"
        },
        {
          "data": {
            "image/png": "[encoded data removed]",
            "text/plain": [
              "<Figure size 432x288 with 1 Axes>"
            ]
          },
          "metadata": {},
          "output_type": "display_data"
        },
        {
          "name": "stdout",
          "output_type": "stream",
          "text": [
            "\n",
            " accuracy after attack target\n",
            "test accuracy: 55.230000000000004 %\n",
            "confusion_matrix:\n",
            " [[478  10  94  31 137   2  63   7 158  20]\n",
            " [ 17 700  11  23  17   3  64   2  70  93]\n",
            " [ 22   2 386  80 130  22 314   4  27  13]\n",
            " [  5   6  43 412 136  46 317   3  24   8]\n",
            " [  4   8  29  68 578   9 288   5  10   1]\n",
            " [  6   3  55 253 153 288 221   9   5   7]\n",
            " [  0   2  22  46  35   4 887   0   4   0]\n",
            " [  3   1  35 144 311  66 106 306   5  23]\n",
            " [ 48   4  28  30  26   0  45   4 796  19]\n",
            " [ 30  55   7  53  29   3  72   8  51 692]]\n",
            "Avaerage SSIM: 0.964305919638025\n"
          ]
        }
      ]
    },
    {
      "cell_type": "markdown",
      "metadata": {
        "id": "JGsQw8q2lMpW"
      },
      "source": [
        "Magnitude of Perturbation"
      ]
    },
    {
      "cell_type": "code",
      "metadata": {
        "colab": {
          "base_uri": "https://localhost:8080/",
          "height": 282
        },
        "id": "KKekVeJSlPLQ",
        "outputId": "ba9b7c4e-ca59-4060-b7b0-7ed913ef37ac"
      },
      "source": [
        "x_test_adv_pgd_target = np.load(\"/content/drive/MyDrive/vgg16_cifar10_PA2_dataset/x_test_adv_pgd_target.npy\") \n",
        "Magnitude_of_perturbation(x_test_adv_pgd_target,x_test)"
      ],
      "execution_count": null,
      "outputs": [
        {
          "name": "stdout",
          "output_type": "stream",
          "text": [
            "{0.02: 8975, 0.017: 110, 0.019: 589, 0.014: 21, 0.016: 62, 0.015: 44, 0.018: 190, 0.013: 5, 0.012: 3, 0.011: 1}\n"
          ]
        },
        {
          "data": {
            "image/png": "[encoded data removed]",
            "text/plain": [
              "<Figure size 432x288 with 1 Axes>"
            ]
          },
          "metadata": {},
          "output_type": "display_data"
        }
      ]
    },
    {
      "cell_type": "markdown",
      "metadata": {
        "id": "acV66XN4-cQh"
      },
      "source": [
        "#Targeted BIM"
      ]
    },
    {
      "cell_type": "code",
      "metadata": {
        "colab": {
          "base_uri": "https://localhost:8080/",
          "height": 1000,
          "referenced_widgets": [
            "1110c00a18714205a7a8af86092f4c53",
            "488edc7828d24d59b8de10dfcc090218",
            "ef2a54781ff34157b85d6fa52c443864",
            "269b5bd1549e4536a7708a8ccb418517",
            "591a9d59ca6547a69ade7e2569288675",
            "d8a6eb02a8184823b5ae4173d646a7e7",
            "2f9cba8340da46d49990aafd0de59c55",
            "ccaf323386d64bd1bc98e5227d25379f",
            "42af124f617e4de9b60995941f32b6c3",
            "508b9127dbb5425ea2748c7c630c0c5e",
            "7a59c4a39df246db8db48ec56bfda97f"
          ]
        },
        "id": "CAMQ8Uq--Z0N",
        "outputId": "840bafa8-910b-496d-db65-7d74cd95f5ff"
      },
      "source": [
        "loss_object = tf.keras.losses.CategoricalCrossentropy()\n",
        "classifier = TensorFlowV2Classifier(model=brute_model, nb_classes=10, input_shape=(32, 32, 3), loss_object=loss_object,clip_values=(0, 1), channels_first=False)\n",
        "\n",
        "\n",
        "target=np.array([[0,0,0,0,0,0,1,0,0,0]]*len(x_test))\n",
        "attack_bim_target = BasicIterativeMethod(estimator=classifier,eps=0.02,batch_size=32,targeted=True)\n",
        "\n",
        "x_test_adv_bim_target = attack_bim_target.generate(x_test,target)\n",
        "print(x_test_adv_bim_target.shape)\n",
        "\n",
        "\n",
        "\n",
        "## 0th image ##\n",
        "plt.imshow((x_test_adv_bim_target[0]*255).astype(np.uint8)) \n",
        "plt.show()\n",
        "\n",
        "plt.imshow((x_test[0]*255).astype(np.uint8))\n",
        "plt.show()\n",
        "\n",
        "plt.imshow(((x_test_adv_bim_target[0] - x_test[0])*255).astype(np.uint8))\n",
        "plt.show()\n",
        "\n",
        "\n",
        "## 1st image ##\n",
        "plt.imshow((x_test_adv_bim_target[1]*255).astype(np.uint8))\n",
        "plt.show()\n",
        "\n",
        "plt.imshow((x_test[1]*255).astype(np.uint8))\n",
        "plt.show()\n",
        "\n",
        "plt.imshow(((x_test_adv_bim_target[1] - x_test[1])*255).astype(np.uint8))\n",
        "plt.show()\n",
        "\n",
        "\n",
        "\n",
        "\n",
        "print(\"\\n accuracy after attack target\")\n",
        "\n",
        "print(\"test accuracy:\",accuracy_score(np.argmax(y_test,axis=1),np.argmax(brute_model.predict(x_test_adv_bim_target),axis=1))*100,\"%\")\n",
        "\n",
        "print(\"confusion_matrix:\\n\",confusion_matrix(np.argmax(y_test,axis=1),np.argmax(brute_model.predict(x_test_adv_bim_target),axis=1)))\n",
        "\n",
        "\n",
        "np.save(\"/content/drive/MyDrive/vgg16_cifar10_PA2_dataset/x_test_adv_bim_target.npy\",x_test_adv_bim_target)\n",
        "\n",
        "\n",
        "from skimage.metrics import structural_similarity as ssim\n",
        "\n",
        "def mean_ssim(x_test,x_test_adv_bim_target):\n",
        "  \n",
        "  all_ssims = 0\n",
        "  for i in range(len(x_test)):\n",
        "    all_ssims += ssim(x_test[i],x_test_adv_bim_target[i], data_range=x_test_adv_bim_target[2].max() - x_test_adv_bim_target[2].min(), multichannel=True)\n",
        "\n",
        "  print(\"Avaerage SSIM:\",all_ssims/len(x_test))\n",
        "\n",
        "\n",
        "mean_ssim(x_test,x_test_adv_bim_target)\n"
      ],
      "execution_count": null,
      "outputs": [
        {
          "data": {
            "application/vnd.jupyter.widget-view+json": {
              "model_id": "1110c00a18714205a7a8af86092f4c53",
              "version_major": 2,
              "version_minor": 0
            },
            "text/plain": [
              "PGD - Batches: 0it [00:00, ?it/s]"
            ]
          },
          "metadata": {},
          "output_type": "display_data"
        },
        {
          "name": "stdout",
          "output_type": "stream",
          "text": [
            "(10000, 32, 32, 3)\n"
          ]
        },
        {
          "data": {
            "image/png": "[encoded data removed]",
            "text/plain": [
              "<Figure size 432x288 with 1 Axes>"
            ]
          },
          "metadata": {},
          "output_type": "display_data"
        },
        {
          "data": {
            "image/png": "[encoded data removed]",
            "text/plain": [
              "<Figure size 432x288 with 1 Axes>"
            ]
          },
          "metadata": {},
          "output_type": "display_data"
        },
        {
          "data": {
            "image/png": "[encoded data removed]",
            "text/plain": [
              "<Figure size 432x288 with 1 Axes>"
            ]
          },
          "metadata": {},
          "output_type": "display_data"
        },
        {
          "data": {
            "image/png": "[encoded data removed]",
            "text/plain": [
              "<Figure size 432x288 with 1 Axes>"
            ]
          },
          "metadata": {},
          "output_type": "display_data"
        },
        {
          "data": {
            "image/png": "[encoded data removed]",
            "text/plain": [
              "<Figure size 432x288 with 1 Axes>"
            ]
          },
          "metadata": {},
          "output_type": "display_data"
        },
        {
          "data": {
            "image/png": "[encoded data removed]",
            "text/plain": [
              "<Figure size 432x288 with 1 Axes>"
            ]
          },
          "metadata": {},
          "output_type": "display_data"
        },
        {
          "name": "stdout",
          "output_type": "stream",
          "text": [
            "\n",
            " accuracy after attack target\n",
            "test accuracy: 55.230000000000004 %\n",
            "confusion_matrix:\n",
            " [[478  10  94  31 137   2  63   7 158  20]\n",
            " [ 17 700  11  23  17   3  64   2  70  93]\n",
            " [ 22   2 386  80 130  22 314   4  27  13]\n",
            " [  5   6  43 412 136  46 317   3  24   8]\n",
            " [  4   8  29  69 578   9 287   5  10   1]\n",
            " [  6   3  55 253 153 288 221   9   5   7]\n",
            " [  0   2  22  46  35   4 887   0   4   0]\n",
            " [  3   1  35 144 311  66 106 306   5  23]\n",
            " [ 48   4  28  30  26   0  45   4 796  19]\n",
            " [ 30  55   7  53  29   3  72   8  51 692]]\n",
            "Avaerage SSIM: 0.9643059241507279\n"
          ]
        }
      ]
    },
    {
      "cell_type": "markdown",
      "metadata": {
        "id": "UGZJFtVIlXwV"
      },
      "source": [
        "Magnitude of Perturbation"
      ]
    },
    {
      "cell_type": "code",
      "metadata": {
        "colab": {
          "base_uri": "https://localhost:8080/",
          "height": 282
        },
        "id": "vBVGxVc5laCR",
        "outputId": "4aea4ac8-ea45-4284-ab56-30e36583dc27"
      },
      "source": [
        "x_test_adv_bim_target = np.load(\"/content/drive/MyDrive/vgg16_cifar10_PA2_dataset/x_test_adv_bim_target.npy\") \n",
        "Magnitude_of_perturbation(x_test_adv_bim_target,x_test)"
      ],
      "execution_count": null,
      "outputs": [
        {
          "name": "stdout",
          "output_type": "stream",
          "text": [
            "{0.02: 8975, 0.017: 111, 0.019: 589, 0.014: 21, 0.016: 62, 0.015: 44, 0.018: 189, 0.013: 5, 0.012: 3, 0.011: 1}\n"
          ]
        },
        {
          "data": {
            "image/png": "[encoded data removed]",
            "text/plain": [
              "<Figure size 432x288 with 1 Axes>"
            ]
          },
          "metadata": {},
          "output_type": "display_data"
        }
      ]
    },
    {
      "cell_type": "markdown",
      "metadata": {
        "id": "1rhgQ_V2LdcC"
      },
      "source": [
        "# JPEG COMPRESSION  - in other colab file \n",
        "jpeg compression file: P21CS007_compression.ipynb"
      ]
    },
    {
      "cell_type": "markdown",
      "metadata": {
        "id": "_vWGDb-5FYEL"
      },
      "source": [
        "# FGSM Attack on x_train"
      ]
    },
    {
      "cell_type": "code",
      "metadata": {
        "id": "zi_GPfvFE9ie"
      },
      "source": [
        "loss_object = tf.keras.losses.CategoricalCrossentropy()\n",
        "classifier = TensorFlowV2Classifier(model=brute_model, nb_classes=10, input_shape=(32, 32, 3), loss_object=loss_object,clip_values=(0, 1), channels_first=False)"
      ],
      "execution_count": 16,
      "outputs": []
    },
    {
      "cell_type": "code",
      "metadata": {
        "id": "O5_Bm9xFFCui"
      },
      "source": [
        "x_train = np.load(\"/content/drive/MyDrive/vgg16_cifar10_PA2_dataset/x_train.npy\")"
      ],
      "execution_count": 17,
      "outputs": []
    },
    {
      "cell_type": "code",
      "metadata": {
        "colab": {
          "base_uri": "https://localhost:8080/"
        },
        "id": "2iiUhZDfFD4K",
        "outputId": "e8f06aad-71f5-44b7-ec23-109759aea8ad"
      },
      "source": [
        "attack_fgsm = FastGradientMethod(estimator=classifier,eps=0.02,batch_size=32)\n",
        "x_train_adv_fgsm = attack_fgsm.generate(x_train)\n",
        "print(x_train_adv_fgsm.shape)\n",
        "np.save(\"/content/drive/MyDrive/vgg16_cifar10_PA2_dataset/x_train_adv_fgsm.npy\",x_train_adv_pgd)"
      ],
      "execution_count": 19,
      "outputs": [
        {
          "output_type": "stream",
          "name": "stdout",
          "text": [
            "(40000, 32, 32, 3)\n"
          ]
        }
      ]
    },
    {
      "cell_type": "markdown",
      "metadata": {
        "id": "SHS41BhiF2SU"
      },
      "source": [
        "# BIM Attack on x_train"
      ]
    },
    {
      "cell_type": "code",
      "metadata": {
        "id": "8K3KiZyfF6nn"
      },
      "source": [
        "loss_object = tf.keras.losses.CategoricalCrossentropy()\n",
        "classifier = TensorFlowV2Classifier(model=brute_model, nb_classes=10, input_shape=(32, 32, 3), loss_object=loss_object,clip_values=(0, 1), channels_first=False)"
      ],
      "execution_count": 21,
      "outputs": []
    },
    {
      "cell_type": "code",
      "metadata": {
        "id": "lu-Bj9jHGMmS"
      },
      "source": [
        "x_train = np.load(\"/content/drive/MyDrive/vgg16_cifar10_PA2_dataset/x_train.npy\")"
      ],
      "execution_count": 22,
      "outputs": []
    },
    {
      "cell_type": "code",
      "metadata": {
        "colab": {
          "base_uri": "https://localhost:8080/"
        },
        "id": "1T521WJFGMt6",
        "outputId": "c0514a52-1f2b-4c33-eaaa-83e9f033b05b"
      },
      "source": [
        "attack_fgsm = FastGradientMethod(estimator=classifier,eps=0.02,batch_size=32)\n",
        "x_train_adv_fgsm = attack_fgsm.generate(x_train)\n",
        "print(x_train_adv_fgsm.shape)\n",
        "np.save(\"/content/drive/MyDrive/vgg16_cifar10_PA2_dataset/x_train_adv_fgsm.npy\",x_train_adv_pgd)\n"
      ],
      "execution_count": 23,
      "outputs": [
        {
          "output_type": "stream",
          "name": "stdout",
          "text": [
            "(40000, 32, 32, 3)\n"
          ]
        }
      ]
    },
    {
      "cell_type": "markdown",
      "metadata": {
        "id": "f3KYvgZQ5L62"
      },
      "source": [
        "# PGD Attack on x_train\n"
      ]
    },
    {
      "cell_type": "code",
      "metadata": {
        "id": "e09q1PCi5Ov0"
      },
      "source": [
        "brute_model = tf.keras.models.load_model(\"/content/drive/MyDrive/vgg16_cifar10_PA2\")"
      ],
      "execution_count": null,
      "outputs": []
    },
    {
      "cell_type": "code",
      "metadata": {
        "id": "_lSkc99D5XEx"
      },
      "source": [
        "loss_object = tf.keras.losses.CategoricalCrossentropy()\n",
        "classifier = TensorFlowV2Classifier(model=brute_model, nb_classes=10, input_shape=(32, 32, 3), loss_object=loss_object,clip_values=(0, 1), channels_first=False)"
      ],
      "execution_count": null,
      "outputs": []
    },
    {
      "cell_type": "code",
      "metadata": {
        "id": "ivWzrFJX6eCc"
      },
      "source": [
        "x_train = np.load(\"/content/drive/MyDrive/vgg16_cifar10_PA2_dataset/x_train.npy\")"
      ],
      "execution_count": null,
      "outputs": []
    },
    {
      "cell_type": "code",
      "metadata": {
        "colab": {
          "base_uri": "https://localhost:8080/"
        },
        "id": "e2LMV3LU5XIL",
        "outputId": "a799044a-8bfd-49f0-a0dd-da62f4bc716f"
      },
      "source": [
        "attack_pgd = ProjectedGradientDescent(estimator=classifier,eps=0.02,batch_size=32)\n",
        "x_train_adv_pgd = attack_pgd.generate(x_train)\n",
        "print(x_train_adv_pgd.shape)\n",
        "np.save(\"/content/drive/MyDrive/vgg16_cifar10_PA2_dataset/x_train_adv_pgd.npy\",x_train_adv_pgd)"
      ],
      "execution_count": null,
      "outputs": [
        {
          "name": "stdout",
          "output_type": "stream",
          "text": [
            "(40000, 32, 32, 3)\n"
          ]
        }
      ]
    },
    {
      "cell_type": "markdown",
      "metadata": {
        "id": "J2QR8Bf6pRBE"
      },
      "source": [
        "# Adversarial Training"
      ]
    },
    {
      "cell_type": "code",
      "metadata": {
        "id": "nBS8HY7ZpEqm"
      },
      "source": [
        "original_x_train = np.load(\"/content/drive/MyDrive/vgg16_cifar10_PA2_dataset/x_train.npy\")\n",
        "original_y_train= np.load(\"/content/drive/MyDrive/vgg16_cifar10_PA2_dataset/y_train.npy\")"
      ],
      "execution_count": null,
      "outputs": []
    },
    {
      "cell_type": "code",
      "metadata": {
        "id": "jP2s8hJ2p7CY"
      },
      "source": [
        "## attacks x_train\n",
        "\n",
        "x_train_adv_fgsm = np.load(\"/content/drive/MyDrive/vgg16_cifar10_PA2_dataset/x_train_adv_fgsm.npy\")\n",
        "x_train_adv_pgd = np.load(\"/content/drive/MyDrive/vgg16_cifar10_PA2_dataset/x_train_adv_pgd.npy\")\n",
        "x_train_adv_bim = np.load(\"/content/drive/MyDrive/vgg16_cifar10_PA2_dataset/x_train_adv_bim.npy\")\n",
        " \n",
        "new_x_train_for_adversarial_training = np.vstack((original_x_train,x_train_adv_fgsm,x_train_adv_pgd,x_train_adv_bim))"
      ],
      "execution_count": null,
      "outputs": []
    },
    {
      "cell_type": "code",
      "metadata": {
        "id": "Mk5n4bWDY2k2"
      },
      "source": [
        "new_y_train_for_adversarial_training = np.vstack((original_y_train,original_y_train,original_y_train,original_y_train))"
      ],
      "execution_count": null,
      "outputs": []
    },
    {
      "cell_type": "code",
      "metadata": {
        "colab": {
          "base_uri": "https://localhost:8080/"
        },
        "id": "oKvtMKX7ZEyk",
        "outputId": "a3314fcb-92e3-446a-d9ca-06e0276593e0"
      },
      "source": [
        "print(new_x_train_for_adversarial_training.shape)\n",
        "print(new_y_train_for_adversarial_training.shape)"
      ],
      "execution_count": null,
      "outputs": [
        {
          "name": "stdout",
          "output_type": "stream",
          "text": [
            "(160000, 32, 32, 3)\n",
            "(160000, 10)\n"
          ]
        }
      ]
    },
    {
      "cell_type": "code",
      "metadata": {
        "id": "W2X4IoPNZRmy"
      },
      "source": [
        "vgg16_keras_model_adv = VGG16(include_top=False,weights=None,pooling='max')\n",
        "\n",
        "brute_model_adv= Sequential()\n",
        "\n",
        "brute_model_adv.add(vgg16_keras_model_adv)\n",
        "brute_model_adv.add(Flatten())\n",
        "brute_model_adv.add(Dense(4096, activation=('relu'))) \n",
        "brute_model_adv.add(Dense(4096, activation=('relu')))\n",
        "brute_model_adv.add(Dense(10, activation=('softmax')))\n",
        "\n",
        "brute_model_adv.summary()"
      ],
      "execution_count": 36,
      "outputs": []
    },
    {
      "cell_type": "code",
      "metadata": {
        "colab": {
          "base_uri": "https://localhost:8080/"
        },
        "id": "ymOhQmXLZnuS",
        "outputId": "c367379f-af60-4222-c3ab-4cc7a31542b1"
      },
      "source": [
        "from sklearn.model_selection import train_test_split\n",
        "\n",
        "\n",
        "new_x_train_adv, new_x_valid_adv, new_y_train_adv, new_y_valid_adv = train_test_split(new_x_train_for_adversarial_training, new_y_train_for_adversarial_training, test_size=0.2, random_state=42,shuffle=True)\n",
        "\n",
        "print(new_x_train_adv.shape)\n",
        "print(new_y_train_adv.shape)\n",
        "print(new_x_valid_adv.shape)\n",
        "print(new_y_valid_adv.shape)\n"
      ],
      "execution_count": null,
      "outputs": [
        {
          "name": "stdout",
          "output_type": "stream",
          "text": [
            "(128000, 32, 32, 3)\n",
            "(128000, 10)\n",
            "(32000, 32, 32, 3)\n",
            "(32000, 10)\n"
          ]
        }
      ]
    },
    {
      "cell_type": "code",
      "metadata": {
        "id": "CmZRID9Baq3M"
      },
      "source": [
        "# np.save(\"/content/drive/MyDrive/vgg16_cifar10_PA2_dataset/new_x_train_adv.npy\",new_x_train_adv)\n",
        "# np.save(\"/content/drive/MyDrive/vgg16_cifar10_PA2_dataset/new_y_train_adv.npy\",new_y_train_adv)\n",
        "# np.save(\"/content/drive/MyDrive/vgg16_cifar10_PA2_dataset/new_x_valid_adv.npy\",new_x_valid_adv)\n",
        "# np.save(\"/content/drive/MyDrive/vgg16_cifar10_PA2_dataset/new_y_valid_adv.npy\",new_y_valid_adv)\n",
        "\n",
        "new_x_train_adv = np.load(\"/content/drive/MyDrive/vgg16_cifar10_PA2_dataset/new_x_train_adv.npy\")\n",
        "new_y_train_adv = np.load(\"/content/drive/MyDrive/vgg16_cifar10_PA2_dataset/new_y_train_adv.npy\")\n",
        "new_x_valid_adv = np.load(\"/content/drive/MyDrive/vgg16_cifar10_PA2_dataset/new_x_valid_adv.npy\")\n",
        "new_y_valid_adv = np.load(\"/content/drive/MyDrive/vgg16_cifar10_PA2_dataset/new_y_valid_adv.npy\")"
      ],
      "execution_count": 14,
      "outputs": []
    },
    {
      "cell_type": "code",
      "metadata": {
        "colab": {
          "base_uri": "https://localhost:8080/"
        },
        "id": "IDXGW8zSaf8E",
        "outputId": "706a6d7b-54b4-41ce-f47f-4533219452e0"
      },
      "source": [
        "brute_model_adv.compile(loss = 'categorical_crossentropy',optimizer = 'sgd',metrics=['accuracy']) \n",
        "history_adv = brute_model_adv.fit(new_x_train_adv, new_y_train_adv, validation_data=(new_x_valid_adv, new_y_valid_adv), epochs=15, batch_size=32)"
      ],
      "execution_count": 7,
      "outputs": [
        {
          "output_type": "stream",
          "name": "stdout",
          "text": [
            "Epoch 1/15\n",
            "4000/4000 [==============================] - 284s 68ms/step - loss: 2.2986 - accuracy: 0.1211 - val_loss: 2.2411 - val_accuracy: 0.1746\n",
            "Epoch 2/15\n",
            "4000/4000 [==============================] - 273s 68ms/step - loss: 2.0093 - accuracy: 0.2478 - val_loss: 1.8202 - val_accuracy: 0.3198\n",
            "Epoch 3/15\n",
            "4000/4000 [==============================] - 273s 68ms/step - loss: 1.7050 - accuracy: 0.3611 - val_loss: 1.5209 - val_accuracy: 0.4308\n",
            "Epoch 4/15\n",
            "4000/4000 [==============================] - 269s 67ms/step - loss: 1.3985 - accuracy: 0.4821 - val_loss: 1.3676 - val_accuracy: 0.4938\n",
            "Epoch 5/15\n",
            "4000/4000 [==============================] - 272s 68ms/step - loss: 1.1621 - accuracy: 0.5747 - val_loss: 1.0405 - val_accuracy: 0.6194\n",
            "Epoch 6/15\n",
            "4000/4000 [==============================] - 269s 67ms/step - loss: 0.9331 - accuracy: 0.6643 - val_loss: 0.8722 - val_accuracy: 0.6864\n",
            "Epoch 7/15\n",
            "4000/4000 [==============================] - 272s 68ms/step - loss: 0.6782 - accuracy: 0.7603 - val_loss: 0.6233 - val_accuracy: 0.7836\n",
            "Epoch 8/15\n",
            "4000/4000 [==============================] - 268s 67ms/step - loss: 0.4381 - accuracy: 0.8460 - val_loss: 0.3776 - val_accuracy: 0.8683\n",
            "Epoch 9/15\n",
            "4000/4000 [==============================] - 269s 67ms/step - loss: 0.2625 - accuracy: 0.9092 - val_loss: 0.2553 - val_accuracy: 0.9153\n",
            "Epoch 10/15\n",
            "4000/4000 [==============================] - 273s 68ms/step - loss: 0.1560 - accuracy: 0.9459 - val_loss: 0.1849 - val_accuracy: 0.9384\n",
            "Epoch 11/15\n",
            "4000/4000 [==============================] - 269s 67ms/step - loss: 0.0987 - accuracy: 0.9661 - val_loss: 0.1059 - val_accuracy: 0.9661\n",
            "Epoch 12/15\n",
            "4000/4000 [==============================] - 268s 67ms/step - loss: 0.0696 - accuracy: 0.9761 - val_loss: 0.0952 - val_accuracy: 0.9706\n",
            "Epoch 13/15\n",
            "4000/4000 [==============================] - 269s 67ms/step - loss: 0.0503 - accuracy: 0.9834 - val_loss: 0.0940 - val_accuracy: 0.9705\n",
            "Epoch 14/15\n",
            "4000/4000 [==============================] - 270s 67ms/step - loss: 0.0400 - accuracy: 0.9866 - val_loss: 0.0839 - val_accuracy: 0.9749\n",
            "Epoch 15/15\n",
            "4000/4000 [==============================] - 272s 68ms/step - loss: 0.0322 - accuracy: 0.9893 - val_loss: 0.0554 - val_accuracy: 0.9854\n"
          ]
        }
      ]
    },
    {
      "cell_type": "code",
      "metadata": {
        "id": "LNX-5izUcLfj",
        "colab": {
          "base_uri": "https://localhost:8080/"
        },
        "outputId": "0db84c6c-23a7-4855-8a33-11936783e56e"
      },
      "source": [
        "brute_model_adv.save(\"/content/drive/MyDrive/vgg16_cifar10_adv_PA2\")\n"
      ],
      "execution_count": 8,
      "outputs": [
        {
          "output_type": "stream",
          "name": "stdout",
          "text": [
            "INFO:tensorflow:Assets written to: /content/drive/MyDrive/vgg16_cifar10_adv_PA2/assets\n"
          ]
        }
      ]
    },
    {
      "cell_type": "code",
      "metadata": {
        "id": "mDSAzqROcKKV",
        "colab": {
          "base_uri": "https://localhost:8080/",
          "height": 0
        },
        "outputId": "492a728b-c3ab-45a4-a870-578a7a9a9783"
      },
      "source": [
        "# plot loss during training\n",
        "plt.subplot(211)\n",
        "plt.title('Loss')\n",
        "plt.plot(history_adv.history['loss'], label='train loss')\n",
        "plt.plot(history_adv.history['val_loss'], label='validation loss')\n",
        "plt.legend()\n",
        "\n",
        "# plot accuracy during training\n",
        "plt.subplot(212)\n",
        "plt.title('Accuracy')\n",
        "plt.plot(history_adv.history['accuracy'], label='train accuracy')\n",
        "plt.plot(history_adv.history['val_accuracy'], label='validation accuracy')\n",
        "plt.legend()\n",
        "plt.show()\n"
      ],
      "execution_count": 10,
      "outputs": [
        {
          "output_type": "display_data",
          "data": {
            "image/png": "[encoded data removed]",
            "text/plain": [
              "<Figure size 432x288 with 2 Axes>"
            ]
          },
          "metadata": {
            "needs_background": "light"
          }
        }
      ]
    },
    {
      "cell_type": "code",
      "metadata": {
        "id": "at6Ot35ZTw5k"
      },
      "source": [
        "brute_model_adv = tf.keras.models.load_model(\"/content/drive/MyDrive/vgg16_cifar10_adv_PA2\")"
      ],
      "execution_count": null,
      "outputs": []
    },
    {
      "cell_type": "code",
      "metadata": {
        "colab": {
          "base_uri": "https://localhost:8080/"
        },
        "id": "xtAm6hfMTMv2",
        "outputId": "a3ea6f18-2a60-4a62-d8c9-4e45c4c3fe3e"
      },
      "source": [
        "from sklearn.metrics import accuracy_score,confusion_matrix\n",
        "\n",
        "print(\"training accuracy:\",accuracy_score(np.argmax(new_y_train_adv,axis=1),np.argmax(brute_model_adv.predict(new_x_train_adv),axis=1))*100,\"%\")\n",
        "\n"
      ],
      "execution_count": 8,
      "outputs": [
        {
          "output_type": "stream",
          "name": "stdout",
          "text": [
            "training accuracy: 99.38671875 %\n"
          ]
        }
      ]
    },
    {
      "cell_type": "code",
      "metadata": {
        "id": "Kvl0eQdwShww"
      },
      "source": [
        "## attacks x_test\n",
        "\n",
        "original_x_test = np.load(\"/content/drive/MyDrive/vgg16_cifar10_PA2_dataset/x_test.npy\")\n",
        "x_test_adv_fgsm = np.load(\"/content/drive/MyDrive/vgg16_cifar10_PA2_dataset/x_test_adv_fgsm.npy\")\n",
        "x_test_adv_pgd = np.load(\"/content/drive/MyDrive/vgg16_cifar10_PA2_dataset/x_test_adv_pgd.npy\")\n",
        "x_test_adv_bim = np.load(\"/content/drive/MyDrive/vgg16_cifar10_PA2_dataset/x_test_adv_bim.npy\")\n",
        " \n",
        "new_x_test_for_adversarial_training = np.vstack((original_x_test,x_test_adv_fgsm,x_test_adv_pgd,x_test_adv_bim))\n",
        "np.save(\"/content/drive/MyDrive/vgg16_cifar10_PA2_dataset/new_x_test_for_adversarial_training.npy\",new_x_test_for_adversarial_training)\n",
        "\n",
        "\n",
        "\n",
        "original_y_test = np.load(\"/content/drive/MyDrive/vgg16_cifar10_PA2_dataset/y_test.npy\")\n",
        "\n",
        "new_y_test_for_adversarial_training = np.vstack((original_y_test,original_y_test,original_y_test,original_y_test))\n",
        "np.save(\"/content/drive/MyDrive/vgg16_cifar10_PA2_dataset/new_y_test_for_adversarial_training.npy\",new_y_test_for_adversarial_training)"
      ],
      "execution_count": 9,
      "outputs": []
    },
    {
      "cell_type": "code",
      "metadata": {
        "colab": {
          "base_uri": "https://localhost:8080/"
        },
        "id": "u3YdbAsWVCcr",
        "outputId": "156478ce-81e4-499d-c95a-ee12ac5f0527"
      },
      "source": [
        "new_x_test_for_adversarial_training.shape,new_y_test_for_adversarial_training.shape"
      ],
      "execution_count": 12,
      "outputs": [
        {
          "output_type": "execute_result",
          "data": {
            "text/plain": [
              "((40000, 32, 32, 3), (40000, 10))"
            ]
          },
          "metadata": {},
          "execution_count": 12
        }
      ]
    },
    {
      "cell_type": "code",
      "metadata": {
        "colab": {
          "base_uri": "https://localhost:8080/"
        },
        "id": "Ssx56oG5SIjw",
        "outputId": "b658d4ca-a915-44d1-9350-d93456ff8d23"
      },
      "source": [
        "classwise_accuracy(brute_model_adv,new_x_test_for_adnew_y_valid_adversarial_training,new_y_test_for_adversarial_training)"
      ],
      "execution_count": 15,
      "outputs": [
        {
          "output_type": "stream",
          "name": "stdout",
          "text": [
            "test accuracy: 98.54375 %\n",
            "confusion_matrix:\n",
            " [[3064    0   13    1    0    0    0    3   26    2]\n",
            " [   2 3213    0    0    1    0    0    0    2    3]\n",
            " [   8    0 3174    4    8    1    0    0    3    0]\n",
            " [   5    0   13 3065   15   14   14   11   40    6]\n",
            " [   6    0   18    4 3205    3    8   30    0    0]\n",
            " [   0    2   19   31   11 3112    1   18    4    2]\n",
            " [   0    0    7   12   19    3 3177    1    1    4]\n",
            " [   7    0    1   11    4    5    1 3201    0    2]\n",
            " [   2    0    0    1    0    0    0    0 3205    0]\n",
            " [   7    2    0    2    0    0    0   16    6 3118]]\n",
            "class  0  accuracy  airplane  : 98.80683650435344 %\n",
            "class  1  accuracy  automobile  : 99.87566055331054 %\n",
            "class  2  accuracy  bird  : 97.81201848998458 %\n",
            "class  3  accuracy  cat  : 97.89204726924305 %\n",
            "class  4  accuracy  deer  : 98.22249463683727 %\n",
            "class  5  accuracy  dog  : 99.17144678138942 %\n",
            "class  6  accuracy  frog  : 99.2502343017807 %\n",
            "class  7  accuracy  horse  : 97.59146341463415 %\n",
            "class  8  accuracy  ship  : 97.50532400365076 %\n",
            "class  9  accuracy  truck  : 99.39432578897035 %\n"
          ]
        }
      ]
    },
    {
      "cell_type": "markdown",
      "metadata": {
        "id": "m7V0B6_DU3PH"
      },
      "source": [
        "# Visualizing Network Activations"
      ]
    },
    {
      "cell_type": "code",
      "metadata": {
        "colab": {
          "base_uri": "https://localhost:8080/"
        },
        "id": "2mydhQbyWNaS",
        "outputId": "bfece964-787e-4116-cd50-d40e1d14e7b2"
      },
      "source": [
        "brute_model_adv.summary()"
      ],
      "execution_count": 17,
      "outputs": [
        {
          "output_type": "stream",
          "name": "stdout",
          "text": [
            "Model: \"sequential\"\n",
            "_________________________________________________________________\n",
            " Layer (type)                Output Shape              Param #   \n",
            "=================================================================\n",
            " vgg16 (Functional)          (None, 512)               14714688  \n",
            "                                                                 \n",
            " flatten (Flatten)           (None, 512)               0         \n",
            "                                                                 \n",
            " dense (Dense)               (None, 4096)              2101248   \n",
            "                                                                 \n",
            " dense_1 (Dense)             (None, 4096)              16781312  \n",
            "                                                                 \n",
            " dense_2 (Dense)             (None, 10)                40970     \n",
            "                                                                 \n",
            "=================================================================\n",
            "Total params: 33,638,218\n",
            "Trainable params: 33,638,218\n",
            "Non-trainable params: 0\n",
            "_________________________________________________________________\n"
          ]
        }
      ]
    },
    {
      "cell_type": "code",
      "metadata": {
        "colab": {
          "base_uri": "https://localhost:8080/"
        },
        "id": "TBgEwulgV0e1",
        "outputId": "2e8b7c91-36be-42fb-af4c-427c751f4161"
      },
      "source": [
        "for layer in (brute_model_adv.layers[0]).layers:\n",
        "  print(layer)\n"
      ],
      "execution_count": 27,
      "outputs": [
        {
          "output_type": "stream",
          "name": "stdout",
          "text": [
            "<keras.engine.input_layer.InputLayer object at 0x7f49c056fd50>\n",
            "<keras.layers.convolutional.Conv2D object at 0x7f49c0573a10>\n",
            "<keras.layers.convolutional.Conv2D object at 0x7f49c0582e90>\n",
            "<keras.layers.pooling.MaxPooling2D object at 0x7f49c058a310>\n",
            "<keras.layers.convolutional.Conv2D object at 0x7f49c058ae10>\n",
            "<keras.layers.convolutional.Conv2D object at 0x7f49c0590390>\n",
            "<keras.layers.pooling.MaxPooling2D object at 0x7f49c0594790>\n",
            "<keras.layers.convolutional.Conv2D object at 0x7f49c0518310>\n",
            "<keras.layers.convolutional.Conv2D object at 0x7f49c051a810>\n",
            "<keras.layers.convolutional.Conv2D object at 0x7f49c051bd50>\n",
            "<keras.layers.pooling.MaxPooling2D object at 0x7f49c05240d0>\n",
            "<keras.layers.convolutional.Conv2D object at 0x7f49c0524cd0>\n",
            "<keras.layers.convolutional.Conv2D object at 0x7f49c052d250>\n",
            "<keras.layers.convolutional.Conv2D object at 0x7f49c052f750>\n",
            "<keras.layers.pooling.MaxPooling2D object at 0x7f49c0530b50>\n",
            "<keras.layers.convolutional.Conv2D object at 0x7f49c0536690>\n",
            "<keras.layers.convolutional.Conv2D object at 0x7f49c0539c10>\n",
            "<keras.layers.convolutional.Conv2D object at 0x7f49c05420d0>\n",
            "<keras.layers.pooling.MaxPooling2D object at 0x7f49c05444d0>\n",
            "<keras.layers.pooling.GlobalMaxPooling2D object at 0x7f49c0548210>\n"
          ]
        }
      ]
    },
    {
      "cell_type": "code",
      "metadata": {
        "id": "sDia7SL-XuWK"
      },
      "source": [
        "layer_for_viualization_output = [((brute_model_adv.layers[0]).layers[1]).output]\n",
        "\n",
        "\n",
        "network_activation_model = Model(inputs=(brute_model_adv.layers[0]).input,outputs=layer_for_viualization_output)\n",
        "\n"
      ],
      "execution_count": 71,
      "outputs": []
    },
    {
      "cell_type": "code",
      "metadata": {
        "id": "IvwtAjgxd77F"
      },
      "source": [
        "x_train = np.load(\"/content/drive/MyDrive/vgg16_cifar10_PA2_dataset/x_train.npy\")[0:3]\n",
        "x_train_adv_fgsm = np.load(\"/content/drive/MyDrive/vgg16_cifar10_PA2_dataset/x_train_adv_fgsm.npy\")[0:3]\n",
        "x_train_adv_pgd = np.load(\"/content/drive/MyDrive/vgg16_cifar10_PA2_dataset/x_train_adv_pgd.npy\")[0:3]\n",
        "x_train_adv_bim = np.load(\"/content/drive/MyDrive/vgg16_cifar10_PA2_dataset/x_train_adv_bim.npy\")[0:3]\n"
      ],
      "execution_count": 82,
      "outputs": []
    },
    {
      "cell_type": "code",
      "metadata": {
        "colab": {
          "base_uri": "https://localhost:8080/",
          "height": 0
        },
        "id": "W7_N_66EZOVx",
        "outputId": "b66a92a8-d3bf-4557-c32a-e3feb2938057"
      },
      "source": [
        "network_activations_original = network_activation_model.predict(original_x_test[0:3])\n",
        "network_activations_fgsm = network_activation_model.predict(x_test_adv_fgsm[0:3])\n",
        "network_activations_pgd = network_activation_model.predict(x_test_adv_pgd[0:3])\n",
        "network_activations_bim = network_activation_model.predict(x_test_adv_bim[0:3])\n",
        "\n",
        "# network_activations_original[0][:,:,0].shape\n",
        "print(\"original_activation\")\n",
        "plt.imshow(network_activations_original[0,:,:,0],cmap='viridis')\n",
        "plt.show()\n",
        "\n",
        "print(\"fgsm_activation\")\n",
        "plt.imshow(network_activations_fgsm[0][:,:,0],cmap='viridis')\n",
        "plt.show()\n",
        "\n",
        "print(\"pgd_activation\")\n",
        "plt.imshow(network_activations_pgd[0][:,:,0],cmap='viridis')\n",
        "plt.show()\n",
        "\n",
        "print(\"bim_activation\")\n",
        "plt.imshow(network_activations_bim[0][:,:,0],cmap='viridis')\n",
        "plt.show()\n",
        "\n"
      ],
      "execution_count": 102,
      "outputs": [
        {
          "output_type": "stream",
          "name": "stdout",
          "text": [
            "original_activation\n"
          ]
        },
        {
          "output_type": "display_data",
          "data": {
            "image/png": "[encoded data removed]",
            "text/plain": [
              "<Figure size 432x288 with 1 Axes>"
            ]
          },
          "metadata": {
            "needs_background": "light"
          }
        },
        {
          "output_type": "stream",
          "name": "stdout",
          "text": [
            "fgsm_activation\n"
          ]
        },
        {
          "output_type": "display_data",
          "data": {
            "image/png": "[encoded data removed]",
            "text/plain": [
              "<Figure size 432x288 with 1 Axes>"
            ]
          },
          "metadata": {
            "needs_background": "light"
          }
        },
        {
          "output_type": "stream",
          "name": "stdout",
          "text": [
            "pgd_activation\n"
          ]
        },
        {
          "output_type": "display_data",
          "data": {
            "image/png": "[encoded data removed]",
            "text/plain": [
              "<Figure size 432x288 with 1 Axes>"
            ]
          },
          "metadata": {
            "needs_background": "light"
          }
        },
        {
          "output_type": "stream",
          "name": "stdout",
          "text": [
            "bim_activation\n"
          ]
        },
        {
          "output_type": "display_data",
          "data": {
            "image/png": "[encoded data removed]",
            "text/plain": [
              "<Figure size 432x288 with 1 Axes>"
            ]
          },
          "metadata": {
            "needs_background": "light"
          }
        }
      ]
    },
    {
      "cell_type": "code",
      "metadata": {
        "colab": {
          "base_uri": "https://localhost:8080/",
          "height": 0
        },
        "id": "W1c0rzrxaL0Z",
        "outputId": "f0938465-8313-4da8-9007-80bc8c12c316"
      },
      "source": [
        "network_activations_original = network_activation_model.predict(x_train)\n",
        "network_activations_fgsm = network_activation_model.predict(x_train_adv_fgsm)\n",
        "network_activations_pgd = network_activation_model.predict(x_train_adv_pgd)\n",
        "network_activations_bim = network_activation_model.predict(x_train_adv_bim)\n",
        "\n",
        "# network_activations_original[0][:,:,0].shape\n",
        "print(\"original_activation\")\n",
        "plt.imshow(network_activations_original[0][:,:,0])\n",
        "plt.show()\n",
        "\n",
        "print(\"fgsm_activation\")\n",
        "plt.imshow(network_activations_fgsm[0][:,:,0])\n",
        "plt.show()\n",
        "\n",
        "print(\"pgd_activation\")\n",
        "plt.imshow(network_activations_pgd[0][:,:,0])\n",
        "plt.show()\n",
        "\n",
        "print(\"bim_activation\")\n",
        "plt.imshow(network_activations_bim[0][:,:,0])\n",
        "plt.show()\n",
        "\n"
      ],
      "execution_count": 101,
      "outputs": [
        {
          "output_type": "stream",
          "name": "stdout",
          "text": [
            "original_activation\n"
          ]
        },
        {
          "output_type": "display_data",
          "data": {
            "image/png": "[encoded data removed]",
            "text/plain": [
              "<Figure size 432x288 with 1 Axes>"
            ]
          },
          "metadata": {
            "needs_background": "light"
          }
        },
        {
          "output_type": "stream",
          "name": "stdout",
          "text": [
            "fgsm_activation\n"
          ]
        },
        {
          "output_type": "display_data",
          "data": {
            "image/png": "[encoded data removed]",
            "text/plain": [
              "<Figure size 432x288 with 1 Axes>"
            ]
          },
          "metadata": {
            "needs_background": "light"
          }
        },
        {
          "output_type": "stream",
          "name": "stdout",
          "text": [
            "pgd_activation\n"
          ]
        },
        {
          "output_type": "display_data",
          "data": {
            "image/png": "[encoded data removed]",
            "text/plain": [
              "<Figure size 432x288 with 1 Axes>"
            ]
          },
          "metadata": {
            "needs_background": "light"
          }
        },
        {
          "output_type": "stream",
          "name": "stdout",
          "text": [
            "bim_activation\n"
          ]
        },
        {
          "output_type": "display_data",
          "data": {
            "image/png": "[encoded data removed]",
            "text/plain": [
              "<Figure size 432x288 with 1 Axes>"
            ]
          },
          "metadata": {
            "needs_background": "light"
          }
        }
      ]
    },
    {
      "cell_type": "markdown",
      "metadata": {
        "id": "4KmOzYnCstZw"
      },
      "source": [
        "#Detection - SVM"
      ]
    },
    {
      "cell_type": "code",
      "metadata": {
        "id": "h4MmWCc_kMOO"
      },
      "source": [
        "original_x_train = np.load(\"/content/drive/MyDrive/vgg16_cifar10_PA2_dataset/x_train.npy\")\n",
        "x_train_adv_fgsm = np.load(\"/content/drive/MyDrive/vgg16_cifar10_PA2_dataset/x_train_adv_fgsm.npy\")\n",
        "x_train_adv_pgd = np.load(\"/content/drive/MyDrive/vgg16_cifar10_PA2_dataset/x_train_adv_pgd.npy\")\n",
        "x_train_adv_bim = np.load(\"/content/drive/MyDrive/vgg16_cifar10_PA2_dataset/x_train_adv_bim.npy\")\n",
        "original_y_train = np.load(\"/content/drive/MyDrive/vgg16_cifar10_PA2_dataset/y_train.npy\")\n"
      ],
      "execution_count": null,
      "outputs": []
    },
    {
      "cell_type": "code",
      "metadata": {
        "id": "due8a4tjlWQZ"
      },
      "source": [
        "x_train_detction = np.vstack((original_x_train,x_train_adv_fgsm,x_train_adv_pgd,x_train_adv_bim))\n",
        "np.save(\"/content/drive/MyDrive/vgg16_cifar10_PA2_dataset/x_train_detction.npy\",x_train_detction)\n"
      ],
      "execution_count": null,
      "outputs": []
    },
    {
      "cell_type": "code",
      "metadata": {
        "id": "X21ib7p2inY-"
      },
      "source": [
        "x_train_detction = np.load(\"/content/drive/MyDrive/vgg16_cifar10_PA2_dataset/x_train_detction.npy\")\n",
        "\n",
        "## passsing to adversarialy trained network\n",
        "brute_model_adv = tf.keras.models.load_model(\"/content/drive/MyDrive/vgg16_cifar10_adv_PA2\")\n",
        "\n",
        "layer_for_detection_output = [brute_model_adv.layers[-4].output]\n",
        "network_detection_model = Model(inputs=brute_model_adv.input,outputs=layer_for_detection_output)\n"
      ],
      "execution_count": 4,
      "outputs": []
    },
    {
      "cell_type": "code",
      "metadata": {
        "id": "2gyOJ5wzkhxp"
      },
      "source": [
        "x_train_detction_brute_model_adv_flatten = network_detection_model.predict(x_train_detction)\n",
        "np.save(\"/content/drive/MyDrive/vgg16_cifar10_PA2_dataset/x_train_detction_brute_model_adv_flatten.npy\",x_train_detction_brute_model_adv_flatten)"
      ],
      "execution_count": 7,
      "outputs": []
    },
    {
      "cell_type": "code",
      "metadata": {
        "id": "iJQjsFc5k3Sn"
      },
      "source": [
        "y_train_non_perturbed_ones = np.ones(len(original_y_train)).reshape(len(original_y_train),1)\n",
        "y_train_perturbed_zeros = np.zeros(len(original_y_train)).reshape(len(original_y_train),1)\n",
        "y_train_detction = np.vstack((y_train_non_perturbed_ones,y_train_perturbed_zeros,y_train_perturbed_zeros,y_train_perturbed_zeros))"
      ],
      "execution_count": null,
      "outputs": []
    },
    {
      "cell_type": "code",
      "metadata": {
        "id": "6FmcM8wBl0kO"
      },
      "source": [
        "# np.save(\"/content/drive/MyDrive/vgg16_cifar10_PA2_dataset/y_train_detction.npy\",y_train_detction)"
      ],
      "execution_count": 1,
      "outputs": []
    },
    {
      "cell_type": "code",
      "metadata": {
        "id": "1En-UTYTpqla"
      },
      "source": [
        "## donot use this beacuse high computation power and ram & also get more bttere fetures extracted from trained VGG16 initially one\n",
        "# x_train_detction_flatten = x_train_detction.reshape(len(x_train_detction),-1)\n",
        "# np.save(\"/content/drive/MyDrive/vgg16_cifar10_PA2_dataset/x_train_detction_flatten.npy\",x_train_detction_flatten)"
      ],
      "execution_count": null,
      "outputs": []
    },
    {
      "cell_type": "code",
      "metadata": {
        "id": "I4R8Y6IuqLgW"
      },
      "source": [
        "import numpy as np\n",
        "x_train_detction_brute_model_adv_flatten = np.load(\"/content/drive/MyDrive/vgg16_cifar10_PA2_dataset/x_train_detction_brute_model_adv_flatten.npy\")\n",
        "y_train_detction = np.load(\"/content/drive/MyDrive/vgg16_cifar10_PA2_dataset/y_train_detction.npy\")"
      ],
      "execution_count": 1,
      "outputs": []
    },
    {
      "cell_type": "code",
      "metadata": {
        "colab": {
          "base_uri": "https://localhost:8080/"
        },
        "id": "QUjW-F9uqFp1",
        "outputId": "b91eb7a3-83e1-4b40-b16d-193824fc58c8"
      },
      "source": [
        "print(x_train_detction_brute_model_adv_flatten.shape)\n",
        "print(y_train_detction.ravel().shape)"
      ],
      "execution_count": 2,
      "outputs": [
        {
          "output_type": "stream",
          "name": "stdout",
          "text": [
            "(160000, 512)\n",
            "(160000,)\n"
          ]
        }
      ]
    },
    {
      "cell_type": "code",
      "metadata": {
        "colab": {
          "base_uri": "https://localhost:8080/"
        },
        "id": "SkpEOBi1tFX5",
        "outputId": "b03adf15-701f-4279-f981-0606ded09ad0"
      },
      "source": [
        "from sklearn import svm\n",
        "from sklearn.calibration import CalibratedClassifierCV\n",
        "import joblib\n",
        "svm_detection_classifier = CalibratedClassifierCV(svm.LinearSVC())\n",
        "svm_detection_classifier.fit(x_train_detction_brute_model_adv_flatten, y_train_detction.ravel())\n",
        "\n",
        "joblib.dump(svm_detection_classifier, '/content/drive/MyDrive/svm_detection_model.sav')\n",
        "\n",
        "svm_detection_classifier = joblib.load('/content/drive/MyDrive/svm_detection_model.sav')"
      ],
      "execution_count": 3,
      "outputs": [
        {
          "output_type": "stream",
          "name": "stderr",
          "text": [
            "/usr/local/lib/python3.7/dist-packages/sklearn/svm/_base.py:1208: ConvergenceWarning: Liblinear failed to converge, increase the number of iterations.\n",
            "  ConvergenceWarning,\n",
            "/usr/local/lib/python3.7/dist-packages/sklearn/svm/_base.py:1208: ConvergenceWarning: Liblinear failed to converge, increase the number of iterations.\n",
            "  ConvergenceWarning,\n",
            "/usr/local/lib/python3.7/dist-packages/sklearn/svm/_base.py:1208: ConvergenceWarning: Liblinear failed to converge, increase the number of iterations.\n",
            "  ConvergenceWarning,\n",
            "/usr/local/lib/python3.7/dist-packages/sklearn/svm/_base.py:1208: ConvergenceWarning: Liblinear failed to converge, increase the number of iterations.\n",
            "  ConvergenceWarning,\n",
            "/usr/local/lib/python3.7/dist-packages/sklearn/svm/_base.py:1208: ConvergenceWarning: Liblinear failed to converge, increase the number of iterations.\n",
            "  ConvergenceWarning,\n"
          ]
        }
      ]
    },
    {
      "cell_type": "code",
      "metadata": {
        "id": "VwlerNVDquoC"
      },
      "source": [
        "original_x_test = np.load(\"/content/drive/MyDrive/vgg16_cifar10_PA2_dataset/x_test.npy\")\n",
        "x_test_adv_fgsm = np.load(\"/content/drive/MyDrive/vgg16_cifar10_PA2_dataset/x_test_adv_fgsm.npy\")\n",
        "x_test_adv_pgd = np.load(\"/content/drive/MyDrive/vgg16_cifar10_PA2_dataset/x_test_adv_pgd.npy\")\n",
        "x_test_adv_bim = np.load(\"/content/drive/MyDrive/vgg16_cifar10_PA2_dataset/x_test_adv_bim.npy\")\n",
        "original_y_test = np.load(\"/content/drive/MyDrive/vgg16_cifar10_PA2_dataset/y_test.npy\")"
      ],
      "execution_count": 5,
      "outputs": []
    },
    {
      "cell_type": "code",
      "metadata": {
        "id": "_hrYi6rNfEvv"
      },
      "source": [
        "brute_model_adv = tf.keras.models.load_model(\"/content/drive/MyDrive/vgg16_cifar10_adv_PA2\")\n",
        "\n",
        "layer_for_detection_output = [brute_model_adv.layers[-4].output]\n",
        "network_detection_model = Model(inputs=brute_model_adv.input,outputs=layer_for_detection_output)"
      ],
      "execution_count": 9,
      "outputs": []
    },
    {
      "cell_type": "code",
      "metadata": {
        "id": "Kj5k__JyrUYk"
      },
      "source": [
        "x_test_detction = np.vstack((original_x_test,x_test_adv_fgsm,x_test_adv_pgd,x_test_adv_bim))\n",
        "x_test_detction_brute_model_adv_flatten = network_detection_model.predict(x_test_detction)\n",
        "np.save(\"/content/drive/MyDrive/vgg16_cifar10_PA2_dataset/x_test_detction_brute_model_adv_flatten.npy\",x_test_detction_brute_model_adv_flatten)\n",
        "\n",
        "\n",
        "y_test_non_perturbed_ones = np.ones(len(original_y_test)).reshape(len(original_y_test),1)\n",
        "y_test_perturbed_zeros = np.zeros(len(original_y_test)).reshape(len(original_y_test),1)\n",
        "y_test_detction = np.vstack((y_test_non_perturbed_ones,y_test_perturbed_zeros,y_test_perturbed_zeros,y_test_perturbed_zeros))\n",
        "np.save(\"/content/drive/MyDrive/vgg16_cifar10_PA2_dataset/y_test_detction.npy\",y_test_detction)"
      ],
      "execution_count": 10,
      "outputs": []
    },
    {
      "cell_type": "code",
      "metadata": {
        "id": "QxzlQCbkqdjH"
      },
      "source": [
        "y_pred_x_test_detction = svm_detection_classifier.predict(x_test_detction_brute_model_adv_flatten)"
      ],
      "execution_count": 11,
      "outputs": []
    },
    {
      "cell_type": "code",
      "metadata": {
        "colab": {
          "base_uri": "https://localhost:8080/"
        },
        "id": "skgTlUuzlr0M",
        "outputId": "a53530e5-e956-44e9-d460-a0e2a18155de"
      },
      "source": [
        "from sklearn.metrics import accuracy_score,confusion_matrix\n",
        "\n",
        "accuracy_score(y_test_detction,y_pred_x_test_detction)"
      ],
      "execution_count": 12,
      "outputs": [
        {
          "output_type": "execute_result",
          "data": {
            "text/plain": [
              "0.75"
            ]
          },
          "metadata": {},
          "execution_count": 12
        }
      ]
    }
  ]
}