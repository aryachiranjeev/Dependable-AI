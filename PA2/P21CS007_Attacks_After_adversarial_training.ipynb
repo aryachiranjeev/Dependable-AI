{
  "nbformat": 4,
  "nbformat_minor": 0,
  "metadata": {
    "accelerator": "GPU",
    "colab": {
      "name": "P21CS007_Attacks_After_adversarial_training.ipynb",
      "provenance": [],
      "collapsed_sections": [
        "GXwYd6rifHdp",
        "fKeqQiPomql4",
        "m5cD6Yuq8px_",
        "GXlmJhgqq3w5",
        "3FrXO5Inq8Kh",
        "kaB9ihoQL0_b",
        "xVuKho967zzk",
        "f3KYvgZQ5L62"
      ]
    },
    "kernelspec": {
      "display_name": "Python 3",
      "name": "python3"
    },
    "language_info": {
      "name": "python"
    },
    "widgets": {
      "application/vnd.jupyter.widget-state+json": {
        "a7f7969fcdb24d629d7f63257267c200": {
          "model_module": "@jupyter-widgets/controls",
          "model_name": "HBoxModel",
          "model_module_version": "1.5.0",
          "state": {
            "_dom_classes": [],
            "_model_module": "@jupyter-widgets/controls",
            "_model_module_version": "1.5.0",
            "_model_name": "HBoxModel",
            "_view_count": null,
            "_view_module": "@jupyter-widgets/controls",
            "_view_module_version": "1.5.0",
            "_view_name": "HBoxView",
            "box_style": "",
            "children": [
              "IPY_MODEL_c6ab1575ec5b4e4aaa7abe70c7fd6a2e",
              "IPY_MODEL_f8848180249548e08c9aecb4d6a4f2ed",
              "IPY_MODEL_c0203be3be574f6cbf2e18b261420e61"
            ],
            "layout": "IPY_MODEL_3ab2c1c1ac3d46fa8d5c46ece3a47e87"
          }
        },
        "c6ab1575ec5b4e4aaa7abe70c7fd6a2e": {
          "model_module": "@jupyter-widgets/controls",
          "model_name": "HTMLModel",
          "model_module_version": "1.5.0",
          "state": {
            "_dom_classes": [],
            "_model_module": "@jupyter-widgets/controls",
            "_model_module_version": "1.5.0",
            "_model_name": "HTMLModel",
            "_view_count": null,
            "_view_module": "@jupyter-widgets/controls",
            "_view_module_version": "1.5.0",
            "_view_name": "HTMLView",
            "description": "",
            "description_tooltip": null,
            "layout": "IPY_MODEL_ffc1d56f52a34a8aa02f5dc762ca746a",
            "placeholder": "​",
            "style": "IPY_MODEL_b1a8daae5dd6400b838c67f193b51ad5",
            "value": "PGD - Batches: "
          }
        },
        "f8848180249548e08c9aecb4d6a4f2ed": {
          "model_module": "@jupyter-widgets/controls",
          "model_name": "FloatProgressModel",
          "model_module_version": "1.5.0",
          "state": {
            "_dom_classes": [],
            "_model_module": "@jupyter-widgets/controls",
            "_model_module_version": "1.5.0",
            "_model_name": "FloatProgressModel",
            "_view_count": null,
            "_view_module": "@jupyter-widgets/controls",
            "_view_module_version": "1.5.0",
            "_view_name": "ProgressView",
            "bar_style": "info",
            "description": "",
            "description_tooltip": null,
            "layout": "IPY_MODEL_a911f0a93d0245bb93b507676048bbe9",
            "max": 1,
            "min": 0,
            "orientation": "horizontal",
            "style": "IPY_MODEL_1302978403e844918b10c444b8e338ec",
            "value": 1
          }
        },
        "c0203be3be574f6cbf2e18b261420e61": {
          "model_module": "@jupyter-widgets/controls",
          "model_name": "HTMLModel",
          "model_module_version": "1.5.0",
          "state": {
            "_dom_classes": [],
            "_model_module": "@jupyter-widgets/controls",
            "_model_module_version": "1.5.0",
            "_model_name": "HTMLModel",
            "_view_count": null,
            "_view_module": "@jupyter-widgets/controls",
            "_view_module_version": "1.5.0",
            "_view_name": "HTMLView",
            "description": "",
            "description_tooltip": null,
            "layout": "IPY_MODEL_83d5f79734a2481a8c1d714b381b94c2",
            "placeholder": "​",
            "style": "IPY_MODEL_44a7859a083c4e1bbd05e64a1208a844",
            "value": " 1250/? [2:17:02&lt;00:00,  6.59s/it]"
          }
        },
        "3ab2c1c1ac3d46fa8d5c46ece3a47e87": {
          "model_module": "@jupyter-widgets/base",
          "model_name": "LayoutModel",
          "model_module_version": "1.2.0",
          "state": {
            "_model_module": "@jupyter-widgets/base",
            "_model_module_version": "1.2.0",
            "_model_name": "LayoutModel",
            "_view_count": null,
            "_view_module": "@jupyter-widgets/base",
            "_view_module_version": "1.2.0",
            "_view_name": "LayoutView",
            "align_content": null,
            "align_items": null,
            "align_self": null,
            "border": null,
            "bottom": null,
            "display": null,
            "flex": null,
            "flex_flow": null,
            "grid_area": null,
            "grid_auto_columns": null,
            "grid_auto_flow": null,
            "grid_auto_rows": null,
            "grid_column": null,
            "grid_gap": null,
            "grid_row": null,
            "grid_template_areas": null,
            "grid_template_columns": null,
            "grid_template_rows": null,
            "height": null,
            "justify_content": null,
            "justify_items": null,
            "left": null,
            "margin": null,
            "max_height": null,
            "max_width": null,
            "min_height": null,
            "min_width": null,
            "object_fit": null,
            "object_position": null,
            "order": null,
            "overflow": null,
            "overflow_x": null,
            "overflow_y": null,
            "padding": null,
            "right": null,
            "top": null,
            "visibility": null,
            "width": null
          }
        },
        "ffc1d56f52a34a8aa02f5dc762ca746a": {
          "model_module": "@jupyter-widgets/base",
          "model_name": "LayoutModel",
          "model_module_version": "1.2.0",
          "state": {
            "_model_module": "@jupyter-widgets/base",
            "_model_module_version": "1.2.0",
            "_model_name": "LayoutModel",
            "_view_count": null,
            "_view_module": "@jupyter-widgets/base",
            "_view_module_version": "1.2.0",
            "_view_name": "LayoutView",
            "align_content": null,
            "align_items": null,
            "align_self": null,
            "border": null,
            "bottom": null,
            "display": null,
            "flex": null,
            "flex_flow": null,
            "grid_area": null,
            "grid_auto_columns": null,
            "grid_auto_flow": null,
            "grid_auto_rows": null,
            "grid_column": null,
            "grid_gap": null,
            "grid_row": null,
            "grid_template_areas": null,
            "grid_template_columns": null,
            "grid_template_rows": null,
            "height": null,
            "justify_content": null,
            "justify_items": null,
            "left": null,
            "margin": null,
            "max_height": null,
            "max_width": null,
            "min_height": null,
            "min_width": null,
            "object_fit": null,
            "object_position": null,
            "order": null,
            "overflow": null,
            "overflow_x": null,
            "overflow_y": null,
            "padding": null,
            "right": null,
            "top": null,
            "visibility": null,
            "width": null
          }
        },
        "b1a8daae5dd6400b838c67f193b51ad5": {
          "model_module": "@jupyter-widgets/controls",
          "model_name": "DescriptionStyleModel",
          "model_module_version": "1.5.0",
          "state": {
            "_model_module": "@jupyter-widgets/controls",
            "_model_module_version": "1.5.0",
            "_model_name": "DescriptionStyleModel",
            "_view_count": null,
            "_view_module": "@jupyter-widgets/base",
            "_view_module_version": "1.2.0",
            "_view_name": "StyleView",
            "description_width": ""
          }
        },
        "a911f0a93d0245bb93b507676048bbe9": {
          "model_module": "@jupyter-widgets/base",
          "model_name": "LayoutModel",
          "model_module_version": "1.2.0",
          "state": {
            "_model_module": "@jupyter-widgets/base",
            "_model_module_version": "1.2.0",
            "_model_name": "LayoutModel",
            "_view_count": null,
            "_view_module": "@jupyter-widgets/base",
            "_view_module_version": "1.2.0",
            "_view_name": "LayoutView",
            "align_content": null,
            "align_items": null,
            "align_self": null,
            "border": null,
            "bottom": null,
            "display": null,
            "flex": null,
            "flex_flow": null,
            "grid_area": null,
            "grid_auto_columns": null,
            "grid_auto_flow": null,
            "grid_auto_rows": null,
            "grid_column": null,
            "grid_gap": null,
            "grid_row": null,
            "grid_template_areas": null,
            "grid_template_columns": null,
            "grid_template_rows": null,
            "height": null,
            "justify_content": null,
            "justify_items": null,
            "left": null,
            "margin": null,
            "max_height": null,
            "max_width": null,
            "min_height": null,
            "min_width": null,
            "object_fit": null,
            "object_position": null,
            "order": null,
            "overflow": null,
            "overflow_x": null,
            "overflow_y": null,
            "padding": null,
            "right": null,
            "top": null,
            "visibility": null,
            "width": "20px"
          }
        },
        "1302978403e844918b10c444b8e338ec": {
          "model_module": "@jupyter-widgets/controls",
          "model_name": "ProgressStyleModel",
          "model_module_version": "1.5.0",
          "state": {
            "_model_module": "@jupyter-widgets/controls",
            "_model_module_version": "1.5.0",
            "_model_name": "ProgressStyleModel",
            "_view_count": null,
            "_view_module": "@jupyter-widgets/base",
            "_view_module_version": "1.2.0",
            "_view_name": "StyleView",
            "bar_color": null,
            "description_width": ""
          }
        },
        "83d5f79734a2481a8c1d714b381b94c2": {
          "model_module": "@jupyter-widgets/base",
          "model_name": "LayoutModel",
          "model_module_version": "1.2.0",
          "state": {
            "_model_module": "@jupyter-widgets/base",
            "_model_module_version": "1.2.0",
            "_model_name": "LayoutModel",
            "_view_count": null,
            "_view_module": "@jupyter-widgets/base",
            "_view_module_version": "1.2.0",
            "_view_name": "LayoutView",
            "align_content": null,
            "align_items": null,
            "align_self": null,
            "border": null,
            "bottom": null,
            "display": null,
            "flex": null,
            "flex_flow": null,
            "grid_area": null,
            "grid_auto_columns": null,
            "grid_auto_flow": null,
            "grid_auto_rows": null,
            "grid_column": null,
            "grid_gap": null,
            "grid_row": null,
            "grid_template_areas": null,
            "grid_template_columns": null,
            "grid_template_rows": null,
            "height": null,
            "justify_content": null,
            "justify_items": null,
            "left": null,
            "margin": null,
            "max_height": null,
            "max_width": null,
            "min_height": null,
            "min_width": null,
            "object_fit": null,
            "object_position": null,
            "order": null,
            "overflow": null,
            "overflow_x": null,
            "overflow_y": null,
            "padding": null,
            "right": null,
            "top": null,
            "visibility": null,
            "width": null
          }
        },
        "44a7859a083c4e1bbd05e64a1208a844": {
          "model_module": "@jupyter-widgets/controls",
          "model_name": "DescriptionStyleModel",
          "model_module_version": "1.5.0",
          "state": {
            "_model_module": "@jupyter-widgets/controls",
            "_model_module_version": "1.5.0",
            "_model_name": "DescriptionStyleModel",
            "_view_count": null,
            "_view_module": "@jupyter-widgets/base",
            "_view_module_version": "1.2.0",
            "_view_name": "StyleView",
            "description_width": ""
          }
        },
        "511ec7c5e63c49c7bc72857bc7295a4e": {
          "model_module": "@jupyter-widgets/controls",
          "model_name": "HBoxModel",
          "model_module_version": "1.5.0",
          "state": {
            "_dom_classes": [],
            "_model_module": "@jupyter-widgets/controls",
            "_model_module_version": "1.5.0",
            "_model_name": "HBoxModel",
            "_view_count": null,
            "_view_module": "@jupyter-widgets/controls",
            "_view_module_version": "1.5.0",
            "_view_name": "HBoxView",
            "box_style": "",
            "children": [
              "IPY_MODEL_a3c0125555504267a07d57af191979fd",
              "IPY_MODEL_1fde1296a2a742aa9e28e5ce77b28578",
              "IPY_MODEL_eb2e7b996a654908b1020a6fff66069a"
            ],
            "layout": "IPY_MODEL_8dc6736d90f742e78da44577f45df735"
          }
        },
        "a3c0125555504267a07d57af191979fd": {
          "model_module": "@jupyter-widgets/controls",
          "model_name": "HTMLModel",
          "model_module_version": "1.5.0",
          "state": {
            "_dom_classes": [],
            "_model_module": "@jupyter-widgets/controls",
            "_model_module_version": "1.5.0",
            "_model_name": "HTMLModel",
            "_view_count": null,
            "_view_module": "@jupyter-widgets/controls",
            "_view_module_version": "1.5.0",
            "_view_name": "HTMLView",
            "description": "",
            "description_tooltip": null,
            "layout": "IPY_MODEL_03ab2fc63f73455d9b6b134ab3a8c458",
            "placeholder": "​",
            "style": "IPY_MODEL_ae86b24ef9d54411b3c3c4b043bfc331",
            "value": "PGD - Batches: "
          }
        },
        "1fde1296a2a742aa9e28e5ce77b28578": {
          "model_module": "@jupyter-widgets/controls",
          "model_name": "FloatProgressModel",
          "model_module_version": "1.5.0",
          "state": {
            "_dom_classes": [],
            "_model_module": "@jupyter-widgets/controls",
            "_model_module_version": "1.5.0",
            "_model_name": "FloatProgressModel",
            "_view_count": null,
            "_view_module": "@jupyter-widgets/controls",
            "_view_module_version": "1.5.0",
            "_view_name": "ProgressView",
            "bar_style": "info",
            "description": "",
            "description_tooltip": null,
            "layout": "IPY_MODEL_aae24507457b4998ab282abd37531a88",
            "max": 1,
            "min": 0,
            "orientation": "horizontal",
            "style": "IPY_MODEL_736e72dabaa240bcbf1b26689e8229c0",
            "value": 1
          }
        },
        "eb2e7b996a654908b1020a6fff66069a": {
          "model_module": "@jupyter-widgets/controls",
          "model_name": "HTMLModel",
          "model_module_version": "1.5.0",
          "state": {
            "_dom_classes": [],
            "_model_module": "@jupyter-widgets/controls",
            "_model_module_version": "1.5.0",
            "_model_name": "HTMLModel",
            "_view_count": null,
            "_view_module": "@jupyter-widgets/controls",
            "_view_module_version": "1.5.0",
            "_view_name": "HTMLView",
            "description": "",
            "description_tooltip": null,
            "layout": "IPY_MODEL_3dd7c6d22b3e4490984e6d9afaaa57e2",
            "placeholder": "​",
            "style": "IPY_MODEL_7f59aa9e027342d08ef4e84351e46742",
            "value": " 1250/? [2:17:07&lt;00:00,  6.52s/it]"
          }
        },
        "8dc6736d90f742e78da44577f45df735": {
          "model_module": "@jupyter-widgets/base",
          "model_name": "LayoutModel",
          "model_module_version": "1.2.0",
          "state": {
            "_model_module": "@jupyter-widgets/base",
            "_model_module_version": "1.2.0",
            "_model_name": "LayoutModel",
            "_view_count": null,
            "_view_module": "@jupyter-widgets/base",
            "_view_module_version": "1.2.0",
            "_view_name": "LayoutView",
            "align_content": null,
            "align_items": null,
            "align_self": null,
            "border": null,
            "bottom": null,
            "display": null,
            "flex": null,
            "flex_flow": null,
            "grid_area": null,
            "grid_auto_columns": null,
            "grid_auto_flow": null,
            "grid_auto_rows": null,
            "grid_column": null,
            "grid_gap": null,
            "grid_row": null,
            "grid_template_areas": null,
            "grid_template_columns": null,
            "grid_template_rows": null,
            "height": null,
            "justify_content": null,
            "justify_items": null,
            "left": null,
            "margin": null,
            "max_height": null,
            "max_width": null,
            "min_height": null,
            "min_width": null,
            "object_fit": null,
            "object_position": null,
            "order": null,
            "overflow": null,
            "overflow_x": null,
            "overflow_y": null,
            "padding": null,
            "right": null,
            "top": null,
            "visibility": null,
            "width": null
          }
        },
        "03ab2fc63f73455d9b6b134ab3a8c458": {
          "model_module": "@jupyter-widgets/base",
          "model_name": "LayoutModel",
          "model_module_version": "1.2.0",
          "state": {
            "_model_module": "@jupyter-widgets/base",
            "_model_module_version": "1.2.0",
            "_model_name": "LayoutModel",
            "_view_count": null,
            "_view_module": "@jupyter-widgets/base",
            "_view_module_version": "1.2.0",
            "_view_name": "LayoutView",
            "align_content": null,
            "align_items": null,
            "align_self": null,
            "border": null,
            "bottom": null,
            "display": null,
            "flex": null,
            "flex_flow": null,
            "grid_area": null,
            "grid_auto_columns": null,
            "grid_auto_flow": null,
            "grid_auto_rows": null,
            "grid_column": null,
            "grid_gap": null,
            "grid_row": null,
            "grid_template_areas": null,
            "grid_template_columns": null,
            "grid_template_rows": null,
            "height": null,
            "justify_content": null,
            "justify_items": null,
            "left": null,
            "margin": null,
            "max_height": null,
            "max_width": null,
            "min_height": null,
            "min_width": null,
            "object_fit": null,
            "object_position": null,
            "order": null,
            "overflow": null,
            "overflow_x": null,
            "overflow_y": null,
            "padding": null,
            "right": null,
            "top": null,
            "visibility": null,
            "width": null
          }
        },
        "ae86b24ef9d54411b3c3c4b043bfc331": {
          "model_module": "@jupyter-widgets/controls",
          "model_name": "DescriptionStyleModel",
          "model_module_version": "1.5.0",
          "state": {
            "_model_module": "@jupyter-widgets/controls",
            "_model_module_version": "1.5.0",
            "_model_name": "DescriptionStyleModel",
            "_view_count": null,
            "_view_module": "@jupyter-widgets/base",
            "_view_module_version": "1.2.0",
            "_view_name": "StyleView",
            "description_width": ""
          }
        },
        "aae24507457b4998ab282abd37531a88": {
          "model_module": "@jupyter-widgets/base",
          "model_name": "LayoutModel",
          "model_module_version": "1.2.0",
          "state": {
            "_model_module": "@jupyter-widgets/base",
            "_model_module_version": "1.2.0",
            "_model_name": "LayoutModel",
            "_view_count": null,
            "_view_module": "@jupyter-widgets/base",
            "_view_module_version": "1.2.0",
            "_view_name": "LayoutView",
            "align_content": null,
            "align_items": null,
            "align_self": null,
            "border": null,
            "bottom": null,
            "display": null,
            "flex": null,
            "flex_flow": null,
            "grid_area": null,
            "grid_auto_columns": null,
            "grid_auto_flow": null,
            "grid_auto_rows": null,
            "grid_column": null,
            "grid_gap": null,
            "grid_row": null,
            "grid_template_areas": null,
            "grid_template_columns": null,
            "grid_template_rows": null,
            "height": null,
            "justify_content": null,
            "justify_items": null,
            "left": null,
            "margin": null,
            "max_height": null,
            "max_width": null,
            "min_height": null,
            "min_width": null,
            "object_fit": null,
            "object_position": null,
            "order": null,
            "overflow": null,
            "overflow_x": null,
            "overflow_y": null,
            "padding": null,
            "right": null,
            "top": null,
            "visibility": null,
            "width": "20px"
          }
        },
        "736e72dabaa240bcbf1b26689e8229c0": {
          "model_module": "@jupyter-widgets/controls",
          "model_name": "ProgressStyleModel",
          "model_module_version": "1.5.0",
          "state": {
            "_model_module": "@jupyter-widgets/controls",
            "_model_module_version": "1.5.0",
            "_model_name": "ProgressStyleModel",
            "_view_count": null,
            "_view_module": "@jupyter-widgets/base",
            "_view_module_version": "1.2.0",
            "_view_name": "StyleView",
            "bar_color": null,
            "description_width": ""
          }
        },
        "3dd7c6d22b3e4490984e6d9afaaa57e2": {
          "model_module": "@jupyter-widgets/base",
          "model_name": "LayoutModel",
          "model_module_version": "1.2.0",
          "state": {
            "_model_module": "@jupyter-widgets/base",
            "_model_module_version": "1.2.0",
            "_model_name": "LayoutModel",
            "_view_count": null,
            "_view_module": "@jupyter-widgets/base",
            "_view_module_version": "1.2.0",
            "_view_name": "LayoutView",
            "align_content": null,
            "align_items": null,
            "align_self": null,
            "border": null,
            "bottom": null,
            "display": null,
            "flex": null,
            "flex_flow": null,
            "grid_area": null,
            "grid_auto_columns": null,
            "grid_auto_flow": null,
            "grid_auto_rows": null,
            "grid_column": null,
            "grid_gap": null,
            "grid_row": null,
            "grid_template_areas": null,
            "grid_template_columns": null,
            "grid_template_rows": null,
            "height": null,
            "justify_content": null,
            "justify_items": null,
            "left": null,
            "margin": null,
            "max_height": null,
            "max_width": null,
            "min_height": null,
            "min_width": null,
            "object_fit": null,
            "object_position": null,
            "order": null,
            "overflow": null,
            "overflow_x": null,
            "overflow_y": null,
            "padding": null,
            "right": null,
            "top": null,
            "visibility": null,
            "width": null
          }
        },
        "7f59aa9e027342d08ef4e84351e46742": {
          "model_module": "@jupyter-widgets/controls",
          "model_name": "DescriptionStyleModel",
          "model_module_version": "1.5.0",
          "state": {
            "_model_module": "@jupyter-widgets/controls",
            "_model_module_version": "1.5.0",
            "_model_name": "DescriptionStyleModel",
            "_view_count": null,
            "_view_module": "@jupyter-widgets/base",
            "_view_module_version": "1.2.0",
            "_view_name": "StyleView",
            "description_width": ""
          }
        }
      }
    }
  },
  "cells": [
    {
      "cell_type": "code",
      "metadata": {
        "id": "4WLq7b4RVM6l"
      },
      "source": [
        "import tensorflow as tf\n",
        "import keras\n",
        "import numpy as np\n",
        "import matplotlib.pyplot as plt\n",
        "from keras.datasets import cifar10\n",
        "from keras.models import Model,Sequential\n",
        "from keras.layers import Dense,Flatten,Conv2D,MaxPool2D\n",
        "from keras.applications.vgg16 import VGG16\n",
        "from tensorflow.keras.utils import to_categorical\n",
        "from sklearn.metrics import confusion_matrix"
      ],
      "execution_count": null,
      "outputs": []
    },
    {
      "cell_type": "markdown",
      "metadata": {
        "id": "pBHzs2CX9wgv"
      },
      "source": [
        "**Function for Classwise Accuracy and Test Accuracy calculations**"
      ]
    },
    {
      "cell_type": "code",
      "metadata": {
        "id": "lDwbZLoqeCe1"
      },
      "source": [
        "def classwise_accuracy(models,x_test,y_test):\n",
        "\n",
        "\n",
        "  labels = ['airplane', 'automobile', 'bird', 'cat', 'deer', 'dog', 'frog', 'horse', 'ship', 'truck']\n",
        "  print(\"test accuracy:\",accuracy_score(np.argmax(y_test,axis=1),np.argmax(models.predict(x_test),axis=1))*100,\"%\")\n",
        "\n",
        "  confus_matrix = confusion_matrix(np.argmax(y_test,axis=1),np.argmax(models.predict(x_test),axis=1))\n",
        "  print(\"confusion_matrix:\\n\",confus_matrix)\n",
        "  class_accuracy = []\n",
        "  class_TP = []\n",
        "\n",
        "  for i in range(confus_matrix.shape[0]):\n",
        "    for j in range(confus_matrix.shape[1]):\n",
        "      if i == j:\n",
        "        TP = confus_matrix[i][j]\n",
        "        class_TP.append(TP)\n",
        "        \n",
        "  for k in range(confus_matrix.shape[1]):\n",
        "    ca = (class_TP[k] / confus_matrix[:,k].sum())*100\n",
        "    class_accuracy.append(ca)\n",
        "    print(\"class \",k,\" accuracy \",labels[k],\" :\",ca,\"%\")    \n",
        "    \n",
        "  class_accuracy = np.array(class_accuracy)\n",
        "            \n",
        "\n",
        "\n"
      ],
      "execution_count": null,
      "outputs": []
    },
    {
      "cell_type": "markdown",
      "metadata": {
        "id": "GXwYd6rifHdp"
      },
      "source": [
        "# Performing 3 attacks after Adversarial Training"
      ]
    },
    {
      "cell_type": "code",
      "metadata": {
        "colab": {
          "base_uri": "https://localhost:8080/"
        },
        "id": "yp7wNCeAcQtY",
        "outputId": "89bc4954-88cc-4202-e17f-69c443ded08d"
      },
      "source": [
        "!pip install adversarial-robustness-toolbox"
      ],
      "execution_count": null,
      "outputs": [
        {
          "name": "stdout",
          "output_type": "stream",
          "text": [
            "Collecting adversarial-robustness-toolbox\n",
            "  Downloading adversarial_robustness_toolbox-1.8.1-py3-none-any.whl (1.1 MB)\n",
            "\u001b[K     |████████████████████████████████| 1.1 MB 5.2 MB/s \n",
            "\u001b[?25hCollecting numba>=0.53.1\n",
            "  Downloading numba-0.54.1-cp37-cp37m-manylinux2014_x86_64.manylinux_2_17_x86_64.whl (3.3 MB)\n",
            "\u001b[K     |████████████████████████████████| 3.3 MB 20.1 MB/s \n",
            "\u001b[?25hRequirement already satisfied: setuptools in /usr/local/lib/python3.7/dist-packages (from adversarial-robustness-toolbox) (57.4.0)\n",
            "Requirement already satisfied: six in /usr/local/lib/python3.7/dist-packages (from adversarial-robustness-toolbox) (1.15.0)\n",
            "Requirement already satisfied: scikit-learn<1.1.0,>=0.22.2 in /usr/local/lib/python3.7/dist-packages (from adversarial-robustness-toolbox) (1.0.1)\n",
            "Requirement already satisfied: scipy>=1.4.1 in /usr/local/lib/python3.7/dist-packages (from adversarial-robustness-toolbox) (1.4.1)\n",
            "Requirement already satisfied: tqdm in /usr/local/lib/python3.7/dist-packages (from adversarial-robustness-toolbox) (4.62.3)\n",
            "Requirement already satisfied: numpy>=1.18.0 in /usr/local/lib/python3.7/dist-packages (from adversarial-robustness-toolbox) (1.19.5)\n",
            "Collecting llvmlite<0.38,>=0.37.0rc1\n",
            "  Downloading llvmlite-0.37.0-cp37-cp37m-manylinux2014_x86_64.whl (26.3 MB)\n",
            "\u001b[K     |████████████████████████████████| 26.3 MB 1.5 MB/s \n",
            "\u001b[?25hRequirement already satisfied: joblib>=0.11 in /usr/local/lib/python3.7/dist-packages (from scikit-learn<1.1.0,>=0.22.2->adversarial-robustness-toolbox) (1.1.0)\n",
            "Requirement already satisfied: threadpoolctl>=2.0.0 in /usr/local/lib/python3.7/dist-packages (from scikit-learn<1.1.0,>=0.22.2->adversarial-robustness-toolbox) (3.0.0)\n",
            "Installing collected packages: llvmlite, numba, adversarial-robustness-toolbox\n",
            "  Attempting uninstall: llvmlite\n",
            "    Found existing installation: llvmlite 0.34.0\n",
            "    Uninstalling llvmlite-0.34.0:\n",
            "      Successfully uninstalled llvmlite-0.34.0\n",
            "  Attempting uninstall: numba\n",
            "    Found existing installation: numba 0.51.2\n",
            "    Uninstalling numba-0.51.2:\n",
            "      Successfully uninstalled numba-0.51.2\n",
            "Successfully installed adversarial-robustness-toolbox-1.8.1 llvmlite-0.37.0 numba-0.54.1\n"
          ]
        }
      ]
    },
    {
      "cell_type": "code",
      "metadata": {
        "id": "-DrBNczJfMts"
      },
      "source": [
        "from art.estimators.classification import TensorFlowV2Classifier\n",
        "from art.attacks.evasion import FastGradientMethod, BasicIterativeMethod, SaliencyMapMethod,ProjectedGradientDescent"
      ],
      "execution_count": null,
      "outputs": []
    },
    {
      "cell_type": "markdown",
      "metadata": {
        "id": "fKeqQiPomql4"
      },
      "source": [
        "# Attacks after Adversarial Training"
      ]
    },
    {
      "cell_type": "code",
      "metadata": {
        "id": "hnmpk6jUI0rS"
      },
      "source": [
        "new_x_test_for_adversarial_training = np.load(\"/content/drive/MyDrive/vgg16_cifar10_PA2_dataset/new_x_test_for_adversarial_training.npy\")\n",
        "new_y_test_for_adversarial_training = np.load(\"/content/drive/MyDrive/vgg16_cifar10_PA2_dataset/new_y_test_for_adversarial_training.npy\")\n",
        "\n",
        "x_test = new_x_test_for_adversarial_training\n",
        "y_test = new_y_test_for_adversarial_training"
      ],
      "execution_count": null,
      "outputs": []
    },
    {
      "cell_type": "code",
      "metadata": {
        "id": "eHqFXrd38pCf"
      },
      "source": [
        ""
      ],
      "execution_count": null,
      "outputs": []
    },
    {
      "cell_type": "markdown",
      "metadata": {
        "id": "m5cD6Yuq8px_"
      },
      "source": [
        "# brute_model_adv - model after Adversarial Training"
      ]
    },
    {
      "cell_type": "code",
      "metadata": {
        "id": "-Ge-23KWJi59"
      },
      "source": [
        "brute_model_adv = tf.keras.models.load_model(\"/content/drive/MyDrive/vgg16_cifar10_adv_PA2\")"
      ],
      "execution_count": null,
      "outputs": []
    },
    {
      "cell_type": "markdown",
      "metadata": {
        "id": "GXlmJhgqq3w5"
      },
      "source": [
        "# FGSM Attack"
      ]
    },
    {
      "cell_type": "code",
      "metadata": {
        "id": "i-tnOmkgfRo_"
      },
      "source": [
        "loss_object = tf.keras.losses.CategoricalCrossentropy()\n",
        "classifier = TensorFlowV2Classifier(model=brute_model_adv, nb_classes=10, input_shape=(32, 32, 3), loss_object=loss_object,clip_values=(0, 1), channels_first=False)"
      ],
      "execution_count": null,
      "outputs": []
    },
    {
      "cell_type": "code",
      "metadata": {
        "colab": {
          "base_uri": "https://localhost:8080/"
        },
        "id": "5ux881nvfSQV",
        "outputId": "e6df1108-cc4b-41af-fc78-91ab390445bf"
      },
      "source": [
        "attack_fgsm = FastGradientMethod(estimator=classifier,eps = 0.02,batch_size = 32)\n",
        "x_test_adv_fgsm = attack_fgsm.generate(x_test)\n",
        "print(x_test_adv_fgsm.shape)"
      ],
      "execution_count": null,
      "outputs": [
        {
          "name": "stdout",
          "output_type": "stream",
          "text": [
            "(40000, 32, 32, 3)\n"
          ]
        }
      ]
    },
    {
      "cell_type": "code",
      "metadata": {
        "colab": {
          "base_uri": "https://localhost:8080/",
          "height": 764
        },
        "id": "MoNPMDN2nQ0I",
        "outputId": "6b8efac6-d795-4876-de9d-a8d86f84f5a4"
      },
      "source": [
        "plt.imshow((x_test_adv_fgsm[0]*255).astype(np.uint8)) \n",
        "plt.show()\n",
        "\n",
        "plt.imshow((x_test[0]*255).astype(np.uint8))\n",
        "plt.show()\n",
        "\n",
        "plt.imshow(((x_test_adv_fgsm[0] - x_test[0])*255).astype(np.uint8))\n",
        "plt.show()"
      ],
      "execution_count": null,
      "outputs": [
        {
          "data": {
            "image/png": "[encoded data removed]",
            "text/plain": [
              "<Figure size 432x288 with 1 Axes>"
            ]
          },
          "metadata": {},
          "output_type": "display_data"
        },
        {
          "data": {
            "image/png": "[encoded data removed]",
            "text/plain": [
              "<Figure size 432x288 with 1 Axes>"
            ]
          },
          "metadata": {},
          "output_type": "display_data"
        },
        {
          "data": {
            "image/png": "[encoded data removed]",
            "text/plain": [
              "<Figure size 432x288 with 1 Axes>"
            ]
          },
          "metadata": {},
          "output_type": "display_data"
        }
      ]
    },
    {
      "cell_type": "code",
      "metadata": {
        "colab": {
          "base_uri": "https://localhost:8080/",
          "height": 764
        },
        "id": "mI1ovIBSoqB4",
        "outputId": "914ffebd-d1ca-493e-f711-4d8d73e7c130"
      },
      "source": [
        "plt.imshow((x_test_adv_fgsm[1]*255).astype(np.uint8))\n",
        "plt.show()\n",
        "\n",
        "plt.imshow((x_test[1]*255).astype(np.uint8))\n",
        "plt.show()\n",
        "\n",
        "plt.imshow(((x_test_adv_fgsm[1] - x_test[1])*255).astype(np.uint8))\n",
        "plt.show()"
      ],
      "execution_count": null,
      "outputs": [
        {
          "data": {
            "image/png": "[encoded data removed]",
            "text/plain": [
              "<Figure size 432x288 with 1 Axes>"
            ]
          },
          "metadata": {},
          "output_type": "display_data"
        },
        {
          "data": {
            "image/png": "[encoded data removed]",
            "text/plain": [
              "<Figure size 432x288 with 1 Axes>"
            ]
          },
          "metadata": {},
          "output_type": "display_data"
        },
        {
          "data": {
            "image/png": "[encoded data removed]",
            "text/plain": [
              "<Figure size 432x288 with 1 Axes>"
            ]
          },
          "metadata": {},
          "output_type": "display_data"
        }
      ]
    },
    {
      "cell_type": "markdown",
      "metadata": {
        "id": "B5kNBukZozJB"
      },
      "source": [
        "**checking wrongly predicting**"
      ]
    },
    {
      "cell_type": "code",
      "metadata": {
        "colab": {
          "base_uri": "https://localhost:8080/"
        },
        "id": "EXN5zTiUoyeA",
        "outputId": "2f5391e6-5491-4912-d5d2-dc72a1d87c85"
      },
      "source": [
        "print(\"incorrect label after atack:\",np.argmax(brute_model.predict(np.expand_dims(x_test_adv_fgsm[0],axis=0))))\n",
        "\n",
        "print(\"corect label:\", np.argmax(brute_model.predict(np.expand_dims(x_test[0],axis=0))))"
      ],
      "execution_count": null,
      "outputs": [
        {
          "name": "stdout",
          "output_type": "stream",
          "text": [
            "incorrect label after atack: 5\n",
            "corect label: 3\n"
          ]
        }
      ]
    },
    {
      "cell_type": "markdown",
      "metadata": {
        "id": "0gxGJr7fp2SA"
      },
      "source": [
        "**accuracy after FGSM attack**"
      ]
    },
    {
      "cell_type": "code",
      "metadata": {
        "colab": {
          "base_uri": "https://localhost:8080/"
        },
        "id": "GvhD5buSp1fU",
        "outputId": "7299a27c-53d8-41ae-8633-34bd9fa2fdb6"
      },
      "source": [
        "from sklearn.metrics import accuracy_score,confusion_matrix\n",
        "print(\"test accuracy:\",accuracy_score(np.argmax(y_test,axis=1),np.argmax(brute_model.predict(x_test_adv_fgsm),axis=1))*100,\"%\")\n",
        "\n",
        "print(\"confusion_matrix:\\n\",confusion_matrix(np.argmax(y_test,axis=1),np.argmax(brute_model.predict(x_test_adv_fgsm),axis=1)))\n"
      ],
      "execution_count": null,
      "outputs": [
        {
          "name": "stdout",
          "output_type": "stream",
          "text": [
            "test accuracy: 26.9275 %\n",
            "confusion_matrix:\n",
            " [[1176  145  861  110  285   29   39  135 1003  217]\n",
            " [ 193 1592  114   72   65   38   90   51  509 1276]\n",
            " [ 416   74 1100  481  646  428  414  254  143   44]\n",
            " [ 117   56  508  835  373  929  442  382  219  139]\n",
            " [ 149   35  958  355  754  280  460  870   86   53]\n",
            " [  62   54  687 1006  270  994  228  566   95   38]\n",
            " [  64  127  686  761  668  460  841  178   96  119]\n",
            " [ 207   38  340  343  772  622   88 1289   74  227]\n",
            " [1217  531  244  198   91   45   79   74 1109  412]\n",
            " [ 387 1152  127  161   38   79  100  458  417 1081]]\n"
          ]
        }
      ]
    },
    {
      "cell_type": "code",
      "metadata": {
        "id": "pfjzKDqsr_qG"
      },
      "source": [
        "np.save(\"/content/drive/MyDrive/vgg16_cifar10_PA2_dataset/x_test_adv_fgsm_after_adversarial_training.npy\",x_test_adv_fgsm)"
      ],
      "execution_count": null,
      "outputs": []
    },
    {
      "cell_type": "code",
      "metadata": {
        "id": "LsFC6WigjQIs"
      },
      "source": [
        "from skimage.metrics import structural_similarity as ssim\n",
        "\n",
        "def mean_ssim(x_test,x_test_adv_fgsm):\n",
        "  \n",
        "  all_ssims = 0\n",
        "  for i in range(len(x_test)):\n",
        "    all_ssims += ssim(x_test[i],x_test_adv_fgsm[i], data_range=x_test_adv_fgsm[2].max() - x_test_adv_fgsm[2].min(), multichannel=True)\n",
        "\n",
        "  print(\"Avaerage SSIM:\",all_ssims/len(x_test))\n",
        "\n"
      ],
      "execution_count": null,
      "outputs": []
    },
    {
      "cell_type": "code",
      "metadata": {
        "colab": {
          "base_uri": "https://localhost:8080/"
        },
        "id": "YH8SDTTnwKVG",
        "outputId": "1a14ba66-5638-4943-b625-a212c97ed67c"
      },
      "source": [
        "mean_ssim(x_test,x_test_adv_fgsm)"
      ],
      "execution_count": null,
      "outputs": [
        {
          "name": "stdout",
          "output_type": "stream",
          "text": [
            "Avaerage SSIM: 0.9704823106868291\n"
          ]
        }
      ]
    },
    {
      "cell_type": "markdown",
      "metadata": {
        "id": "3FrXO5Inq8Kh"
      },
      "source": [
        "# PGD Attack Attack After Adversarial Training"
      ]
    },
    {
      "cell_type": "code",
      "metadata": {
        "id": "Z0NmcyZMnVe2"
      },
      "source": [
        "loss_object = tf.keras.losses.CategoricalCrossentropy()\n",
        "classifier = TensorFlowV2Classifier(model=brute_model_adv, nb_classes=10, input_shape=(32, 32, 3), loss_object=loss_object,clip_values=(0, 1), channels_first=False)"
      ],
      "execution_count": null,
      "outputs": []
    },
    {
      "cell_type": "code",
      "metadata": {
        "colab": {
          "base_uri": "https://localhost:8080/",
          "height": 35,
          "referenced_widgets": [
            "a7f7969fcdb24d629d7f63257267c200",
            "c6ab1575ec5b4e4aaa7abe70c7fd6a2e",
            "f8848180249548e08c9aecb4d6a4f2ed",
            "c0203be3be574f6cbf2e18b261420e61",
            "3ab2c1c1ac3d46fa8d5c46ece3a47e87",
            "ffc1d56f52a34a8aa02f5dc762ca746a",
            "b1a8daae5dd6400b838c67f193b51ad5",
            "a911f0a93d0245bb93b507676048bbe9",
            "1302978403e844918b10c444b8e338ec",
            "83d5f79734a2481a8c1d714b381b94c2",
            "44a7859a083c4e1bbd05e64a1208a844"
          ]
        },
        "id": "EQmhFLmmrB4d",
        "outputId": "e46167ef-1dba-4654-8cd6-cec0013527cc"
      },
      "source": [
        "attack_pgd = ProjectedGradientDescent(estimator=classifier,eps=0.02,batch_size=32)\n",
        "x_test_adv_pgd = attack_pgd.generate(x_test)\n",
        "print(x_test_adv_pgd.shape)"
      ],
      "execution_count": null,
      "outputs": [
        {
          "data": {
            "application/vnd.jupyter.widget-view+json": {
              "model_id": "a7f7969fcdb24d629d7f63257267c200",
              "version_major": 2,
              "version_minor": 0
            },
            "text/plain": [
              "PGD - Batches: 0it [00:00, ?it/s]"
            ]
          },
          "metadata": {},
          "output_type": "display_data"
        },
        {
          "name": "stdout",
          "output_type": "stream",
          "text": [
            "(40000, 32, 32, 3)\n"
          ]
        }
      ]
    },
    {
      "cell_type": "code",
      "metadata": {
        "id": "aECdSp5e42U_"
      },
      "source": [
        "np.save(\"/content/drive/MyDrive/vgg16_cifar10_PA2_dataset/x_test_adv_pgd_after_adversarial_training.npy\",x_test_adv_pgd)"
      ],
      "execution_count": null,
      "outputs": []
    },
    {
      "cell_type": "code",
      "metadata": {
        "colab": {
          "base_uri": "https://localhost:8080/",
          "height": 764
        },
        "id": "Y75Xy-3wsRcJ",
        "outputId": "931fd8f8-0c02-443d-9ee8-cbe3306450ed"
      },
      "source": [
        "plt.imshow((x_test_adv_pgd[0]*255).astype(np.uint8)) \n",
        "plt.show()\n",
        "\n",
        "plt.imshow((x_test[0]*255).astype(np.uint8))\n",
        "plt.show()\n",
        "\n",
        "plt.imshow(((x_test_adv_pgd[0] - x_test[0])*255).astype(np.uint8))\n",
        "plt.show()"
      ],
      "execution_count": null,
      "outputs": [
        {
          "data": {
            "image/png": "[encoded data removed]",
            "text/plain": [
              "<Figure size 432x288 with 1 Axes>"
            ]
          },
          "metadata": {},
          "output_type": "display_data"
        },
        {
          "data": {
            "image/png": "[encoded data removed]",
            "text/plain": [
              "<Figure size 432x288 with 1 Axes>"
            ]
          },
          "metadata": {},
          "output_type": "display_data"
        },
        {
          "data": {
            "image/png": "[encoded data removed]",
            "text/plain": [
              "<Figure size 432x288 with 1 Axes>"
            ]
          },
          "metadata": {},
          "output_type": "display_data"
        }
      ]
    },
    {
      "cell_type": "code",
      "metadata": {
        "colab": {
          "base_uri": "https://localhost:8080/",
          "height": 764
        },
        "id": "tOggrXVQsXv0",
        "outputId": "0bf4c57d-f539-4863-a9aa-74201521ec56"
      },
      "source": [
        "plt.imshow((x_test_adv_pgd[1]*255).astype(np.uint8))\n",
        "plt.show()\n",
        "\n",
        "plt.imshow((x_test[1]*255).astype(np.uint8))\n",
        "plt.show()\n",
        "\n",
        "plt.imshow(((x_test_adv_pgd[1] - x_test[1])*255).astype(np.uint8))\n",
        "plt.show()"
      ],
      "execution_count": null,
      "outputs": [
        {
          "data": {
            "image/png": "[encoded data removed]",
            "text/plain": [
              "<Figure size 432x288 with 1 Axes>"
            ]
          },
          "metadata": {},
          "output_type": "display_data"
        },
        {
          "data": {
            "image/png": "[encoded data removed]",
            "text/plain": [
              "<Figure size 432x288 with 1 Axes>"
            ]
          },
          "metadata": {},
          "output_type": "display_data"
        },
        {
          "data": {
            "image/png": "[encoded data removed]",
            "text/plain": [
              "<Figure size 432x288 with 1 Axes>"
            ]
          },
          "metadata": {},
          "output_type": "display_data"
        }
      ]
    },
    {
      "cell_type": "markdown",
      "metadata": {
        "id": "0j0NpElBshyc"
      },
      "source": [
        "**checking wrongly predicting**\n"
      ]
    },
    {
      "cell_type": "code",
      "metadata": {
        "colab": {
          "base_uri": "https://localhost:8080/"
        },
        "id": "bqxI7AtvsX6i",
        "outputId": "c90d25ba-1db5-4bdd-d2c6-293dcb21c3ed"
      },
      "source": [
        "print(\"incorrect label after atack:\",np.argmax(brute_model.predict(np.expand_dims(x_test_adv_pgd[0],axis=0))))\n",
        "\n",
        "print(\"corect label:\", np.argmax(brute_model.predict(np.expand_dims(x_test[0],axis=0))))"
      ],
      "execution_count": null,
      "outputs": [
        {
          "name": "stdout",
          "output_type": "stream",
          "text": [
            "incorrect label after atack: 5\n",
            "corect label: 3\n"
          ]
        }
      ]
    },
    {
      "cell_type": "markdown",
      "metadata": {
        "id": "U39RnJPtskrq"
      },
      "source": [
        "**accuracy after PGD attack**"
      ]
    },
    {
      "cell_type": "code",
      "metadata": {
        "colab": {
          "base_uri": "https://localhost:8080/"
        },
        "id": "tn5eY2PfsYAn",
        "outputId": "d2fd5856-9a56-40d1-ef73-b86f924c8795"
      },
      "source": [
        "from sklearn.metrics import accuracy_score\n",
        "print(\"test accuracy:\",accuracy_score(np.argmax(y_test,axis=1),np.argmax(brute_model.predict(x_test_adv_pgd),axis=1))*100,\"%\")\n",
        "\n",
        "print(\"confusion_matrix:\\n\",confusion_matrix(np.argmax(y_test,axis=1),np.argmax(brute_model.predict(x_test_adv_pgd),axis=1)))\n"
      ],
      "execution_count": null,
      "outputs": [
        {
          "name": "stdout",
          "output_type": "stream",
          "text": [
            "test accuracy: 25.4325 %\n",
            "confusion_matrix:\n",
            " [[1131  168  789  103  306   27   51  162 1051  212]\n",
            " [ 211 1393  129   80   66   38   79   62  555 1387]\n",
            " [ 360   96 1106  430  630  390  436  355  155   42]\n",
            " [  98   72  501  736  371  893  487  470  203  169]\n",
            " [ 117   43  944  337  715  254  504  905  117   64]\n",
            " [  62   61  692  956  265  948  252  620   88   56]\n",
            " [  73  125  624  618  709  447  879  287   98  140]\n",
            " [ 180   59  402  353  704  539  123 1307   78  255]\n",
            " [1359  529  283  135  108   42   80   87  953  424]\n",
            " [ 371 1220  146  124   64   79  117  463  411 1005]]\n"
          ]
        }
      ]
    },
    {
      "cell_type": "code",
      "metadata": {
        "id": "a5qmiAD7s5FZ"
      },
      "source": [
        "from skimage.metrics import structural_similarity as ssim\n",
        "\n",
        "def mean_ssim(x_test,x_test_adv_pgd):\n",
        "  \n",
        "  all_ssims = 0\n",
        "  for i in range(len(x_test)):\n",
        "    all_ssims += ssim(x_test[i],x_test_adv_pgd[i], data_range=x_test_adv_pgd[2].max() - x_test_adv_pgd[2].min(), multichannel=True)\n",
        "\n",
        "  print(\"Avaerage SSIM:\",all_ssims/len(x_test))\n",
        "\n"
      ],
      "execution_count": null,
      "outputs": []
    },
    {
      "cell_type": "code",
      "metadata": {
        "colab": {
          "base_uri": "https://localhost:8080/"
        },
        "id": "Ygci74OTs5Nm",
        "outputId": "277896a7-247a-4609-fc3e-7bb1f21788fa"
      },
      "source": [
        "mean_ssim(x_test,x_test_adv_pgd)"
      ],
      "execution_count": null,
      "outputs": [
        {
          "name": "stdout",
          "output_type": "stream",
          "text": [
            "Avaerage SSIM: 0.9702700729575591\n"
          ]
        }
      ]
    },
    {
      "cell_type": "markdown",
      "metadata": {
        "id": "kaB9ihoQL0_b"
      },
      "source": [
        "#BIM Attack After Adversarial Training"
      ]
    },
    {
      "cell_type": "code",
      "metadata": {
        "colab": {
          "base_uri": "https://localhost:8080/"
        },
        "id": "Blh-VPTsO0Zc",
        "outputId": "f852973b-c3f6-450e-d5d5-5a9d6df83ca6"
      },
      "source": [
        "## mounting drive\n",
        "from google.colab import drive\n",
        "drive.mount('/content/drive')"
      ],
      "execution_count": null,
      "outputs": [
        {
          "name": "stdout",
          "output_type": "stream",
          "text": [
            "Drive already mounted at /content/drive; to attempt to forcibly remount, call drive.mount(\"/content/drive\", force_remount=True).\n"
          ]
        }
      ]
    },
    {
      "cell_type": "code",
      "metadata": {
        "id": "JOwipkjaL0PE"
      },
      "source": [
        "loss_object = tf.keras.losses.CategoricalCrossentropy()\n",
        "classifier = TensorFlowV2Classifier(model=brute_model_adv, nb_classes=10, input_shape=(32, 32, 3), loss_object=loss_object,clip_values=(0, 1), channels_first=False)"
      ],
      "execution_count": null,
      "outputs": []
    },
    {
      "cell_type": "code",
      "metadata": {
        "colab": {
          "base_uri": "https://localhost:8080/",
          "height": 0,
          "referenced_widgets": [
            "511ec7c5e63c49c7bc72857bc7295a4e",
            "a3c0125555504267a07d57af191979fd",
            "1fde1296a2a742aa9e28e5ce77b28578",
            "eb2e7b996a654908b1020a6fff66069a",
            "8dc6736d90f742e78da44577f45df735",
            "03ab2fc63f73455d9b6b134ab3a8c458",
            "ae86b24ef9d54411b3c3c4b043bfc331",
            "aae24507457b4998ab282abd37531a88",
            "736e72dabaa240bcbf1b26689e8229c0",
            "3dd7c6d22b3e4490984e6d9afaaa57e2",
            "7f59aa9e027342d08ef4e84351e46742"
          ]
        },
        "id": "poJc5IJcLvJN",
        "outputId": "dd304bc3-ef90-4dea-fc1a-d344f2a4ba5f"
      },
      "source": [
        "attack_bim = BasicIterativeMethod(estimator=classifier,eps=0.02,batch_size=32)\n",
        "x_test_adv_bim = attack_bim.generate(x_test)\n",
        "print(x_test_adv_bim.shape)"
      ],
      "execution_count": 30,
      "outputs": [
        {
          "data": {
            "application/vnd.jupyter.widget-view+json": {
              "model_id": "511ec7c5e63c49c7bc72857bc7295a4e",
              "version_major": 2,
              "version_minor": 0
            },
            "text/plain": [
              "PGD - Batches: 0it [00:00, ?it/s]"
            ]
          },
          "metadata": {},
          "output_type": "display_data"
        },
        {
          "output_type": "stream",
          "name": "stdout",
          "text": [
            "(40000, 32, 32, 3)\n"
          ]
        }
      ]
    },
    {
      "cell_type": "code",
      "metadata": {
        "id": "7EW-CKkMqj6j"
      },
      "source": [
        "np.save(\"/content/drive/MyDrive/vgg16_cifar10_PA2_dataset/x_test_adv_bim_after_adversarial_training.npy\",x_test_adv_bim)"
      ],
      "execution_count": 31,
      "outputs": []
    },
    {
      "cell_type": "code",
      "metadata": {
        "id": "yLf0JekcPmxQ",
        "colab": {
          "base_uri": "https://localhost:8080/",
          "height": 0
        },
        "outputId": "4ca252c8-a563-4653-e6e2-db98984ba0a6"
      },
      "source": [
        "plt.imshow((x_test_adv_bim[0]*255).astype(np.uint8)) \n",
        "plt.show()\n",
        "\n",
        "plt.imshow((x_test[0]*255).astype(np.uint8))\n",
        "plt.show()\n",
        "\n",
        "plt.imshow(((x_test_adv_bim[0] - x_test[0])*255).astype(np.uint8))\n",
        "plt.show()"
      ],
      "execution_count": 32,
      "outputs": [
        {
          "output_type": "display_data",
          "data": {
            "image/png": "[encoded data removed]",
            "text/plain": [
              "<Figure size 432x288 with 1 Axes>"
            ]
          },
          "metadata": {
            "needs_background": "light"
          }
        },
        {
          "output_type": "display_data",
          "data": {
            "image/png": "[encoded data removed]",
            "text/plain": [
              "<Figure size 432x288 with 1 Axes>"
            ]
          },
          "metadata": {
            "needs_background": "light"
          }
        },
        {
          "output_type": "display_data",
          "data": {
            "image/png": "[encoded data removed]",
            "text/plain": [
              "<Figure size 432x288 with 1 Axes>"
            ]
          },
          "metadata": {
            "needs_background": "light"
          }
        }
      ]
    },
    {
      "cell_type": "code",
      "metadata": {
        "id": "q7LksojEPm0-",
        "colab": {
          "base_uri": "https://localhost:8080/",
          "height": 0
        },
        "outputId": "0c0948f8-fdc7-41b9-e97f-214107fb4e14"
      },
      "source": [
        "plt.imshow((x_test_adv_bim[1]*255).astype(np.uint8))\n",
        "plt.show()\n",
        "\n",
        "plt.imshow((x_test[1]*255).astype(np.uint8))\n",
        "plt.show()\n",
        "\n",
        "plt.imshow(((x_test_adv_bim[1] - x_test[1])*255).astype(np.uint8))\n",
        "plt.show()"
      ],
      "execution_count": 33,
      "outputs": [
        {
          "output_type": "display_data",
          "data": {
            "image/png": "[encoded data removed]",
            "text/plain": [
              "<Figure size 432x288 with 1 Axes>"
            ]
          },
          "metadata": {
            "needs_background": "light"
          }
        },
        {
          "output_type": "display_data",
          "data": {
            "image/png": "[encoded data removed]",
            "text/plain": [
              "<Figure size 432x288 with 1 Axes>"
            ]
          },
          "metadata": {
            "needs_background": "light"
          }
        },
        {
          "output_type": "display_data",
          "data": {
            "image/png": "[encoded data removed]",
            "text/plain": [
              "<Figure size 432x288 with 1 Axes>"
            ]
          },
          "metadata": {
            "needs_background": "light"
          }
        }
      ]
    },
    {
      "cell_type": "markdown",
      "metadata": {
        "id": "hCUs3H-ZPxi0"
      },
      "source": [
        "**checking wrongly predicting**\n"
      ]
    },
    {
      "cell_type": "code",
      "metadata": {
        "id": "QSoSWV4xPm5X",
        "colab": {
          "base_uri": "https://localhost:8080/"
        },
        "outputId": "04051f8d-f1a4-4932-e78f-87d19c491b97"
      },
      "source": [
        "print(\"incorrect label after atack:\",np.argmax(brute_model.predict(np.expand_dims(x_test_adv_bim[0],axis=0))))\n",
        "\n",
        "print(\"corect label:\", np.argmax(brute_model.predict(np.expand_dims(x_test[0],axis=0))))"
      ],
      "execution_count": 34,
      "outputs": [
        {
          "output_type": "stream",
          "name": "stdout",
          "text": [
            "incorrect label after atack: 5\n",
            "corect label: 3\n"
          ]
        }
      ]
    },
    {
      "cell_type": "markdown",
      "metadata": {
        "id": "xNXeT8qaPyON"
      },
      "source": [
        "**Accuracy after BIM attack**"
      ]
    },
    {
      "cell_type": "code",
      "metadata": {
        "id": "nZT2G_fXPyl9",
        "colab": {
          "base_uri": "https://localhost:8080/"
        },
        "outputId": "c9e04aa2-2cd0-46ff-8c94-010010298b50"
      },
      "source": [
        "from sklearn.metrics import accuracy_score,confusion_matrix\n",
        "\n",
        "print(\"test accuracy:\",accuracy_score(np.argmax(y_test,axis=1),np.argmax(brute_model.predict(x_test_adv_bim),axis=1))*100,\"%\")\n",
        "\n",
        "print(\"confusion_matrix:\\n\",confusion_matrix(np.argmax(y_test,axis=1),np.argmax(brute_model.predict(x_test_adv_bim),axis=1)))\n"
      ],
      "execution_count": 35,
      "outputs": [
        {
          "output_type": "stream",
          "name": "stdout",
          "text": [
            "test accuracy: 25.4325 %\n",
            "confusion_matrix:\n",
            " [[1131  168  789  103  306   27   51  162 1051  212]\n",
            " [ 211 1393  129   80   66   38   79   62  555 1387]\n",
            " [ 360   96 1106  430  630  390  436  355  155   42]\n",
            " [  98   72  501  736  371  893  487  470  203  169]\n",
            " [ 117   43  944  337  715  254  505  905  116   64]\n",
            " [  62   61  691  957  265  948  252  620   88   56]\n",
            " [  73  125  624  618  709  447  879  287   98  140]\n",
            " [ 180   59  402  353  704  539  123 1307   78  255]\n",
            " [1359  529  283  135  108   42   80   87  953  424]\n",
            " [ 371 1220  146  124   64   79  117  463  411 1005]]\n"
          ]
        }
      ]
    },
    {
      "cell_type": "code",
      "metadata": {
        "id": "EMRnRX9oPy5y"
      },
      "source": [
        "from skimage.metrics import structural_similarity as ssim\n",
        "\n",
        "def mean_ssim(x_test,x_test_adv_bim):\n",
        "  \n",
        "  all_ssims = 0\n",
        "  for i in range(len(x_test)):\n",
        "    all_ssims += ssim(x_test[i],x_test_adv_bim[i], data_range=x_test_adv_bim[2].max() - x_test_adv_bim[2].min(), multichannel=True)\n",
        "\n",
        "  print(\"Avaerage SSIM:\",all_ssims/len(x_test))\n"
      ],
      "execution_count": null,
      "outputs": []
    },
    {
      "cell_type": "code",
      "metadata": {
        "id": "Ktne4x5jP4UU",
        "colab": {
          "base_uri": "https://localhost:8080/"
        },
        "outputId": "05780daa-219e-4438-a3d4-83854dcd158b"
      },
      "source": [
        "mean_ssim(x_test,x_test_adv_bim)"
      ],
      "execution_count": 37,
      "outputs": [
        {
          "metadata": {
            "tags": null
          },
          "name": "stdout",
          "output_type": "stream",
          "text": [
            "Avaerage SSIM: 0.9702701644967517\n"
          ]
        }
      ]
    },
    {
      "cell_type": "markdown",
      "metadata": {
        "id": "xVuKho967zzk"
      },
      "source": [
        "# Perturbation magnitude histogram Attack After Adversarial Training"
      ]
    },
    {
      "cell_type": "code",
      "metadata": {
        "colab": {
          "base_uri": "https://localhost:8080/"
        },
        "id": "HjWRY58Y0Kin",
        "outputId": "2a606829-8153-4ed4-a09c-851c336e2002"
      },
      "source": [
        "from google.colab import drive\n",
        "drive.mount('/content/drive')"
      ],
      "execution_count": 2,
      "outputs": [
        {
          "output_type": "stream",
          "name": "stdout",
          "text": [
            "Mounted at /content/drive\n"
          ]
        }
      ]
    },
    {
      "cell_type": "code",
      "metadata": {
        "id": "iVw8iBpPPm-4"
      },
      "source": [
        "import matplotlib.pyplot as plt\n",
        "def Magnitude_of_perturbation(x_test_adversarial,x_test_original):\n",
        "\n",
        "  histo_array = []\n",
        "  histo_dict = dict()\n",
        "\n",
        "  for i in range(len(x_test_original)):\n",
        "    \n",
        "    mean_perturbation = np.mean(np.abs(x_test_adversarial[i] - x_test_original[i]))\n",
        "    histo_array.append(mean_perturbation)\n",
        "    if np.round(mean_perturbation,3) not in histo_dict:\n",
        "      histo_dict[np.round(mean_perturbation,3)] = 1\n",
        "\n",
        "    elif np.round(mean_perturbation,3) in histo_dict:\n",
        "      histo_dict[np.round(mean_perturbation,3)] += 1\n",
        "\n",
        "  print(histo_dict)\n",
        "  plt.hist(histo_array)\n",
        "  plt.show()"
      ],
      "execution_count": 3,
      "outputs": []
    },
    {
      "cell_type": "markdown",
      "metadata": {
        "id": "CaTakXip75ip"
      },
      "source": [
        "**FGSM**"
      ]
    },
    {
      "cell_type": "code",
      "metadata": {
        "id": "A4CwHc5r7zLh"
      },
      "source": [
        "x_test = np.load(\"/content/drive/MyDrive/vgg16_cifar10_PA2_dataset/x_test.npy\")\n",
        "x_test_adv_fgsm = np.load(\"/content/drive/MyDrive/vgg16_cifar10_PA2_dataset/x_test_adv_fgsm_after_adversarial_training.npy\")"
      ],
      "execution_count": 7,
      "outputs": []
    },
    {
      "cell_type": "code",
      "metadata": {
        "colab": {
          "base_uri": "https://localhost:8080/",
          "height": 284
        },
        "id": "eNIc4oJg0_jr",
        "outputId": "5ba50212-f1b6-4654-aecf-26a66ac2745a"
      },
      "source": [
        "Magnitude_of_perturbation(x_test_adv_fgsm,x_test)"
      ],
      "execution_count": 8,
      "outputs": [
        {
          "output_type": "stream",
          "name": "stdout",
          "text": [
            "{0.02: 8978, 0.019: 588, 0.017: 109, 0.016: 69, 0.014: 19, 0.018: 188, 0.013: 6, 0.015: 41, 0.012: 2}\n"
          ]
        },
        {
          "output_type": "display_data",
          "data": {
            "image/png": "[encoded data removed]",
            "text/plain": [
              "<Figure size 432x288 with 1 Axes>"
            ]
          },
          "metadata": {
            "needs_background": "light"
          }
        }
      ]
    },
    {
      "cell_type": "markdown",
      "metadata": {
        "id": "zuKRl6TsCTX_"
      },
      "source": [
        "**PGD**"
      ]
    },
    {
      "cell_type": "code",
      "metadata": {
        "id": "rMtXxPud9DU6"
      },
      "source": [
        "x_test_adv_pgd = np.load(\"/content/drive/MyDrive/vgg16_cifar10_PA2_dataset/x_test_adv_pgd_after_adversarial_training.npy\") \n"
      ],
      "execution_count": 9,
      "outputs": []
    },
    {
      "cell_type": "code",
      "metadata": {
        "colab": {
          "base_uri": "https://localhost:8080/",
          "height": 284
        },
        "id": "6ALYr814Cd3G",
        "outputId": "b2b4b1f2-76bc-42af-eea8-69c2dcd3fa1b"
      },
      "source": [
        "Magnitude_of_perturbation(x_test_adv_pgd,x_test)"
      ],
      "execution_count": 10,
      "outputs": [
        {
          "output_type": "stream",
          "name": "stdout",
          "text": [
            "{0.02: 8977, 0.019: 596, 0.017: 109, 0.014: 18, 0.018: 191, 0.016: 65, 0.015: 36, 0.013: 7, 0.011: 1}\n"
          ]
        },
        {
          "output_type": "display_data",
          "data": {
            "image/png": "[encoded data removed]",
            "text/plain": [
              "<Figure size 432x288 with 1 Axes>"
            ]
          },
          "metadata": {
            "needs_background": "light"
          }
        }
      ]
    },
    {
      "cell_type": "markdown",
      "metadata": {
        "id": "3de3CVPcCgOU"
      },
      "source": [
        "**BIM**"
      ]
    },
    {
      "cell_type": "code",
      "metadata": {
        "id": "oOxdgIMECfkc"
      },
      "source": [
        "x_test_adv_bim = np.load(\"/content/drive/MyDrive/vgg16_cifar10_PA2_dataset/x_test_adv_bim_after_adversarial_training.npy\") "
      ],
      "execution_count": 11,
      "outputs": []
    },
    {
      "cell_type": "code",
      "metadata": {
        "colab": {
          "base_uri": "https://localhost:8080/",
          "height": 284
        },
        "id": "PhfEIOVDCoxn",
        "outputId": "baad1cf6-5d58-4c85-9599-d2bdf17ea1a8"
      },
      "source": [
        "Magnitude_of_perturbation(x_test_adv_bim,x_test)"
      ],
      "execution_count": 12,
      "outputs": [
        {
          "output_type": "stream",
          "name": "stdout",
          "text": [
            "{0.02: 8977, 0.019: 596, 0.017: 109, 0.014: 18, 0.018: 191, 0.016: 65, 0.015: 36, 0.013: 7, 0.011: 1}\n"
          ]
        },
        {
          "output_type": "display_data",
          "data": {
            "image/png": "[encoded data removed]",
            "text/plain": [
              "<Figure size 432x288 with 1 Axes>"
            ]
          },
          "metadata": {
            "needs_background": "light"
          }
        }
      ]
    }
  ]
}