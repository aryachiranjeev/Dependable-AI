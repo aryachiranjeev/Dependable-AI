{
  "nbformat": 4,
  "nbformat_minor": 0,
  "metadata": {
    "accelerator": "GPU",
    "colab": {
      "name": "P21CS007_compression.ipynb",
      "provenance": [],
      "collapsed_sections": []
    },
    "kernelspec": {
      "display_name": "Python 3",
      "name": "python3"
    },
    "language_info": {
      "name": "python"
    }
  },
  "cells": [
    {
      "cell_type": "code",
      "metadata": {
        "id": "YwszdPCMVYq-"
      },
      "source": [
        "import keras\n",
        "from keras.models import Model\n",
        "import numpy as np\n",
        "import matplotlib.pyplot as plt\n",
        "import tensorflow as tf\n",
        "from sklearn.metrics import confusion_matrix"
      ],
      "execution_count": 11,
      "outputs": []
    },
    {
      "cell_type": "markdown",
      "metadata": {
        "id": "1rhgQ_V2LdcC"
      },
      "source": [
        "# JPEG COMPRESSION"
      ]
    },
    {
      "cell_type": "code",
      "metadata": {
        "id": "YAnHnDoMgGsC"
      },
      "source": [
        "from PIL import Image\n",
        "import numpy as np"
      ],
      "execution_count": 3,
      "outputs": []
    },
    {
      "cell_type": "markdown",
      "metadata": {
        "id": "dmEA76-qd_q-"
      },
      "source": [
        "FGSM COMPRESSION"
      ]
    },
    {
      "cell_type": "code",
      "metadata": {
        "id": "AwyO8kmehEnA"
      },
      "source": [
        "x_test_adv_fgsm = np.load(\"/content/drive/MyDrive/vgg16_cifar10_PA2_dataset/x_test_adv_fgsm.npy\")"
      ],
      "execution_count": 5,
      "outputs": []
    },
    {
      "cell_type": "code",
      "metadata": {
        "id": "Bha9cIek3CuY"
      },
      "source": [
        "y_test = np.load(\"/content/drive/MyDrive/vgg16_cifar10_PA2_dataset/y_test.npy\")"
      ],
      "execution_count": 6,
      "outputs": []
    },
    {
      "cell_type": "code",
      "metadata": {
        "id": "J4tNtFQkLcyE"
      },
      "source": [
        "for i in range(len(x_test_adv_fgsm)):\n",
        "\n",
        "  PIL_image = Image.fromarray(np.uint8(x_test_adv_fgsm[i]*255)).convert('RGB')\n",
        "  PIL_image.save(\"/content/drive/MyDrive/JPEG_DAI/FGSM_20/Compressed_20_x_test_adv_fgsm\"+str(i)+\".jpeg\",optimize = True, quality = 40)\n",
        "  PIL_image.save(\"/content/drive/MyDrive/JPEG_DAI/FGSM_40/Compressed_40_x_test_adv_fgsm\"+str(i)+\".jpeg\",optimize = True, quality = 70)\n",
        "  "
      ],
      "execution_count": 18,
      "outputs": []
    },
    {
      "cell_type": "markdown",
      "metadata": {
        "id": "ncU8ZRvzdoPw"
      },
      "source": [
        "BIM COMPRESSION"
      ]
    },
    {
      "cell_type": "code",
      "metadata": {
        "id": "eBapt2bZhk6q"
      },
      "source": [
        "x_test_adv_bim = np.load(\"/content/drive/MyDrive/vgg16_cifar10_PA2_dataset/x_test_adv_bim.npy\")"
      ],
      "execution_count": 33,
      "outputs": []
    },
    {
      "cell_type": "code",
      "metadata": {
        "id": "WODd_R67C5SN"
      },
      "source": [
        "for i in range(len(x_test_adv_bim)):\n",
        "  print(i)\n",
        "  PIL_image = Image.fromarray(np.uint8(x_test_adv_bim[i]*255)).convert('RGB')\n",
        "  PIL_image.save(\"/content/drive/MyDrive/JPEG_DAI/BIM_20/Compressed_20_x_test_adv_bim\"+str(i)+\".jpeg\",optimize = True, quality = 40)\n",
        "  PIL_image.save(\"/content/drive/MyDrive/JPEG_DAI/BIM_40/Compressed_40_x_test_adv_bim\"+str(i)+\".jpeg\",optimize = True, quality = 70)\n",
        "  "
      ],
      "execution_count": 35,
      "outputs": []
    },
    {
      "cell_type": "markdown",
      "metadata": {
        "id": "7yTYtll4drBh"
      },
      "source": [
        "PGD COMPRESSION"
      ]
    },
    {
      "cell_type": "code",
      "metadata": {
        "id": "KYlZqZrnhzRi"
      },
      "source": [
        "x_test_adv_pgd = np.load(\"/content/drive/MyDrive/vgg16_cifar10_PA2_dataset/x_test_adv_pgd.npy\")"
      ],
      "execution_count": 39,
      "outputs": []
    },
    {
      "cell_type": "code",
      "metadata": {
        "id": "86-3YEKDdm72"
      },
      "source": [
        "for i in range(len(x_test_adv_pgd)):\n",
        "\n",
        "  PIL_image = Image.fromarray(np.uint8(x_test_adv_pgd[i]*255)).convert('RGB')\n",
        "  PIL_image.save(\"/content/drive/MyDrive/JPEG_DAI/PGD_20/Compressed_20_x_test_adv_pgd\"+str(i)+\".jpeg\",optimize = True, quality = 50)\n",
        "  PIL_image.save(\"/content/drive/MyDrive/JPEG_DAI/PGD_40/Compressed_40_x_test_adv_pgd\"+str(i)+\".jpeg\",optimize = True, quality = 70)\n",
        "  "
      ],
      "execution_count": 40,
      "outputs": []
    },
    {
      "cell_type": "markdown",
      "metadata": {
        "id": "2Tz1-B_Juwm4"
      },
      "source": [
        "# Calculating performance of jpeg compression "
      ]
    },
    {
      "cell_type": "code",
      "metadata": {
        "id": "DjLA3Wu4uvgA"
      },
      "source": [
        "import glob\n",
        "import numpy as np"
      ],
      "execution_count": 4,
      "outputs": []
    },
    {
      "cell_type": "markdown",
      "metadata": {
        "id": "bFAR4qcdu1Yx"
      },
      "source": [
        "**fgsm 40**"
      ]
    },
    {
      "cell_type": "code",
      "metadata": {
        "id": "60SDUEBsuvpY"
      },
      "source": [
        "files = glob.glob(\"/content/drive/MyDrive/JPEG_DAI/FGSM_20/*\")"
      ],
      "execution_count": 16,
      "outputs": []
    },
    {
      "cell_type": "code",
      "metadata": {
        "id": "zkpuHa1F5ggh"
      },
      "source": [
        "y_test = np.load(\"/content/drive/MyDrive/vgg16_cifar10_PA2_dataset/y_test.npy\")"
      ],
      "execution_count": 13,
      "outputs": []
    },
    {
      "cell_type": "code",
      "metadata": {
        "id": "BTB5-S7Yuvr2"
      },
      "source": [
        "x_test = []\n",
        "for f in files:\n",
        "  img = Image.open(f)\n",
        "  img = np.array(img)\n",
        "  x_test.append(img)\n",
        "x_test = np.array(x_test)"
      ],
      "execution_count": 14,
      "outputs": []
    },
    {
      "cell_type": "code",
      "metadata": {
        "id": "TUSUc8-M5BUx",
        "colab": {
          "base_uri": "https://localhost:8080/"
        },
        "outputId": "edcfab2d-15d0-4ab9-dbce-68cf9f6baf62"
      },
      "source": [
        "brute_model = tf.keras.models.load_model(\"/content/drive/MyDrive/vgg16_cifar10_PA2\")\n",
        "y_pred = np.argmax(brute_model.predict(x_test),axis=1)\n",
        "from sklearn.metrics import accuracy_score\n",
        "accuracy_score(np.argmax(y_test,axis=1),y_pred)"
      ],
      "execution_count": 19,
      "outputs": [
        {
          "output_type": "stream",
          "name": "stdout",
          "text": [
            "0.2612\n"
          ]
        }
      ]
    },
    {
      "cell_type": "markdown",
      "metadata": {
        "id": "eyoFoMXtO_80"
      },
      "source": [
        "**fgsm 70**"
      ]
    },
    {
      "cell_type": "code",
      "metadata": {
        "colab": {
          "base_uri": "https://localhost:8080/"
        },
        "id": "K_WgjO4FPE5h",
        "outputId": "2781c28b-632c-470f-cb33-b160fc19cd5f"
      },
      "source": [
        "files = glob.glob(\"/content/drive/MyDrive/JPEG_DAI/FGSM_40/*\")\n",
        "x_test = []\n",
        "for f in files:\n",
        "  img = Image.open(f)\n",
        "  img = np.array(img)\n",
        "  x_test.append(img)\n",
        "x_test = np.array(x_test)\n",
        "\n",
        "y_pred = np.argmax(brute_model.predict(x_test),axis=1)\n",
        "from sklearn.metrics import accuracy_score\n",
        "accuracy_score(np.argmax(y_test,axis=1),y_pred)"
      ],
      "execution_count": 36,
      "outputs": [
        {
          "output_type": "execute_result",
          "data": {
            "text/plain": [
              "0.2592"
            ]
          },
          "metadata": {},
          "execution_count": 36
        }
      ]
    },
    {
      "cell_type": "markdown",
      "metadata": {
        "id": "jtK3YN9LPYNY"
      },
      "source": [
        "**BIM 40** "
      ]
    },
    {
      "cell_type": "code",
      "metadata": {
        "colab": {
          "base_uri": "https://localhost:8080/"
        },
        "id": "-hyH5LoWPji4",
        "outputId": "bba61dd3-eebf-447d-96d1-63b305770ab2"
      },
      "source": [
        "files = glob.glob(\"/content/drive/MyDrive/JPEG_DAI/BIM_20/*\")\n",
        "x_test = []\n",
        "for f in files:\n",
        "  img = Image.open(f)\n",
        "  img = np.array(img)\n",
        "  x_test.append(img)\n",
        "x_test = np.array(x_test)\n",
        "\n",
        "y_pred = np.argmax(brute_model.predict(x_test),axis=1)\n",
        "from sklearn.metrics import accuracy_score\n",
        "accuracy_score(np.argmax(y_test,axis=1),y_pred)"
      ],
      "execution_count": 37,
      "outputs": [
        {
          "output_type": "execute_result",
          "data": {
            "text/plain": [
              "0.2895"
            ]
          },
          "metadata": {},
          "execution_count": 37
        }
      ]
    },
    {
      "cell_type": "markdown",
      "metadata": {
        "id": "2AvTwLeRP0HA"
      },
      "source": [
        "**BIM 70**"
      ]
    },
    {
      "cell_type": "code",
      "metadata": {
        "colab": {
          "base_uri": "https://localhost:8080/"
        },
        "id": "W_iwB3hVP3V2",
        "outputId": "90158cf4-b98e-4942-ab82-7c9ca5d0aa91"
      },
      "source": [
        "files = glob.glob(\"/content/drive/MyDrive/JPEG_DAI/BIM_40/*\")\n",
        "x_test = []\n",
        "for f in files:\n",
        "  img = Image.open(f)\n",
        "  img = np.array(img)\n",
        "  x_test.append(img)\n",
        "x_test = np.array(x_test)\n",
        "\n",
        "y_pred = np.argmax(brute_model.predict(x_test),axis=1)\n",
        "from sklearn.metrics import accuracy_score\n",
        "accuracy_score(np.argmax(y_test,axis=1),y_pred)"
      ],
      "execution_count": 38,
      "outputs": [
        {
          "output_type": "execute_result",
          "data": {
            "text/plain": [
              "0.2818"
            ]
          },
          "metadata": {},
          "execution_count": 38
        }
      ]
    },
    {
      "cell_type": "markdown",
      "metadata": {
        "id": "l-eilZ5RPirg"
      },
      "source": [
        "**PGD 40**"
      ]
    },
    {
      "cell_type": "code",
      "metadata": {
        "colab": {
          "base_uri": "https://localhost:8080/"
        },
        "id": "NYu_ZYdPPi88",
        "outputId": "74ed0a7b-f532-471e-964c-508b201ffd96"
      },
      "source": [
        "files = glob.glob(\"/content/drive/MyDrive/JPEG_DAI/PGD_20/*\")\n",
        "x_test = []\n",
        "for f in files:\n",
        "  img = Image.open(f)\n",
        "  img = np.array(img)\n",
        "  x_test.append(img)\n",
        "x_test = np.array(x_test)\n",
        "\n",
        "y_pred = np.argmax(brute_model.predict(x_test),axis=1)\n",
        "from sklearn.metrics import accuracy_score\n",
        "accuracy_score(np.argmax(y_test,axis=1),y_pred)"
      ],
      "execution_count": 41,
      "outputs": [
        {
          "output_type": "execute_result",
          "data": {
            "text/plain": [
              "0.2851"
            ]
          },
          "metadata": {},
          "execution_count": 41
        }
      ]
    },
    {
      "cell_type": "markdown",
      "metadata": {
        "id": "hVkIhPxyRf5y"
      },
      "source": [
        "**PGD 70**\n"
      ]
    },
    {
      "cell_type": "code",
      "metadata": {
        "colab": {
          "base_uri": "https://localhost:8080/"
        },
        "id": "U_fNujT9Rsr2",
        "outputId": "1805189c-7c63-4e7e-9684-7f8bf9309cbd"
      },
      "source": [
        "files = glob.glob(\"/content/drive/MyDrive/JPEG_DAI/PGD_40/*\")\n",
        "x_test = []\n",
        "for f in files:\n",
        "  img = Image.open(f)\n",
        "  img = np.array(img)\n",
        "  x_test.append(img)\n",
        "x_test = np.array(x_test)\n",
        "\n",
        "y_pred = np.argmax(brute_model.predict(x_test),axis=1)\n",
        "from sklearn.metrics import accuracy_score\n",
        "accuracy_score(np.argmax(y_test,axis=1),y_pred)"
      ],
      "execution_count": 42,
      "outputs": [
        {
          "output_type": "execute_result",
          "data": {
            "text/plain": [
              "0.2832"
            ]
          },
          "metadata": {},
          "execution_count": 42
        }
      ]
    }
  ]
}